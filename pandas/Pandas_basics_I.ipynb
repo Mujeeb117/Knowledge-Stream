{
 "cells": [
  {
   "cell_type": "code",
   "execution_count": 28,
   "metadata": {
    "id": "c_eVXa9OPtvB"
   },
   "outputs": [],
   "source": [
    "import pandas as pd # A general purpose Python library for data analysis\n",
    "import numpy as np # A library for scientific computing in Python (e.g., provides high-performance multi-dimensional array objects and operations)\n",
    "\n",
    "import matplotlib.pyplot as plt # a plotting library for Python and NumPy (readily customizable)\n",
    "import seaborn as sns # Another plotting library for Python (fewer syntax, excellent default themes, behind the scenes, it uses matplotlib)\n",
    "import time"
   ]
  },
  {
   "cell_type": "markdown",
   "metadata": {
    "id": "PSdsojacPtvD"
   },
   "source": [
    "## Knowledge Stream Summer 2023\n",
    "\n",
    "In this notebook, we will learn about the key data structures provided by the Pandas library: **Data Frames, Series, and Indices**.\n",
    "\n",
    "In addition, we will learn about the following operations:\n",
    "* How to access data contained in these structures?\n",
    "* How to read files (e.g., csv, xlsx, sql) to create these structures?\n",
    "* How to carry out different data manipulation tasks using these structures?\n",
    "\n",
    "`Dataset`: US elections with information about candidates, their party, votes won, year of election and the result."
   ]
  },
  {
   "cell_type": "markdown",
   "metadata": {
    "id": "sufDZrcePtvF"
   },
   "source": [
    "## Reading in Data Frames from Files"
   ]
  },
  {
   "cell_type": "markdown",
   "metadata": {
    "id": "SKvAs5UMPtvG"
   },
   "source": [
    "Pandas has a number of useful file reading tools. You can see them enumerated by typing **\"pd.re\"** and pressing `tab`. We'll be using **read_csv** today. Note that these file reading functions do all the *data parsing* for you, which is very useful."
   ]
  },
  {
   "cell_type": "markdown",
   "metadata": {
    "id": "wAchNI6BPtvG"
   },
   "source": [
    "Before loading a file into a dataframe, let's first take a look at the **elections.csv** file"
   ]
  },
  {
   "cell_type": "code",
   "execution_count": 2,
   "metadata": {
    "id": "vQruwj5rPtvG",
    "scrolled": true
   },
   "outputs": [
    {
     "name": "stdout",
     "output_type": "stream",
     "text": [
      "     Year          Candidate                  Party  Popular vote Result  \\\n",
      "0    1824     Andrew Jackson  Democratic-Republican        151271   loss   \n",
      "1    1824  John Quincy Adams  Democratic-Republican        113142    win   \n",
      "2    1828     Andrew Jackson             Democratic        642806    win   \n",
      "3    1828  John Quincy Adams    National Republican        500897   loss   \n",
      "4    1832     Andrew Jackson             Democratic        702735    win   \n",
      "..    ...                ...                    ...           ...    ...   \n",
      "177  2016         Jill Stein                  Green       1457226   loss   \n",
      "178  2020       Joseph Biden             Democratic      81268924    win   \n",
      "179  2020       Donald Trump             Republican      74216154   loss   \n",
      "180  2020       Jo Jorgensen            Libertarian       1865724   loss   \n",
      "181  2020     Howard Hawkins                  Green        405035   loss   \n",
      "\n",
      "             %  \n",
      "0    57.210122  \n",
      "1    42.789878  \n",
      "2    56.203927  \n",
      "3    43.796073  \n",
      "4    54.574789  \n",
      "..         ...  \n",
      "177   1.073699  \n",
      "178  51.311515  \n",
      "179  46.858542  \n",
      "180   1.177979  \n",
      "181   0.255731  \n",
      "\n",
      "[182 rows x 6 columns]\n"
     ]
    }
   ],
   "source": [
    "#Answer Here\n",
    "df=pd.read_csv('elections.csv')\n",
    "print(df)"
   ]
  },
  {
   "cell_type": "markdown",
   "metadata": {
    "id": "DFG0R-hvPtvH"
   },
   "source": [
    "We can use the **head command** to show only a few rows of a dataframe."
   ]
  },
  {
   "cell_type": "markdown",
   "metadata": {
    "id": "bHoeuiciPtvH"
   },
   "source": [
    "# heading\n",
    "## heading2"
   ]
  },
  {
   "cell_type": "code",
   "execution_count": 3,
   "metadata": {
    "id": "ft8isrsOPtvI"
   },
   "outputs": [
    {
     "data": {
      "text/html": [
       "<div>\n",
       "<style scoped>\n",
       "    .dataframe tbody tr th:only-of-type {\n",
       "        vertical-align: middle;\n",
       "    }\n",
       "\n",
       "    .dataframe tbody tr th {\n",
       "        vertical-align: top;\n",
       "    }\n",
       "\n",
       "    .dataframe thead th {\n",
       "        text-align: right;\n",
       "    }\n",
       "</style>\n",
       "<table border=\"1\" class=\"dataframe\">\n",
       "  <thead>\n",
       "    <tr style=\"text-align: right;\">\n",
       "      <th></th>\n",
       "      <th>Year</th>\n",
       "      <th>Candidate</th>\n",
       "      <th>Party</th>\n",
       "      <th>Popular vote</th>\n",
       "      <th>Result</th>\n",
       "      <th>%</th>\n",
       "    </tr>\n",
       "  </thead>\n",
       "  <tbody>\n",
       "    <tr>\n",
       "      <th>0</th>\n",
       "      <td>1824</td>\n",
       "      <td>Andrew Jackson</td>\n",
       "      <td>Democratic-Republican</td>\n",
       "      <td>151271</td>\n",
       "      <td>loss</td>\n",
       "      <td>57.210122</td>\n",
       "    </tr>\n",
       "    <tr>\n",
       "      <th>1</th>\n",
       "      <td>1824</td>\n",
       "      <td>John Quincy Adams</td>\n",
       "      <td>Democratic-Republican</td>\n",
       "      <td>113142</td>\n",
       "      <td>win</td>\n",
       "      <td>42.789878</td>\n",
       "    </tr>\n",
       "    <tr>\n",
       "      <th>2</th>\n",
       "      <td>1828</td>\n",
       "      <td>Andrew Jackson</td>\n",
       "      <td>Democratic</td>\n",
       "      <td>642806</td>\n",
       "      <td>win</td>\n",
       "      <td>56.203927</td>\n",
       "    </tr>\n",
       "    <tr>\n",
       "      <th>3</th>\n",
       "      <td>1828</td>\n",
       "      <td>John Quincy Adams</td>\n",
       "      <td>National Republican</td>\n",
       "      <td>500897</td>\n",
       "      <td>loss</td>\n",
       "      <td>43.796073</td>\n",
       "    </tr>\n",
       "    <tr>\n",
       "      <th>4</th>\n",
       "      <td>1832</td>\n",
       "      <td>Andrew Jackson</td>\n",
       "      <td>Democratic</td>\n",
       "      <td>702735</td>\n",
       "      <td>win</td>\n",
       "      <td>54.574789</td>\n",
       "    </tr>\n",
       "    <tr>\n",
       "      <th>5</th>\n",
       "      <td>1832</td>\n",
       "      <td>Henry Clay</td>\n",
       "      <td>National Republican</td>\n",
       "      <td>484205</td>\n",
       "      <td>loss</td>\n",
       "      <td>37.603628</td>\n",
       "    </tr>\n",
       "    <tr>\n",
       "      <th>6</th>\n",
       "      <td>1832</td>\n",
       "      <td>William Wirt</td>\n",
       "      <td>Anti-Masonic</td>\n",
       "      <td>100715</td>\n",
       "      <td>loss</td>\n",
       "      <td>7.821583</td>\n",
       "    </tr>\n",
       "    <tr>\n",
       "      <th>7</th>\n",
       "      <td>1836</td>\n",
       "      <td>Hugh Lawson White</td>\n",
       "      <td>Whig</td>\n",
       "      <td>146109</td>\n",
       "      <td>loss</td>\n",
       "      <td>10.005985</td>\n",
       "    </tr>\n",
       "    <tr>\n",
       "      <th>8</th>\n",
       "      <td>1836</td>\n",
       "      <td>Martin Van Buren</td>\n",
       "      <td>Democratic</td>\n",
       "      <td>763291</td>\n",
       "      <td>win</td>\n",
       "      <td>52.272472</td>\n",
       "    </tr>\n",
       "    <tr>\n",
       "      <th>9</th>\n",
       "      <td>1836</td>\n",
       "      <td>William Henry Harrison</td>\n",
       "      <td>Whig</td>\n",
       "      <td>550816</td>\n",
       "      <td>loss</td>\n",
       "      <td>37.721543</td>\n",
       "    </tr>\n",
       "  </tbody>\n",
       "</table>\n",
       "</div>"
      ],
      "text/plain": [
       "   Year               Candidate                  Party  Popular vote Result  \\\n",
       "0  1824          Andrew Jackson  Democratic-Republican        151271   loss   \n",
       "1  1824       John Quincy Adams  Democratic-Republican        113142    win   \n",
       "2  1828          Andrew Jackson             Democratic        642806    win   \n",
       "3  1828       John Quincy Adams    National Republican        500897   loss   \n",
       "4  1832          Andrew Jackson             Democratic        702735    win   \n",
       "5  1832              Henry Clay    National Republican        484205   loss   \n",
       "6  1832            William Wirt           Anti-Masonic        100715   loss   \n",
       "7  1836       Hugh Lawson White                   Whig        146109   loss   \n",
       "8  1836        Martin Van Buren             Democratic        763291    win   \n",
       "9  1836  William Henry Harrison                   Whig        550816   loss   \n",
       "\n",
       "           %  \n",
       "0  57.210122  \n",
       "1  42.789878  \n",
       "2  56.203927  \n",
       "3  43.796073  \n",
       "4  54.574789  \n",
       "5  37.603628  \n",
       "6   7.821583  \n",
       "7  10.005985  \n",
       "8  52.272472  \n",
       "9  37.721543  "
      ]
     },
     "execution_count": 3,
     "metadata": {},
     "output_type": "execute_result"
    }
   ],
   "source": [
    "# Answer Here\n",
    "df.head(10)"
   ]
  },
  {
   "cell_type": "markdown",
   "metadata": {
    "id": "k2hQ-7gCPtvI"
   },
   "source": [
    "There is also a **tail command**."
   ]
  },
  {
   "cell_type": "code",
   "execution_count": 4,
   "metadata": {
    "id": "Hd90_fIZPtvI"
   },
   "outputs": [
    {
     "data": {
      "text/html": [
       "<div>\n",
       "<style scoped>\n",
       "    .dataframe tbody tr th:only-of-type {\n",
       "        vertical-align: middle;\n",
       "    }\n",
       "\n",
       "    .dataframe tbody tr th {\n",
       "        vertical-align: top;\n",
       "    }\n",
       "\n",
       "    .dataframe thead th {\n",
       "        text-align: right;\n",
       "    }\n",
       "</style>\n",
       "<table border=\"1\" class=\"dataframe\">\n",
       "  <thead>\n",
       "    <tr style=\"text-align: right;\">\n",
       "      <th></th>\n",
       "      <th>Year</th>\n",
       "      <th>Candidate</th>\n",
       "      <th>Party</th>\n",
       "      <th>Popular vote</th>\n",
       "      <th>Result</th>\n",
       "      <th>%</th>\n",
       "    </tr>\n",
       "  </thead>\n",
       "  <tbody>\n",
       "    <tr>\n",
       "      <th>177</th>\n",
       "      <td>2016</td>\n",
       "      <td>Jill Stein</td>\n",
       "      <td>Green</td>\n",
       "      <td>1457226</td>\n",
       "      <td>loss</td>\n",
       "      <td>1.073699</td>\n",
       "    </tr>\n",
       "    <tr>\n",
       "      <th>178</th>\n",
       "      <td>2020</td>\n",
       "      <td>Joseph Biden</td>\n",
       "      <td>Democratic</td>\n",
       "      <td>81268924</td>\n",
       "      <td>win</td>\n",
       "      <td>51.311515</td>\n",
       "    </tr>\n",
       "    <tr>\n",
       "      <th>179</th>\n",
       "      <td>2020</td>\n",
       "      <td>Donald Trump</td>\n",
       "      <td>Republican</td>\n",
       "      <td>74216154</td>\n",
       "      <td>loss</td>\n",
       "      <td>46.858542</td>\n",
       "    </tr>\n",
       "    <tr>\n",
       "      <th>180</th>\n",
       "      <td>2020</td>\n",
       "      <td>Jo Jorgensen</td>\n",
       "      <td>Libertarian</td>\n",
       "      <td>1865724</td>\n",
       "      <td>loss</td>\n",
       "      <td>1.177979</td>\n",
       "    </tr>\n",
       "    <tr>\n",
       "      <th>181</th>\n",
       "      <td>2020</td>\n",
       "      <td>Howard Hawkins</td>\n",
       "      <td>Green</td>\n",
       "      <td>405035</td>\n",
       "      <td>loss</td>\n",
       "      <td>0.255731</td>\n",
       "    </tr>\n",
       "  </tbody>\n",
       "</table>\n",
       "</div>"
      ],
      "text/plain": [
       "     Year       Candidate        Party  Popular vote Result          %\n",
       "177  2016      Jill Stein        Green       1457226   loss   1.073699\n",
       "178  2020    Joseph Biden   Democratic      81268924    win  51.311515\n",
       "179  2020    Donald Trump   Republican      74216154   loss  46.858542\n",
       "180  2020    Jo Jorgensen  Libertarian       1865724   loss   1.177979\n",
       "181  2020  Howard Hawkins        Green        405035   loss   0.255731"
      ]
     },
     "execution_count": 4,
     "metadata": {},
     "output_type": "execute_result"
    }
   ],
   "source": [
    "#Answer Here\n",
    "df.tail(5)"
   ]
  },
  {
   "cell_type": "markdown",
   "metadata": {
    "id": "rts8fQn7PtvI"
   },
   "source": [
    "The `read_csv` command lets us specify a **column to use an index**. For example, we could have used __Year__ as the index."
   ]
  },
  {
   "cell_type": "code",
   "execution_count": 5,
   "metadata": {
    "id": "r3-biPiJPtvI"
   },
   "outputs": [
    {
     "data": {
      "text/html": [
       "<div>\n",
       "<style scoped>\n",
       "    .dataframe tbody tr th:only-of-type {\n",
       "        vertical-align: middle;\n",
       "    }\n",
       "\n",
       "    .dataframe tbody tr th {\n",
       "        vertical-align: top;\n",
       "    }\n",
       "\n",
       "    .dataframe thead th {\n",
       "        text-align: right;\n",
       "    }\n",
       "</style>\n",
       "<table border=\"1\" class=\"dataframe\">\n",
       "  <thead>\n",
       "    <tr style=\"text-align: right;\">\n",
       "      <th></th>\n",
       "      <th>Candidate</th>\n",
       "      <th>Party</th>\n",
       "      <th>Popular vote</th>\n",
       "      <th>Result</th>\n",
       "      <th>%</th>\n",
       "    </tr>\n",
       "    <tr>\n",
       "      <th>Year</th>\n",
       "      <th></th>\n",
       "      <th></th>\n",
       "      <th></th>\n",
       "      <th></th>\n",
       "      <th></th>\n",
       "    </tr>\n",
       "  </thead>\n",
       "  <tbody>\n",
       "    <tr>\n",
       "      <th>1824</th>\n",
       "      <td>Andrew Jackson</td>\n",
       "      <td>Democratic-Republican</td>\n",
       "      <td>151271</td>\n",
       "      <td>loss</td>\n",
       "      <td>57.210122</td>\n",
       "    </tr>\n",
       "    <tr>\n",
       "      <th>1824</th>\n",
       "      <td>John Quincy Adams</td>\n",
       "      <td>Democratic-Republican</td>\n",
       "      <td>113142</td>\n",
       "      <td>win</td>\n",
       "      <td>42.789878</td>\n",
       "    </tr>\n",
       "    <tr>\n",
       "      <th>1828</th>\n",
       "      <td>Andrew Jackson</td>\n",
       "      <td>Democratic</td>\n",
       "      <td>642806</td>\n",
       "      <td>win</td>\n",
       "      <td>56.203927</td>\n",
       "    </tr>\n",
       "    <tr>\n",
       "      <th>1828</th>\n",
       "      <td>John Quincy Adams</td>\n",
       "      <td>National Republican</td>\n",
       "      <td>500897</td>\n",
       "      <td>loss</td>\n",
       "      <td>43.796073</td>\n",
       "    </tr>\n",
       "    <tr>\n",
       "      <th>1832</th>\n",
       "      <td>Andrew Jackson</td>\n",
       "      <td>Democratic</td>\n",
       "      <td>702735</td>\n",
       "      <td>win</td>\n",
       "      <td>54.574789</td>\n",
       "    </tr>\n",
       "    <tr>\n",
       "      <th>...</th>\n",
       "      <td>...</td>\n",
       "      <td>...</td>\n",
       "      <td>...</td>\n",
       "      <td>...</td>\n",
       "      <td>...</td>\n",
       "    </tr>\n",
       "    <tr>\n",
       "      <th>2016</th>\n",
       "      <td>Jill Stein</td>\n",
       "      <td>Green</td>\n",
       "      <td>1457226</td>\n",
       "      <td>loss</td>\n",
       "      <td>1.073699</td>\n",
       "    </tr>\n",
       "    <tr>\n",
       "      <th>2020</th>\n",
       "      <td>Joseph Biden</td>\n",
       "      <td>Democratic</td>\n",
       "      <td>81268924</td>\n",
       "      <td>win</td>\n",
       "      <td>51.311515</td>\n",
       "    </tr>\n",
       "    <tr>\n",
       "      <th>2020</th>\n",
       "      <td>Donald Trump</td>\n",
       "      <td>Republican</td>\n",
       "      <td>74216154</td>\n",
       "      <td>loss</td>\n",
       "      <td>46.858542</td>\n",
       "    </tr>\n",
       "    <tr>\n",
       "      <th>2020</th>\n",
       "      <td>Jo Jorgensen</td>\n",
       "      <td>Libertarian</td>\n",
       "      <td>1865724</td>\n",
       "      <td>loss</td>\n",
       "      <td>1.177979</td>\n",
       "    </tr>\n",
       "    <tr>\n",
       "      <th>2020</th>\n",
       "      <td>Howard Hawkins</td>\n",
       "      <td>Green</td>\n",
       "      <td>405035</td>\n",
       "      <td>loss</td>\n",
       "      <td>0.255731</td>\n",
       "    </tr>\n",
       "  </tbody>\n",
       "</table>\n",
       "<p>182 rows × 5 columns</p>\n",
       "</div>"
      ],
      "text/plain": [
       "              Candidate                  Party  Popular vote Result          %\n",
       "Year                                                                          \n",
       "1824     Andrew Jackson  Democratic-Republican        151271   loss  57.210122\n",
       "1824  John Quincy Adams  Democratic-Republican        113142    win  42.789878\n",
       "1828     Andrew Jackson             Democratic        642806    win  56.203927\n",
       "1828  John Quincy Adams    National Republican        500897   loss  43.796073\n",
       "1832     Andrew Jackson             Democratic        702735    win  54.574789\n",
       "...                 ...                    ...           ...    ...        ...\n",
       "2016         Jill Stein                  Green       1457226   loss   1.073699\n",
       "2020       Joseph Biden             Democratic      81268924    win  51.311515\n",
       "2020       Donald Trump             Republican      74216154   loss  46.858542\n",
       "2020       Jo Jorgensen            Libertarian       1865724   loss   1.177979\n",
       "2020     Howard Hawkins                  Green        405035   loss   0.255731\n",
       "\n",
       "[182 rows x 5 columns]"
      ]
     },
     "execution_count": 5,
     "metadata": {},
     "output_type": "execute_result"
    }
   ],
   "source": [
    "#Answer Here\n",
    "df=pd.read_csv(\"elections.csv\", index_col= \"Year\")\n",
    "df"
   ]
  },
  {
   "cell_type": "markdown",
   "metadata": {
    "id": "zWtY3hv5R9B5"
   },
   "source": [
    "Alternately, we could have used the **set_index** commmand on the dataframe."
   ]
  },
  {
   "cell_type": "code",
   "execution_count": 6,
   "metadata": {
    "id": "-u_BJi6ZPtvJ"
   },
   "outputs": [
    {
     "name": "stdout",
     "output_type": "stream",
     "text": [
      "     Year          Candidate                  Party  Popular vote Result  \\\n",
      "0    1824     Andrew Jackson  Democratic-Republican        151271   loss   \n",
      "1    1824  John Quincy Adams  Democratic-Republican        113142    win   \n",
      "2    1828     Andrew Jackson             Democratic        642806    win   \n",
      "3    1828  John Quincy Adams    National Republican        500897   loss   \n",
      "4    1832     Andrew Jackson             Democratic        702735    win   \n",
      "..    ...                ...                    ...           ...    ...   \n",
      "177  2016         Jill Stein                  Green       1457226   loss   \n",
      "178  2020       Joseph Biden             Democratic      81268924    win   \n",
      "179  2020       Donald Trump             Republican      74216154   loss   \n",
      "180  2020       Jo Jorgensen            Libertarian       1865724   loss   \n",
      "181  2020     Howard Hawkins                  Green        405035   loss   \n",
      "\n",
      "             %  \n",
      "0    57.210122  \n",
      "1    42.789878  \n",
      "2    56.203927  \n",
      "3    43.796073  \n",
      "4    54.574789  \n",
      "..         ...  \n",
      "177   1.073699  \n",
      "178  51.311515  \n",
      "179  46.858542  \n",
      "180   1.177979  \n",
      "181   0.255731  \n",
      "\n",
      "[182 rows x 6 columns]\n"
     ]
    }
   ],
   "source": [
    "#Answer Here\n",
    "df=pd.read_csv('elections.csv')\n",
    "print(df)"
   ]
  },
  {
   "cell_type": "code",
   "execution_count": 7,
   "metadata": {},
   "outputs": [
    {
     "name": "stdout",
     "output_type": "stream",
     "text": [
      "Index(['Year', 'Candidate', 'Party', 'Popular vote', 'Result', '%'], dtype='object')\n"
     ]
    }
   ],
   "source": [
    "print(df.columns)"
   ]
  },
  {
   "cell_type": "code",
   "execution_count": 8,
   "metadata": {},
   "outputs": [
    {
     "name": "stdout",
     "output_type": "stream",
     "text": [
      "              Candidate                  Party  Popular vote Result          %\n",
      "Year                                                                          \n",
      "1824     Andrew Jackson  Democratic-Republican        151271   loss  57.210122\n",
      "1824  John Quincy Adams  Democratic-Republican        113142    win  42.789878\n",
      "1828     Andrew Jackson             Democratic        642806    win  56.203927\n",
      "1828  John Quincy Adams    National Republican        500897   loss  43.796073\n",
      "1832     Andrew Jackson             Democratic        702735    win  54.574789\n"
     ]
    }
   ],
   "source": [
    "df.set_index('Year', inplace=True)\n",
    "print(df.head())"
   ]
  },
  {
   "cell_type": "code",
   "execution_count": null,
   "metadata": {},
   "outputs": [],
   "source": []
  },
  {
   "cell_type": "markdown",
   "metadata": {
    "id": "kOpP3gBYPtvJ"
   },
   "source": [
    "# Caution:\n",
    "The **set_index command** (along with all other data frame methods) **does not modify the dataframe**, i.e., the original \"elections\" is untouched. Note: There is a flag called \"inplace\" which does modify the calling dataframe (e.g., `elections.set_index(\"Party\",inplace=True)`)."
   ]
  },
  {
   "cell_type": "markdown",
   "metadata": {
    "id": "HYFFeZwRPtvJ"
   },
   "source": [
    "## Duplicate Columns?\n",
    "By contast, column names MUST be unique. For example, if we try to read in a file for which column names are not unique, Pandas will automatically any duplicates. Load duplicate_columns.csv"
   ]
  },
  {
   "cell_type": "code",
   "execution_count": 9,
   "metadata": {
    "id": "4VSBA-Y4PtvJ"
   },
   "outputs": [
    {
     "data": {
      "text/html": [
       "<div>\n",
       "<style scoped>\n",
       "    .dataframe tbody tr th:only-of-type {\n",
       "        vertical-align: middle;\n",
       "    }\n",
       "\n",
       "    .dataframe tbody tr th {\n",
       "        vertical-align: top;\n",
       "    }\n",
       "\n",
       "    .dataframe thead th {\n",
       "        text-align: right;\n",
       "    }\n",
       "</style>\n",
       "<table border=\"1\" class=\"dataframe\">\n",
       "  <thead>\n",
       "    <tr style=\"text-align: right;\">\n",
       "      <th></th>\n",
       "      <th>Year</th>\n",
       "      <th>Candidate</th>\n",
       "      <th>Party</th>\n",
       "      <th>Popular vote</th>\n",
       "      <th>Result</th>\n",
       "      <th>%</th>\n",
       "      <th>Unnamed: 6</th>\n",
       "      <th>Result.1</th>\n",
       "    </tr>\n",
       "  </thead>\n",
       "  <tbody>\n",
       "    <tr>\n",
       "      <th>0</th>\n",
       "      <td>1824</td>\n",
       "      <td>Andrew Jackson</td>\n",
       "      <td>Democratic-Republican</td>\n",
       "      <td>151271</td>\n",
       "      <td>loss</td>\n",
       "      <td>57.210122</td>\n",
       "      <td>NaN</td>\n",
       "      <td>loss</td>\n",
       "    </tr>\n",
       "    <tr>\n",
       "      <th>1</th>\n",
       "      <td>1824</td>\n",
       "      <td>John Quincy Adams</td>\n",
       "      <td>Democratic-Republican</td>\n",
       "      <td>113142</td>\n",
       "      <td>win</td>\n",
       "      <td>42.789878</td>\n",
       "      <td>NaN</td>\n",
       "      <td>win</td>\n",
       "    </tr>\n",
       "    <tr>\n",
       "      <th>2</th>\n",
       "      <td>1828</td>\n",
       "      <td>Andrew Jackson</td>\n",
       "      <td>Democratic</td>\n",
       "      <td>642806</td>\n",
       "      <td>win</td>\n",
       "      <td>56.203927</td>\n",
       "      <td>NaN</td>\n",
       "      <td>win</td>\n",
       "    </tr>\n",
       "    <tr>\n",
       "      <th>3</th>\n",
       "      <td>1828</td>\n",
       "      <td>John Quincy Adams</td>\n",
       "      <td>National Republican</td>\n",
       "      <td>500897</td>\n",
       "      <td>loss</td>\n",
       "      <td>43.796073</td>\n",
       "      <td>NaN</td>\n",
       "      <td>loss</td>\n",
       "    </tr>\n",
       "    <tr>\n",
       "      <th>4</th>\n",
       "      <td>1832</td>\n",
       "      <td>Andrew Jackson</td>\n",
       "      <td>Democratic</td>\n",
       "      <td>702735</td>\n",
       "      <td>win</td>\n",
       "      <td>54.574789</td>\n",
       "      <td>NaN</td>\n",
       "      <td>win</td>\n",
       "    </tr>\n",
       "    <tr>\n",
       "      <th>...</th>\n",
       "      <td>...</td>\n",
       "      <td>...</td>\n",
       "      <td>...</td>\n",
       "      <td>...</td>\n",
       "      <td>...</td>\n",
       "      <td>...</td>\n",
       "      <td>...</td>\n",
       "      <td>...</td>\n",
       "    </tr>\n",
       "    <tr>\n",
       "      <th>177</th>\n",
       "      <td>2016</td>\n",
       "      <td>Jill Stein</td>\n",
       "      <td>Green</td>\n",
       "      <td>1457226</td>\n",
       "      <td>loss</td>\n",
       "      <td>1.073699</td>\n",
       "      <td>NaN</td>\n",
       "      <td>loss</td>\n",
       "    </tr>\n",
       "    <tr>\n",
       "      <th>178</th>\n",
       "      <td>2020</td>\n",
       "      <td>Joseph Biden</td>\n",
       "      <td>Democratic</td>\n",
       "      <td>81268924</td>\n",
       "      <td>win</td>\n",
       "      <td>51.311515</td>\n",
       "      <td>NaN</td>\n",
       "      <td>win</td>\n",
       "    </tr>\n",
       "    <tr>\n",
       "      <th>179</th>\n",
       "      <td>2020</td>\n",
       "      <td>Donald Trump</td>\n",
       "      <td>Republican</td>\n",
       "      <td>74216154</td>\n",
       "      <td>loss</td>\n",
       "      <td>46.858542</td>\n",
       "      <td>NaN</td>\n",
       "      <td>loss</td>\n",
       "    </tr>\n",
       "    <tr>\n",
       "      <th>180</th>\n",
       "      <td>2020</td>\n",
       "      <td>Jo Jorgensen</td>\n",
       "      <td>Libertarian</td>\n",
       "      <td>1865724</td>\n",
       "      <td>loss</td>\n",
       "      <td>1.177979</td>\n",
       "      <td>NaN</td>\n",
       "      <td>loss</td>\n",
       "    </tr>\n",
       "    <tr>\n",
       "      <th>181</th>\n",
       "      <td>2020</td>\n",
       "      <td>Howard Hawkins</td>\n",
       "      <td>Green</td>\n",
       "      <td>405035</td>\n",
       "      <td>loss</td>\n",
       "      <td>0.255731</td>\n",
       "      <td>NaN</td>\n",
       "      <td>loss</td>\n",
       "    </tr>\n",
       "  </tbody>\n",
       "</table>\n",
       "<p>182 rows × 8 columns</p>\n",
       "</div>"
      ],
      "text/plain": [
       "     Year          Candidate                  Party  Popular vote Result  \\\n",
       "0    1824     Andrew Jackson  Democratic-Republican        151271   loss   \n",
       "1    1824  John Quincy Adams  Democratic-Republican        113142    win   \n",
       "2    1828     Andrew Jackson             Democratic        642806    win   \n",
       "3    1828  John Quincy Adams    National Republican        500897   loss   \n",
       "4    1832     Andrew Jackson             Democratic        702735    win   \n",
       "..    ...                ...                    ...           ...    ...   \n",
       "177  2016         Jill Stein                  Green       1457226   loss   \n",
       "178  2020       Joseph Biden             Democratic      81268924    win   \n",
       "179  2020       Donald Trump             Republican      74216154   loss   \n",
       "180  2020       Jo Jorgensen            Libertarian       1865724   loss   \n",
       "181  2020     Howard Hawkins                  Green        405035   loss   \n",
       "\n",
       "             %  Unnamed: 6 Result.1  \n",
       "0    57.210122         NaN     loss  \n",
       "1    42.789878         NaN      win  \n",
       "2    56.203927         NaN      win  \n",
       "3    43.796073         NaN     loss  \n",
       "4    54.574789         NaN      win  \n",
       "..         ...         ...      ...  \n",
       "177   1.073699         NaN     loss  \n",
       "178  51.311515         NaN      win  \n",
       "179  46.858542         NaN     loss  \n",
       "180   1.177979         NaN     loss  \n",
       "181   0.255731         NaN     loss  \n",
       "\n",
       "[182 rows x 8 columns]"
      ]
     },
     "execution_count": 9,
     "metadata": {},
     "output_type": "execute_result"
    }
   ],
   "source": [
    "#Answer Here\n",
    "df2=pd.read_csv('duplicate.csv')\n",
    "df2"
   ]
  },
  {
   "cell_type": "code",
   "execution_count": 10,
   "metadata": {},
   "outputs": [
    {
     "name": "stdout",
     "output_type": "stream",
     "text": [
      "Index(['Year', 'Candidate', 'Party', 'Popular vote', 'Result', '%',\n",
      "       'Unnamed: 6', 'Result.1'],\n",
      "      dtype='object')\n"
     ]
    }
   ],
   "source": [
    "print(df2.columns)"
   ]
  },
  {
   "cell_type": "markdown",
   "metadata": {
    "id": "fUjSXLNhPtvK"
   },
   "source": [
    "## The [ ] Operator & Indexing"
   ]
  },
  {
   "cell_type": "markdown",
   "metadata": {
    "id": "_y0PM7R9PtvK"
   },
   "source": [
    "The DataFrame class has an indexing operator **[ ]** (also known as the 'brack' operator) that lets you do a variety of different things. If your provide a String to the **[ ]** operator, you get back a ***Series*** corresponding to the requested label.\n",
    "\n",
    "1.Use **[ ]** to display different columns\n",
    "\n",
    "2.Use List retrive multiple columns"
   ]
  },
  {
   "cell_type": "code",
   "execution_count": 18,
   "metadata": {},
   "outputs": [
    {
     "data": {
      "text/plain": [
       "Index(['Candidate', 'Party', 'Popular vote', 'Result', '%'], dtype='object')"
      ]
     },
     "execution_count": 18,
     "metadata": {},
     "output_type": "execute_result"
    }
   ],
   "source": [
    "df.columns"
   ]
  },
  {
   "cell_type": "code",
   "execution_count": 20,
   "metadata": {},
   "outputs": [
    {
     "name": "stdout",
     "output_type": "stream",
     "text": [
      "     Result\n",
      "Year       \n",
      "1824   loss\n",
      "1824    win\n",
      "1828    win\n",
      "1828   loss\n",
      "1832    win\n",
      "...     ...\n",
      "2016   loss\n",
      "2020    win\n",
      "2020   loss\n",
      "2020   loss\n",
      "2020   loss\n",
      "\n",
      "[182 rows x 1 columns]\n"
     ]
    }
   ],
   "source": [
    "#1.Use [ ] to display different columns\n",
    "print(df[['Result']])"
   ]
  },
  {
   "cell_type": "code",
   "execution_count": 21,
   "metadata": {},
   "outputs": [
    {
     "name": "stdout",
     "output_type": "stream",
     "text": [
      "      Popular vote\n",
      "Year              \n",
      "1824        151271\n",
      "1824        113142\n",
      "1828        642806\n",
      "1828        500897\n",
      "1832        702735\n",
      "...            ...\n",
      "2016       1457226\n",
      "2020      81268924\n",
      "2020      74216154\n",
      "2020       1865724\n",
      "2020        405035\n",
      "\n",
      "[182 rows x 1 columns]\n"
     ]
    }
   ],
   "source": [
    "print(df[['Popular vote']])"
   ]
  },
  {
   "cell_type": "code",
   "execution_count": 24,
   "metadata": {},
   "outputs": [
    {
     "name": "stdout",
     "output_type": "stream",
     "text": [
      "              Candidate                  Party\n",
      "Year                                          \n",
      "1824     Andrew Jackson  Democratic-Republican\n",
      "1824  John Quincy Adams  Democratic-Republican\n",
      "1828     Andrew Jackson             Democratic\n",
      "1828  John Quincy Adams    National Republican\n",
      "1832     Andrew Jackson             Democratic\n",
      "...                 ...                    ...\n",
      "2016         Jill Stein                  Green\n",
      "2020       Joseph Biden             Democratic\n",
      "2020       Donald Trump             Republican\n",
      "2020       Jo Jorgensen            Libertarian\n",
      "2020     Howard Hawkins                  Green\n",
      "\n",
      "[182 rows x 2 columns]\n"
     ]
    }
   ],
   "source": [
    "#2.Use a List to Retrieve Multiple Columns\n",
    "print(df[['Candidate', 'Party']])"
   ]
  },
  {
   "cell_type": "markdown",
   "metadata": {
    "id": "DopcbfEpPtvK"
   },
   "source": [
    "The **[ ]** operator also accepts a list of strings. In this case, you get back a **DataFrame** corresponding to the requested strings."
   ]
  },
  {
   "cell_type": "code",
   "execution_count": 30,
   "metadata": {
    "id": "lX4YozsZPtvK",
    "scrolled": true
   },
   "outputs": [
    {
     "name": "stdout",
     "output_type": "stream",
     "text": [
      "Retrieving 'Candidate' and 'Party' columns as a DataFrame:\n",
      "             Candidate                  Party\n",
      "0       Andrew Jackson  Democratic-Republican\n",
      "1    John Quincy Adams  Democratic-Republican\n",
      "2       Andrew Jackson             Democratic\n",
      "3    John Quincy Adams    National Republican\n",
      "4       Andrew Jackson             Democratic\n",
      "..                 ...                    ...\n",
      "177         Jill Stein                  Green\n",
      "178       Joseph Biden             Democratic\n",
      "179       Donald Trump             Republican\n",
      "180       Jo Jorgensen            Libertarian\n",
      "181     Howard Hawkins                  Green\n",
      "\n",
      "[182 rows x 2 columns]\n",
      "\n",
      "Retrieving 'Year', 'Candidate', and 'Popular vote' columns as a DataFrame:\n",
      "     Year          Candidate  Popular vote\n",
      "0    1824     Andrew Jackson        151271\n",
      "1    1824  John Quincy Adams        113142\n",
      "2    1828     Andrew Jackson        642806\n",
      "3    1828  John Quincy Adams        500897\n",
      "4    1832     Andrew Jackson        702735\n",
      "..    ...                ...           ...\n",
      "177  2016         Jill Stein       1457226\n",
      "178  2020       Joseph Biden      81268924\n",
      "179  2020       Donald Trump      74216154\n",
      "180  2020       Jo Jorgensen       1865724\n",
      "181  2020     Howard Hawkins        405035\n",
      "\n",
      "[182 rows x 3 columns]\n"
     ]
    }
   ],
   "source": [
    "# Answer Here\n",
    "import pandas as pd\n",
    "\n",
    "# Load the CSV file\n",
    "df = pd.read_csv('duplicate.csv')\n",
    "\n",
    "\n",
    "print(\"Retrieving 'Candidate' and 'Party' columns as a DataFrame:\")\n",
    "candidate_party_df = df[['Candidate', 'Party']]\n",
    "print(candidate_party_df)\n",
    "\n",
    "print(\"\\nRetrieving 'Year', 'Candidate', and 'Popular vote' columns as a DataFrame:\")\n",
    "year_candidate_vote_df = df[['Year', 'Candidate', 'Popular vote']]\n",
    "print(year_candidate_vote_df)\n"
   ]
  },
  {
   "cell_type": "markdown",
   "metadata": {
    "id": "7pv2JkjRPtvK"
   },
   "source": [
    "A list of one label also returns a DataFrame. This can be handy if you want your results as a DataFrame, not a series."
   ]
  },
  {
   "cell_type": "markdown",
   "metadata": {
    "id": "XqKnvINoPtvL"
   },
   "source": [
    "Note that we can also use the **to_frame** method to turn a Series into a DataFrame.\n",
    "\n",
    "Extract one col name \"Candidates\" from DataFrame it will be a series. Convert series into a DataFrame."
   ]
  },
  {
   "cell_type": "code",
   "execution_count": 31,
   "metadata": {
    "id": "XUOtNoVnPtvL"
   },
   "outputs": [
    {
     "name": "stdout",
     "output_type": "stream",
     "text": [
      "Series:\n",
      "0         Andrew Jackson\n",
      "1      John Quincy Adams\n",
      "2         Andrew Jackson\n",
      "3      John Quincy Adams\n",
      "4         Andrew Jackson\n",
      "             ...        \n",
      "177           Jill Stein\n",
      "178         Joseph Biden\n",
      "179         Donald Trump\n",
      "180         Jo Jorgensen\n",
      "181       Howard Hawkins\n",
      "Name: Candidate, Length: 182, dtype: object\n",
      "\n",
      "DataFrame:\n",
      "             Candidate\n",
      "0       Andrew Jackson\n",
      "1    John Quincy Adams\n",
      "2       Andrew Jackson\n",
      "3    John Quincy Adams\n",
      "4       Andrew Jackson\n",
      "..                 ...\n",
      "177         Jill Stein\n",
      "178       Joseph Biden\n",
      "179       Donald Trump\n",
      "180       Jo Jorgensen\n",
      "181     Howard Hawkins\n",
      "\n",
      "[182 rows x 1 columns]\n",
      "\n",
      "DataFrame using a list of one label:\n",
      "             Candidate\n",
      "0       Andrew Jackson\n",
      "1    John Quincy Adams\n",
      "2       Andrew Jackson\n",
      "3    John Quincy Adams\n",
      "4       Andrew Jackson\n",
      "..                 ...\n",
      "177         Jill Stein\n",
      "178       Joseph Biden\n",
      "179       Donald Trump\n",
      "180       Jo Jorgensen\n",
      "181     Howard Hawkins\n",
      "\n",
      "[182 rows x 1 columns]\n"
     ]
    }
   ],
   "source": [
    "# Answer Here\n",
    "import pandas as pd\n",
    "\n",
    "# Load the CSV file\n",
    "df = pd.read_csv('elections.csv')\n",
    "\n",
    "\n",
    "candidate_series = df['Candidate']\n",
    "print(\"Series:\")\n",
    "print(candidate_series)\n",
    "\n",
    "\n",
    "candidate_df = candidate_series.to_frame()\n",
    "print(\"\\nDataFrame:\")\n",
    "print(candidate_df)\n",
    "\n",
    "\n",
    "candidate_df_alternative = df[['Candidate']]\n",
    "print(\"\\nDataFrame using a list of one label:\")\n",
    "print(candidate_df_alternative)\n"
   ]
  },
  {
   "cell_type": "markdown",
   "metadata": {
    "id": "8l2IdtBwPtvL"
   },
   "source": [
    "### Row Indexing\n",
    "\n",
    "The `[]` operator also accepts numerical slices as arguments. In this case, we are indexing by row, not column!\n",
    "\n",
    "Extract few rows from DataFrame"
   ]
  },
  {
   "cell_type": "code",
   "execution_count": 32,
   "metadata": {
    "id": "VrZMcM5rPtvL",
    "scrolled": true
   },
   "outputs": [
    {
     "name": "stdout",
     "output_type": "stream",
     "text": [
      "First 5 rows:\n",
      "   Year          Candidate                  Party  Popular vote Result  \\\n",
      "0  1824     Andrew Jackson  Democratic-Republican        151271   loss   \n",
      "1  1824  John Quincy Adams  Democratic-Republican        113142    win   \n",
      "2  1828     Andrew Jackson             Democratic        642806    win   \n",
      "3  1828  John Quincy Adams    National Republican        500897   loss   \n",
      "4  1832     Andrew Jackson             Democratic        702735    win   \n",
      "\n",
      "           %  \n",
      "0  57.210122  \n",
      "1  42.789878  \n",
      "2  56.203927  \n",
      "3  43.796073  \n",
      "4  54.574789  \n",
      "\n",
      "Rows from index 10 to 15:\n",
      "    Year               Candidate       Party  Popular vote Result          %\n",
      "10  1840        Martin Van Buren  Democratic       1128854   loss  46.948787\n",
      "11  1840  William Henry Harrison        Whig       1275583    win  53.051213\n",
      "12  1844              Henry Clay        Whig       1300004   loss  49.250523\n",
      "13  1844              James Polk  Democratic       1339570    win  50.749477\n",
      "14  1848              Lewis Cass  Democratic       1223460   loss  42.552229\n",
      "15  1848        Martin Van Buren   Free Soil        291501   loss  10.138474\n",
      "\n",
      "Last 5 rows:\n",
      "     Year       Candidate        Party  Popular vote Result          %\n",
      "177  2016      Jill Stein        Green       1457226   loss   1.073699\n",
      "178  2020    Joseph Biden   Democratic      81268924    win  51.311515\n",
      "179  2020    Donald Trump   Republican      74216154   loss  46.858542\n",
      "180  2020    Jo Jorgensen  Libertarian       1865724   loss   1.177979\n",
      "181  2020  Howard Hawkins        Green        405035   loss   0.255731\n"
     ]
    }
   ],
   "source": [
    "# Answer Here\n",
    "# Extract the first 5 rows\n",
    "print(\"First 5 rows:\")\n",
    "print(df[:5])\n",
    "\n",
    "# Extract rows from index 10 to 15\n",
    "print(\"\\nRows from index 10 to 15:\")\n",
    "print(df[10:16])\n",
    "\n",
    "# Extract the last 5 rows\n",
    "print(\"\\nLast 5 rows:\")\n",
    "print(df[-5:])\n"
   ]
  },
  {
   "cell_type": "markdown",
   "metadata": {
    "id": "BbzS6oI4PtvN"
   },
   "source": [
    "If you provide a single argument to the `[]` operator, it tries to use it as a name. This is true even if the argument passed to **[ ]** is an integer."
   ]
  },
  {
   "cell_type": "code",
   "execution_count": 33,
   "metadata": {
    "id": "tw51ccpUPtvN"
   },
   "outputs": [
    {
     "name": "stdout",
     "output_type": "stream",
     "text": [
      "First row using .iloc[]:\n",
      "Year                             1824\n",
      "Candidate              Andrew Jackson\n",
      "Party           Democratic-Republican\n",
      "Popular vote                   151271\n",
      "Result                           loss\n",
      "%                           57.210122\n",
      "Name: 0, dtype: object\n",
      "\n",
      "Rows from index 0 to 4 using .iloc[]:\n",
      "   Year          Candidate                  Party  Popular vote Result  \\\n",
      "0  1824     Andrew Jackson  Democratic-Republican        151271   loss   \n",
      "1  1824  John Quincy Adams  Democratic-Republican        113142    win   \n",
      "2  1828     Andrew Jackson             Democratic        642806    win   \n",
      "3  1828  John Quincy Adams    National Republican        500897   loss   \n",
      "4  1832     Andrew Jackson             Democratic        702735    win   \n",
      "\n",
      "           %  \n",
      "0  57.210122  \n",
      "1  42.789878  \n",
      "2  56.203927  \n",
      "3  43.796073  \n",
      "4  54.574789  \n",
      "\n",
      "Row with index label 1824 using .loc[]:\n",
      "              Candidate                  Party  Popular vote Result          %\n",
      "Year                                                                          \n",
      "1824     Andrew Jackson  Democratic-Republican        151271   loss  57.210122\n",
      "1824  John Quincy Adams  Democratic-Republican        113142    win  42.789878\n"
     ]
    }
   ],
   "source": [
    "#elections[0] #this does not work, try uncommenting this to see it fail in action, woo\n",
    "print(\"First row using .iloc[]:\")\n",
    "print(df.iloc[0])\n",
    "\n",
    "# Extract rows from index 0 to 4 using .iloc[]\n",
    "print(\"\\nRows from index 0 to 4 using .iloc[]:\")\n",
    "print(df.iloc[0:5])\n",
    "\n",
    "# Assuming 'Year' is the index for label-based indexing\n",
    "df.set_index('Year', inplace=True)\n",
    "\n",
    "# Extract the row with index label 1824 using .loc[]\n",
    "print(\"\\nRow with index label 1824 using .loc[]:\")\n",
    "print(df.loc[1824])"
   ]
  },
  {
   "cell_type": "markdown",
   "metadata": {
    "id": "EJsBn7uKPtvN"
   },
   "source": [
    "The following cells allow you to **test your understanding**. Let's go over the summary of what we have learnt (see slides).\n",
    "\n",
    "# Creating DataFrames\n",
    "Create DataFrame using List and Columns name."
   ]
  },
  {
   "cell_type": "code",
   "execution_count": 34,
   "metadata": {
    "id": "yA1NsyftUQYi"
   },
   "outputs": [
    {
     "name": "stdout",
     "output_type": "stream",
     "text": [
      "   ID     Name  Age\n",
      "0   1    Alice   24\n",
      "1   2      Bob   27\n",
      "2   3  Charlie   22\n"
     ]
    }
   ],
   "source": [
    "data = [\n",
    "    [1, 'A', 24],\n",
    "    [2, 'B', 27],\n",
    "    [3, 'C', 22]\n",
    "]\n",
    "columns = ['ID', 'Name', 'Age']\n",
    "\n",
    "df = pd.DataFrame(data, columns=columns)\n",
    "print(df)\n"
   ]
  },
  {
   "cell_type": "markdown",
   "metadata": {
    "id": "De8I7tdRhSCc"
   },
   "source": [
    "Creating DataFrames using **Dictionary**."
   ]
  },
  {
   "cell_type": "code",
   "execution_count": 35,
   "metadata": {
    "id": "YLidbVoJPtvN"
   },
   "outputs": [
    {
     "name": "stdout",
     "output_type": "stream",
     "text": [
      "   ID Name  Age\n",
      "0   1    A   24\n",
      "1   2    B   27\n",
      "2   3    C   22\n"
     ]
    }
   ],
   "source": [
    "# Answer Here\n",
    "\n",
    "data = {\n",
    "    'ID': [1, 2, 3],\n",
    "    'Name': ['A', 'B', 'C'],\n",
    "    'Age': [24, 27, 22]\n",
    "}\n",
    "\n",
    "df = pd.DataFrame(data)\n",
    "print(df)\n"
   ]
  },
  {
   "cell_type": "markdown",
   "metadata": {
    "id": "GsX8jyA3PtvO"
   },
   "source": [
    "## Filtering via Boolean Array Selection"
   ]
  },
  {
   "cell_type": "markdown",
   "metadata": {
    "id": "RXDjTannPtvO"
   },
   "source": [
    "The `[]` operator also supports array of booleans as an input. In this case, the array must be exactly as long as the number of rows. The result is a **filtered version of the data frame**, where **only rows corresponding to True appear**."
   ]
  },
  {
   "cell_type": "code",
   "execution_count": null,
   "metadata": {
    "id": "pD79oglhPtvP"
   },
   "outputs": [],
   "source": [
    "elections[[False, False, False, False, False,\n",
    "          False, False, True, False, False,\n",
    "          True, False, False, False, True,\n",
    "          False, False, False, False, False,\n",
    "          False, True, False]]"
   ]
  },
  {
   "cell_type": "markdown",
   "metadata": {
    "id": "0lo-osU2PtvP"
   },
   "source": [
    "One very common task in Data Science is **filtering**. Boolean Array Selection is one way to achieve this in Pandas. We start by observing that **logical operators** like the equality operator can be applied to **Pandas Series data** to generate a **Boolean Array**.\n",
    "\n",
    "Compare the 'Result' column to the String 'win' and Show results"
   ]
  },
  {
   "cell_type": "code",
   "execution_count": null,
   "metadata": {
    "id": "Or9NKO2kPtvP"
   },
   "outputs": [],
   "source": [
    "#Answer Here"
   ]
  },
  {
   "cell_type": "markdown",
   "metadata": {
    "id": "bFEH7w974G63"
   },
   "source": [
    "Compare the 'Party' column to the String 'Democratic' and Show results"
   ]
  },
  {
   "cell_type": "code",
   "execution_count": null,
   "metadata": {
    "id": "BeyIZ48fPtvP"
   },
   "outputs": [],
   "source": [
    "#Answer Here"
   ]
  },
  {
   "cell_type": "markdown",
   "metadata": {
    "id": "TiRu5S1FPtvP"
   },
   "source": [
    "The output of the logical operator applied to the Series is **another Series with the same name and index, but of datatype boolean**."
   ]
  },
  {
   "cell_type": "markdown",
   "metadata": {
    "id": "Avt0U9UBPtvQ"
   },
   "source": [
    "These boolean Series can be used as an argument to the `[]` operator.\n",
    "\n",
    "Creates  DataFrame of all election winners since 1980."
   ]
  },
  {
   "cell_type": "code",
   "execution_count": null,
   "metadata": {
    "id": "UTzXe5syPtvQ"
   },
   "outputs": [],
   "source": [
    "#Answer Here"
   ]
  },
  {
   "cell_type": "markdown",
   "metadata": {
    "id": "EEv5yYEhPtvQ"
   },
   "source": [
    "Above, we've assigned the result of the logical operator to a new variable called `iswin`. This is uncommon. Usually, the series is created and used on the same line. Such code is a little tricky to read at first, but you'll get used to it quickly.\n",
    "\n",
    "Show all 'win' results between 1980 to 2000"
   ]
  },
  {
   "cell_type": "code",
   "execution_count": null,
   "metadata": {
    "id": "BBFYJwLwPtvQ"
   },
   "outputs": [],
   "source": [
    "#Answer Here"
   ]
  },
  {
   "cell_type": "markdown",
   "metadata": {
    "id": "_NW4uODP5C7M"
   },
   "source": [
    "Show all 'Loss' results of Independent party"
   ]
  },
  {
   "cell_type": "code",
   "execution_count": null,
   "metadata": {
    "id": "SucI5W7yPtvQ"
   },
   "outputs": [],
   "source": [
    "# Answer Here"
   ]
  },
  {
   "cell_type": "markdown",
   "metadata": {
    "id": "wr9tNNT_PtvQ"
   },
   "source": [
    "We can select multiple criteria by creating multiple boolean Series and combining them using the `&` operator.\n",
    "\n",
    "Show results of win with percentage less than 50%"
   ]
  },
  {
   "cell_type": "code",
   "execution_count": null,
   "metadata": {
    "id": "7VygVujvPtvQ",
    "scrolled": true
   },
   "outputs": [],
   "source": [
    "# Answer Here"
   ]
  },
  {
   "cell_type": "markdown",
   "metadata": {
    "id": "ToedM6lA6Bp7"
   },
   "source": [
    "Show all 'win' results between 1980 to 2000"
   ]
  },
  {
   "cell_type": "code",
   "execution_count": null,
   "metadata": {
    "id": "RfqDKcii6Dcs"
   },
   "outputs": [],
   "source": [
    "# Answer Here"
   ]
  },
  {
   "cell_type": "markdown",
   "metadata": {
    "id": "pkonOW2pPtvR"
   },
   "source": [
    "## Loc and iLoc"
   ]
  },
  {
   "cell_type": "markdown",
   "metadata": {
    "id": "hSiAy9KD5eJk"
   },
   "source": [
    "Show 5 enteries from start"
   ]
  },
  {
   "cell_type": "code",
   "execution_count": null,
   "metadata": {
    "id": "OIwnpgEM6HeI"
   },
   "outputs": [],
   "source": [
    "# Answer Here"
   ]
  },
  {
   "cell_type": "markdown",
   "metadata": {
    "id": "XHhLGedmPtvR"
   },
   "source": [
    "You can provide `.loc` a list of row labels [0-5] and column labels ['Candidate','Party', 'Year'] as input to return a dataframe"
   ]
  },
  {
   "cell_type": "code",
   "execution_count": null,
   "metadata": {
    "id": "XUZe4G0WPtvR"
   },
   "outputs": [],
   "source": [
    "#Answer Here"
   ]
  },
  {
   "cell_type": "markdown",
   "metadata": {
    "id": "Tw5Er1BCPtvR"
   },
   "source": [
    "Loc also supports **slicing** (for all types, including numeric and string labels!). Note that the slicing for loc is **inclusive**, even for numeric slices.\n",
    "\n",
    "Use Slicing on Rows and Columns"
   ]
  },
  {
   "cell_type": "code",
   "execution_count": null,
   "metadata": {
    "id": "SXI38aagPtvR",
    "scrolled": true
   },
   "outputs": [],
   "source": [
    "# Answer Here"
   ]
  },
  {
   "cell_type": "markdown",
   "metadata": {
    "id": "pM5KD0kPPtvR"
   },
   "source": [
    "If we provide only a **single label** for the column argument, we get back a **Series**."
   ]
  },
  {
   "cell_type": "code",
   "execution_count": null,
   "metadata": {
    "id": "Ps6PUX9_PtvS"
   },
   "outputs": [],
   "source": [
    "# Answer Here"
   ]
  },
  {
   "cell_type": "markdown",
   "metadata": {
    "id": "z8qglbBwPtvS"
   },
   "source": [
    "If we want a data frame instead and don't want to use to_frame, we can provide a **list** containing the column name."
   ]
  },
  {
   "cell_type": "code",
   "execution_count": null,
   "metadata": {
    "id": "I9JqZBVMPtvS",
    "scrolled": true
   },
   "outputs": [],
   "source": [
    "# Answer Here"
   ]
  },
  {
   "cell_type": "markdown",
   "metadata": {
    "id": "QighByBIPtvS"
   },
   "source": [
    "If we give only one row but many column labels, we'll get back a **Series** corresponding to a row of the table. This new Series has a neat index, where **each entry is the name of the column** that the data came from."
   ]
  },
  {
   "cell_type": "code",
   "execution_count": null,
   "metadata": {
    "id": "5XT8-_bpPtvS"
   },
   "outputs": [],
   "source": [
    "# Answer Here"
   ]
  },
  {
   "cell_type": "code",
   "execution_count": null,
   "metadata": {
    "id": "hcdTlR8uPtvS"
   },
   "outputs": [],
   "source": [
    "# Answer Here"
   ]
  },
  {
   "cell_type": "markdown",
   "metadata": {
    "id": "oB0GTCT5PtvS"
   },
   "source": [
    "If we omit the column argument altogether, the **default behavior is to retrieve all columns**."
   ]
  },
  {
   "cell_type": "code",
   "execution_count": null,
   "metadata": {
    "id": "cewKbmCYPtvT"
   },
   "outputs": [],
   "source": [
    "# Answer Here\n"
   ]
  },
  {
   "cell_type": "markdown",
   "metadata": {
    "id": "GIuYoSqH7TYj"
   },
   "source": [
    "Specify Rows and Columns as List to retrive specific enteries"
   ]
  },
  {
   "cell_type": "code",
   "execution_count": null,
   "metadata": {
    "id": "roAnjNt2PtvT",
    "scrolled": true
   },
   "outputs": [],
   "source": [
    "# Answer Here"
   ]
  },
  {
   "cell_type": "markdown",
   "metadata": {
    "id": "C7Bfwc6gPtvT"
   },
   "source": [
    "Boolean Series are also boolean arrays, so we can use the Boolean Array Selection from earlier using loc as well."
   ]
  },
  {
   "cell_type": "code",
   "execution_count": null,
   "metadata": {
    "id": "Ub9I30OxPtvT"
   },
   "outputs": [],
   "source": [
    "# Answer Here"
   ]
  },
  {
   "cell_type": "markdown",
   "metadata": {
    "id": "533WKwGXPtvT"
   },
   "source": [
    "## String-labeled Rows\n",
    "\n",
    "Let's do a quick example using data with string-labeled rows instead of integer labeled rows, just to make sure we're really understanding loc.\n",
    "\n",
    "Use mottos.csv file"
   ]
  },
  {
   "cell_type": "code",
   "execution_count": null,
   "metadata": {
    "id": "-y7r7wfBPtvT"
   },
   "outputs": [],
   "source": [
    "# Answer Here"
   ]
  },
  {
   "cell_type": "markdown",
   "metadata": {
    "id": "8E1olDerPtvT"
   },
   "source": [
    "Extract slice, can be specified using slice notation, even if the rows have string labels instead of integer labels."
   ]
  },
  {
   "cell_type": "markdown",
   "metadata": {
    "id": "9meAs22VPtvU"
   },
   "source": [
    "### iloc"
   ]
  },
  {
   "cell_type": "markdown",
   "metadata": {
    "id": "Kgz9kKXLPtvU"
   },
   "source": [
    "loc's cousin iloc is very similar, but is used to access based on numerical position instead of label. For example, to access to the top 3 rows and top 3 columns of a table, we can use [0:3, 0:3]. 'iloc' slicing is **exclusive**, just like standard Python slicing of numerical values.\n",
    "\n",
    "Use iloc to extract first 3 rows and columns from elections DataFrame"
   ]
  },
  {
   "cell_type": "code",
   "execution_count": null,
   "metadata": {
    "id": "TveQUq2oPtvU"
   },
   "outputs": [],
   "source": [
    "#Answer Here"
   ]
  },
  {
   "cell_type": "markdown",
   "metadata": {
    "id": "d75cITKiPtvV"
   },
   "source": [
    "We will use both `loc` and `iloc` in the course. `loc` is generally preferred for a number of reasons, for example:\n",
    "\n",
    "1. It is harder to make mistakes since you have to literally write out what you want to get.\n",
    "2. Code is easier to read, because the reader doesn't have to know e.g., what column #17 represents.\n",
    "3. It is robust against permutations of the data, e.g. the social security administration switches the order of two columns.\n",
    "\n",
    "However, iloc is sometimes more convenient. We'll provide examples of when iloc is the superior choice."
   ]
  },
  {
   "cell_type": "markdown",
   "metadata": {
    "id": "Sj-li9oQPtvV"
   },
   "source": [
    "## Handy Properties and Utility Functions for Series and DataFrames"
   ]
  },
  {
   "cell_type": "markdown",
   "metadata": {
    "id": "2D6yrBvcPtvV"
   },
   "source": [
    "The head, shape, size, and describe methods can be used to quickly get a good sense of the data we're working with. For example:"
   ]
  },
  {
   "cell_type": "code",
   "execution_count": null,
   "metadata": {
    "id": "I2c3ON6BPtvV"
   },
   "outputs": [],
   "source": [
    "mottos = pd.read_csv(\"/content/drive/MyDrive/mottos.csv\")"
   ]
  },
  {
   "cell_type": "code",
   "execution_count": null,
   "metadata": {
    "id": "3lj5YSbzPtvV"
   },
   "outputs": [],
   "source": [
    "# Answer Here"
   ]
  },
  {
   "cell_type": "markdown",
   "metadata": {
    "id": "bQSKGPxTroVf"
   },
   "source": [
    "Size of DataFrame"
   ]
  },
  {
   "cell_type": "code",
   "execution_count": null,
   "metadata": {
    "id": "iGVtW1YEPtvV"
   },
   "outputs": [],
   "source": [
    "# Answer Here"
   ]
  },
  {
   "cell_type": "markdown",
   "metadata": {
    "id": "PB4R3k_6PtvW"
   },
   "source": [
    "The fact that the size is 250 means our data file is relatively small, with only 250 total entries.\n",
    "\n",
    "Shape of DataFrame"
   ]
  },
  {
   "cell_type": "code",
   "execution_count": null,
   "metadata": {
    "id": "dBaU7nMNPtvW"
   },
   "outputs": [],
   "source": [
    "# Answer Here"
   ]
  },
  {
   "cell_type": "markdown",
   "metadata": {
    "id": "NevFNt3_PtvW"
   },
   "source": [
    "Use describe function and extract the meaningful information from DataFrame"
   ]
  },
  {
   "cell_type": "code",
   "execution_count": null,
   "metadata": {
    "id": "7T7Xg4wePtvW"
   },
   "outputs": [],
   "source": [
    "# Answer Here"
   ]
  },
  {
   "cell_type": "markdown",
   "metadata": {
    "id": "jEAxyt57PtvW"
   },
   "source": [
    "Above, we see a quick summary of all the data. For example, the most common language for mottos is Latin, which covers 23 different states. Does anything else seem surprising?"
   ]
  },
  {
   "cell_type": "markdown",
   "metadata": {
    "id": "5Sz84ZcoPtvX"
   },
   "source": [
    "We can get a direct reference to the index using .index."
   ]
  },
  {
   "cell_type": "code",
   "execution_count": null,
   "metadata": {
    "id": "Oc8PNHQSPtvX"
   },
   "outputs": [],
   "source": [
    "# Answer Here"
   ]
  },
  {
   "cell_type": "code",
   "execution_count": null,
   "metadata": {
    "id": "fHrsk46BPtvX"
   },
   "outputs": [],
   "source": [
    "mottos.head(2)"
   ]
  },
  {
   "cell_type": "markdown",
   "metadata": {
    "id": "IZRgHL-cPtvX"
   },
   "source": [
    "It turns out the columns also have an Index. We can access this index by using `.columns`."
   ]
  },
  {
   "cell_type": "code",
   "execution_count": null,
   "metadata": {
    "colab": {
     "base_uri": "https://localhost:8080/"
    },
    "id": "b3uXufYwPtvX",
    "outputId": "c97a8be0-cdf1-4ace-da34-8ed493a72928"
   },
   "outputs": [],
   "source": [
    "# Answer Here"
   ]
  },
  {
   "cell_type": "markdown",
   "metadata": {
    "id": "vfqTqtXjPtvY"
   },
   "source": [
    "## Sorting and Value Counts\n",
    "\n",
    "There are also a ton of useful utility methods we can use with Data Frames and Series. For example, we can create a copy of a data frame sorted by a specific column using `sort_values`."
   ]
  },
  {
   "cell_type": "code",
   "execution_count": null,
   "metadata": {
    "id": "ioH43WI_PtvY"
   },
   "outputs": [],
   "source": [
    "# Answer Here"
   ]
  },
  {
   "cell_type": "markdown",
   "metadata": {
    "id": "LwW2YK8gPtvY"
   },
   "source": [
    "As mentioned before, all Data Frame methods return a copy and do **not** modify the original data structure, unless you set inplace to True."
   ]
  },
  {
   "cell_type": "markdown",
   "metadata": {
    "id": "tMqlf3Q8PtvY"
   },
   "source": [
    "If we want to sort in reverse order, we can set `ascending=False`."
   ]
  },
  {
   "cell_type": "code",
   "execution_count": null,
   "metadata": {
    "id": "-Cx7vHzKPtvY"
   },
   "outputs": [],
   "source": [
    "elections.sort_values('%', ascending=False)"
   ]
  },
  {
   "cell_type": "markdown",
   "metadata": {
    "id": "l88QC8yvPtvZ"
   },
   "source": [
    "We can also use `sort_values` on Series objects."
   ]
  },
  {
   "cell_type": "code",
   "execution_count": null,
   "metadata": {
    "id": "4wTi414QPtva"
   },
   "outputs": [],
   "source": [
    "mottos['Language'].sort_values().head(50)"
   ]
  },
  {
   "cell_type": "markdown",
   "metadata": {
    "id": "8_4EHw_lPtvb"
   },
   "source": [
    "For Series, the `value_counts` method is often quite handy."
   ]
  },
  {
   "cell_type": "code",
   "execution_count": null,
   "metadata": {
    "id": "qO1Uxnw3Ptvb"
   },
   "outputs": [],
   "source": [
    "mottos['Language'].value_counts()"
   ]
  },
  {
   "cell_type": "markdown",
   "metadata": {
    "id": "l1fAovTpPtvb"
   },
   "source": [
    "Also commonly used is the `unique` method, which returns **all unique values** as a numpy array."
   ]
  },
  {
   "cell_type": "code",
   "execution_count": null,
   "metadata": {
    "id": "_ToE_vqVPtvb"
   },
   "outputs": [],
   "source": [
    "mottos['Language'].unique()"
   ]
  },
  {
   "cell_type": "code",
   "execution_count": null,
   "metadata": {
    "colab": {
     "base_uri": "https://localhost:8080/"
    },
    "id": "HAYgnI5ZPtvb",
    "outputId": "fe2327f2-b209-45fe-dc98-b866fe139dd9"
   },
   "outputs": [],
   "source": [
    "def fiba(n):\n",
    "    if n < 2:\n",
    "        return n\n",
    "    else:\n",
    "        return fiba(n-1) + fiba(n-2)\n",
    "\n",
    "\n",
    "\n",
    "fiba(5)"
   ]
  },
  {
   "cell_type": "markdown",
   "metadata": {
    "id": "nyvmtSviPtvc"
   },
   "source": [
    "# Thank you!"
   ]
  }
 ],
 "metadata": {
  "colab": {
   "provenance": []
  },
  "kernelspec": {
   "display_name": "Python 3 (ipykernel)",
   "language": "python",
   "name": "python3"
  },
  "language_info": {
   "codemirror_mode": {
    "name": "ipython",
    "version": 3
   },
   "file_extension": ".py",
   "mimetype": "text/x-python",
   "name": "python",
   "nbconvert_exporter": "python",
   "pygments_lexer": "ipython3",
   "version": "3.11.7"
  },
  "vscode": {
   "interpreter": {
    "hash": "7a3d88c904243d2c3f246166597f86d1c0a39f3d97496d1fe394945d0c6d436d"
   }
  }
 },
 "nbformat": 4,
 "nbformat_minor": 4
}
