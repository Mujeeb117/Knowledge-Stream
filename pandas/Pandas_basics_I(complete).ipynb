{
  "cells": [
    {
      "cell_type": "code",
      "execution_count": null,
      "metadata": {
        "id": "c_eVXa9OPtvB"
      },
      "outputs": [],
      "source": [
        "import pandas as pd # A general purpose Python library for data analysis\n",
        "import numpy as np # A library for scientific computing in Python (e.g., provides high-performance multi-dimensional array objects and operations)\n",
        "\n",
        "import matplotlib.pyplot as plt # a plotting library for Python and NumPy (readily customizable)\n",
        "import seaborn as sns # Another plotting library for Python (fewer syntax, excellent default themes, behind the scenes, it uses matplotlib)\n",
        "import time"
      ]
    },
    {
      "cell_type": "markdown",
      "metadata": {
        "id": "PSdsojacPtvD"
      },
      "source": [
        "## Knowledge Stream Summer 2023\n",
        "\n",
        "In this notebook, we will learn about the key data structures provided by the Pandas library: **Data Frames, Series, and Indices**.\n",
        "\n",
        "In addition, we will learn about the following operations:\n",
        "* How to access data contained in these structures?\n",
        "* How to read files (e.g., csv, xlsx, sql) to create these structures?\n",
        "* How to carry out different data manipulation tasks using these structures?\n",
        "\n",
        "`Dataset`: US elections with information about candidates, their party, votes won, year of election and the result."
      ]
    },
    {
      "cell_type": "markdown",
      "metadata": {
        "id": "sufDZrcePtvF"
      },
      "source": [
        "## Reading in Data Frames from Files"
      ]
    },
    {
      "cell_type": "markdown",
      "metadata": {
        "id": "SKvAs5UMPtvG"
      },
      "source": [
        "Pandas has a number of useful file reading tools. You can see them enumerated by typing **\"pd.re\"** and pressing `tab`. We'll be using **read_csv** today. Note that these file reading functions do all the *data parsing* for you, which is very useful."
      ]
    },
    {
      "cell_type": "markdown",
      "metadata": {
        "id": "wAchNI6BPtvG"
      },
      "source": [
        "Before loading a file into a dataframe, let's first take a look at the **elections.csv** file"
      ]
    },
    {
      "cell_type": "code",
      "execution_count": null,
      "metadata": {
        "id": "vQruwj5rPtvG",
        "scrolled": true,
        "outputId": "f24e5155-218e-4e0e-87ad-7a3c95cd19ba"
      },
      "outputs": [
        {
          "name": "stdout",
          "output_type": "stream",
          "text": [
            "     Year          Candidate                  Party  Popular vote Result  \\\n",
            "0    1824     Andrew Jackson  Democratic-Republican        151271   loss   \n",
            "1    1824  John Quincy Adams  Democratic-Republican        113142    win   \n",
            "2    1828     Andrew Jackson             Democratic        642806    win   \n",
            "3    1828  John Quincy Adams    National Republican        500897   loss   \n",
            "4    1832     Andrew Jackson             Democratic        702735    win   \n",
            "..    ...                ...                    ...           ...    ...   \n",
            "177  2016         Jill Stein                  Green       1457226   loss   \n",
            "178  2020       Joseph Biden             Democratic      81268924    win   \n",
            "179  2020       Donald Trump             Republican      74216154   loss   \n",
            "180  2020       Jo Jorgensen            Libertarian       1865724   loss   \n",
            "181  2020     Howard Hawkins                  Green        405035   loss   \n",
            "\n",
            "             %  \n",
            "0    57.210122  \n",
            "1    42.789878  \n",
            "2    56.203927  \n",
            "3    43.796073  \n",
            "4    54.574789  \n",
            "..         ...  \n",
            "177   1.073699  \n",
            "178  51.311515  \n",
            "179  46.858542  \n",
            "180   1.177979  \n",
            "181   0.255731  \n",
            "\n",
            "[182 rows x 6 columns]\n"
          ]
        }
      ],
      "source": [
        "#Answer Here\n",
        "df=pd.read_csv('elections.csv')\n",
        "print(df)"
      ]
    },
    {
      "cell_type": "markdown",
      "metadata": {
        "id": "DFG0R-hvPtvH"
      },
      "source": [
        "We can use the **head command** to show only a few rows of a dataframe."
      ]
    },
    {
      "cell_type": "markdown",
      "metadata": {
        "id": "bHoeuiciPtvH"
      },
      "source": [
        "# heading\n",
        "## heading2"
      ]
    },
    {
      "cell_type": "code",
      "execution_count": null,
      "metadata": {
        "id": "ft8isrsOPtvI",
        "outputId": "717f160f-e749-4dd1-e9a6-c167ce451217"
      },
      "outputs": [
        {
          "data": {
            "text/html": [
              "<div>\n",
              "<style scoped>\n",
              "    .dataframe tbody tr th:only-of-type {\n",
              "        vertical-align: middle;\n",
              "    }\n",
              "\n",
              "    .dataframe tbody tr th {\n",
              "        vertical-align: top;\n",
              "    }\n",
              "\n",
              "    .dataframe thead th {\n",
              "        text-align: right;\n",
              "    }\n",
              "</style>\n",
              "<table border=\"1\" class=\"dataframe\">\n",
              "  <thead>\n",
              "    <tr style=\"text-align: right;\">\n",
              "      <th></th>\n",
              "      <th>Year</th>\n",
              "      <th>Candidate</th>\n",
              "      <th>Party</th>\n",
              "      <th>Popular vote</th>\n",
              "      <th>Result</th>\n",
              "      <th>%</th>\n",
              "    </tr>\n",
              "  </thead>\n",
              "  <tbody>\n",
              "    <tr>\n",
              "      <th>0</th>\n",
              "      <td>1824</td>\n",
              "      <td>Andrew Jackson</td>\n",
              "      <td>Democratic-Republican</td>\n",
              "      <td>151271</td>\n",
              "      <td>loss</td>\n",
              "      <td>57.210122</td>\n",
              "    </tr>\n",
              "    <tr>\n",
              "      <th>1</th>\n",
              "      <td>1824</td>\n",
              "      <td>John Quincy Adams</td>\n",
              "      <td>Democratic-Republican</td>\n",
              "      <td>113142</td>\n",
              "      <td>win</td>\n",
              "      <td>42.789878</td>\n",
              "    </tr>\n",
              "    <tr>\n",
              "      <th>2</th>\n",
              "      <td>1828</td>\n",
              "      <td>Andrew Jackson</td>\n",
              "      <td>Democratic</td>\n",
              "      <td>642806</td>\n",
              "      <td>win</td>\n",
              "      <td>56.203927</td>\n",
              "    </tr>\n",
              "    <tr>\n",
              "      <th>3</th>\n",
              "      <td>1828</td>\n",
              "      <td>John Quincy Adams</td>\n",
              "      <td>National Republican</td>\n",
              "      <td>500897</td>\n",
              "      <td>loss</td>\n",
              "      <td>43.796073</td>\n",
              "    </tr>\n",
              "    <tr>\n",
              "      <th>4</th>\n",
              "      <td>1832</td>\n",
              "      <td>Andrew Jackson</td>\n",
              "      <td>Democratic</td>\n",
              "      <td>702735</td>\n",
              "      <td>win</td>\n",
              "      <td>54.574789</td>\n",
              "    </tr>\n",
              "    <tr>\n",
              "      <th>5</th>\n",
              "      <td>1832</td>\n",
              "      <td>Henry Clay</td>\n",
              "      <td>National Republican</td>\n",
              "      <td>484205</td>\n",
              "      <td>loss</td>\n",
              "      <td>37.603628</td>\n",
              "    </tr>\n",
              "    <tr>\n",
              "      <th>6</th>\n",
              "      <td>1832</td>\n",
              "      <td>William Wirt</td>\n",
              "      <td>Anti-Masonic</td>\n",
              "      <td>100715</td>\n",
              "      <td>loss</td>\n",
              "      <td>7.821583</td>\n",
              "    </tr>\n",
              "    <tr>\n",
              "      <th>7</th>\n",
              "      <td>1836</td>\n",
              "      <td>Hugh Lawson White</td>\n",
              "      <td>Whig</td>\n",
              "      <td>146109</td>\n",
              "      <td>loss</td>\n",
              "      <td>10.005985</td>\n",
              "    </tr>\n",
              "    <tr>\n",
              "      <th>8</th>\n",
              "      <td>1836</td>\n",
              "      <td>Martin Van Buren</td>\n",
              "      <td>Democratic</td>\n",
              "      <td>763291</td>\n",
              "      <td>win</td>\n",
              "      <td>52.272472</td>\n",
              "    </tr>\n",
              "    <tr>\n",
              "      <th>9</th>\n",
              "      <td>1836</td>\n",
              "      <td>William Henry Harrison</td>\n",
              "      <td>Whig</td>\n",
              "      <td>550816</td>\n",
              "      <td>loss</td>\n",
              "      <td>37.721543</td>\n",
              "    </tr>\n",
              "  </tbody>\n",
              "</table>\n",
              "</div>"
            ],
            "text/plain": [
              "   Year               Candidate                  Party  Popular vote Result  \\\n",
              "0  1824          Andrew Jackson  Democratic-Republican        151271   loss   \n",
              "1  1824       John Quincy Adams  Democratic-Republican        113142    win   \n",
              "2  1828          Andrew Jackson             Democratic        642806    win   \n",
              "3  1828       John Quincy Adams    National Republican        500897   loss   \n",
              "4  1832          Andrew Jackson             Democratic        702735    win   \n",
              "5  1832              Henry Clay    National Republican        484205   loss   \n",
              "6  1832            William Wirt           Anti-Masonic        100715   loss   \n",
              "7  1836       Hugh Lawson White                   Whig        146109   loss   \n",
              "8  1836        Martin Van Buren             Democratic        763291    win   \n",
              "9  1836  William Henry Harrison                   Whig        550816   loss   \n",
              "\n",
              "           %  \n",
              "0  57.210122  \n",
              "1  42.789878  \n",
              "2  56.203927  \n",
              "3  43.796073  \n",
              "4  54.574789  \n",
              "5  37.603628  \n",
              "6   7.821583  \n",
              "7  10.005985  \n",
              "8  52.272472  \n",
              "9  37.721543  "
            ]
          },
          "execution_count": 3,
          "metadata": {},
          "output_type": "execute_result"
        }
      ],
      "source": [
        "# Answer Here\n",
        "df.head(10)"
      ]
    },
    {
      "cell_type": "markdown",
      "metadata": {
        "id": "k2hQ-7gCPtvI"
      },
      "source": [
        "There is also a **tail command**."
      ]
    },
    {
      "cell_type": "code",
      "execution_count": null,
      "metadata": {
        "id": "Hd90_fIZPtvI",
        "outputId": "b3003fce-383b-4534-bc01-21ce778978c4"
      },
      "outputs": [
        {
          "data": {
            "text/html": [
              "<div>\n",
              "<style scoped>\n",
              "    .dataframe tbody tr th:only-of-type {\n",
              "        vertical-align: middle;\n",
              "    }\n",
              "\n",
              "    .dataframe tbody tr th {\n",
              "        vertical-align: top;\n",
              "    }\n",
              "\n",
              "    .dataframe thead th {\n",
              "        text-align: right;\n",
              "    }\n",
              "</style>\n",
              "<table border=\"1\" class=\"dataframe\">\n",
              "  <thead>\n",
              "    <tr style=\"text-align: right;\">\n",
              "      <th></th>\n",
              "      <th>Year</th>\n",
              "      <th>Candidate</th>\n",
              "      <th>Party</th>\n",
              "      <th>Popular vote</th>\n",
              "      <th>Result</th>\n",
              "      <th>%</th>\n",
              "    </tr>\n",
              "  </thead>\n",
              "  <tbody>\n",
              "    <tr>\n",
              "      <th>177</th>\n",
              "      <td>2016</td>\n",
              "      <td>Jill Stein</td>\n",
              "      <td>Green</td>\n",
              "      <td>1457226</td>\n",
              "      <td>loss</td>\n",
              "      <td>1.073699</td>\n",
              "    </tr>\n",
              "    <tr>\n",
              "      <th>178</th>\n",
              "      <td>2020</td>\n",
              "      <td>Joseph Biden</td>\n",
              "      <td>Democratic</td>\n",
              "      <td>81268924</td>\n",
              "      <td>win</td>\n",
              "      <td>51.311515</td>\n",
              "    </tr>\n",
              "    <tr>\n",
              "      <th>179</th>\n",
              "      <td>2020</td>\n",
              "      <td>Donald Trump</td>\n",
              "      <td>Republican</td>\n",
              "      <td>74216154</td>\n",
              "      <td>loss</td>\n",
              "      <td>46.858542</td>\n",
              "    </tr>\n",
              "    <tr>\n",
              "      <th>180</th>\n",
              "      <td>2020</td>\n",
              "      <td>Jo Jorgensen</td>\n",
              "      <td>Libertarian</td>\n",
              "      <td>1865724</td>\n",
              "      <td>loss</td>\n",
              "      <td>1.177979</td>\n",
              "    </tr>\n",
              "    <tr>\n",
              "      <th>181</th>\n",
              "      <td>2020</td>\n",
              "      <td>Howard Hawkins</td>\n",
              "      <td>Green</td>\n",
              "      <td>405035</td>\n",
              "      <td>loss</td>\n",
              "      <td>0.255731</td>\n",
              "    </tr>\n",
              "  </tbody>\n",
              "</table>\n",
              "</div>"
            ],
            "text/plain": [
              "     Year       Candidate        Party  Popular vote Result          %\n",
              "177  2016      Jill Stein        Green       1457226   loss   1.073699\n",
              "178  2020    Joseph Biden   Democratic      81268924    win  51.311515\n",
              "179  2020    Donald Trump   Republican      74216154   loss  46.858542\n",
              "180  2020    Jo Jorgensen  Libertarian       1865724   loss   1.177979\n",
              "181  2020  Howard Hawkins        Green        405035   loss   0.255731"
            ]
          },
          "execution_count": 4,
          "metadata": {},
          "output_type": "execute_result"
        }
      ],
      "source": [
        "#Answer Here\n",
        "df.tail(5)"
      ]
    },
    {
      "cell_type": "markdown",
      "metadata": {
        "id": "rts8fQn7PtvI"
      },
      "source": [
        "The `read_csv` command lets us specify a **column to use an index**. For example, we could have used __Year__ as the index."
      ]
    },
    {
      "cell_type": "code",
      "execution_count": null,
      "metadata": {
        "id": "r3-biPiJPtvI",
        "outputId": "8e332aac-efee-46b2-af18-972f73e19094"
      },
      "outputs": [
        {
          "data": {
            "text/html": [
              "<div>\n",
              "<style scoped>\n",
              "    .dataframe tbody tr th:only-of-type {\n",
              "        vertical-align: middle;\n",
              "    }\n",
              "\n",
              "    .dataframe tbody tr th {\n",
              "        vertical-align: top;\n",
              "    }\n",
              "\n",
              "    .dataframe thead th {\n",
              "        text-align: right;\n",
              "    }\n",
              "</style>\n",
              "<table border=\"1\" class=\"dataframe\">\n",
              "  <thead>\n",
              "    <tr style=\"text-align: right;\">\n",
              "      <th></th>\n",
              "      <th>Candidate</th>\n",
              "      <th>Party</th>\n",
              "      <th>Popular vote</th>\n",
              "      <th>Result</th>\n",
              "      <th>%</th>\n",
              "    </tr>\n",
              "    <tr>\n",
              "      <th>Year</th>\n",
              "      <th></th>\n",
              "      <th></th>\n",
              "      <th></th>\n",
              "      <th></th>\n",
              "      <th></th>\n",
              "    </tr>\n",
              "  </thead>\n",
              "  <tbody>\n",
              "    <tr>\n",
              "      <th>1824</th>\n",
              "      <td>Andrew Jackson</td>\n",
              "      <td>Democratic-Republican</td>\n",
              "      <td>151271</td>\n",
              "      <td>loss</td>\n",
              "      <td>57.210122</td>\n",
              "    </tr>\n",
              "    <tr>\n",
              "      <th>1824</th>\n",
              "      <td>John Quincy Adams</td>\n",
              "      <td>Democratic-Republican</td>\n",
              "      <td>113142</td>\n",
              "      <td>win</td>\n",
              "      <td>42.789878</td>\n",
              "    </tr>\n",
              "    <tr>\n",
              "      <th>1828</th>\n",
              "      <td>Andrew Jackson</td>\n",
              "      <td>Democratic</td>\n",
              "      <td>642806</td>\n",
              "      <td>win</td>\n",
              "      <td>56.203927</td>\n",
              "    </tr>\n",
              "    <tr>\n",
              "      <th>1828</th>\n",
              "      <td>John Quincy Adams</td>\n",
              "      <td>National Republican</td>\n",
              "      <td>500897</td>\n",
              "      <td>loss</td>\n",
              "      <td>43.796073</td>\n",
              "    </tr>\n",
              "    <tr>\n",
              "      <th>1832</th>\n",
              "      <td>Andrew Jackson</td>\n",
              "      <td>Democratic</td>\n",
              "      <td>702735</td>\n",
              "      <td>win</td>\n",
              "      <td>54.574789</td>\n",
              "    </tr>\n",
              "    <tr>\n",
              "      <th>...</th>\n",
              "      <td>...</td>\n",
              "      <td>...</td>\n",
              "      <td>...</td>\n",
              "      <td>...</td>\n",
              "      <td>...</td>\n",
              "    </tr>\n",
              "    <tr>\n",
              "      <th>2016</th>\n",
              "      <td>Jill Stein</td>\n",
              "      <td>Green</td>\n",
              "      <td>1457226</td>\n",
              "      <td>loss</td>\n",
              "      <td>1.073699</td>\n",
              "    </tr>\n",
              "    <tr>\n",
              "      <th>2020</th>\n",
              "      <td>Joseph Biden</td>\n",
              "      <td>Democratic</td>\n",
              "      <td>81268924</td>\n",
              "      <td>win</td>\n",
              "      <td>51.311515</td>\n",
              "    </tr>\n",
              "    <tr>\n",
              "      <th>2020</th>\n",
              "      <td>Donald Trump</td>\n",
              "      <td>Republican</td>\n",
              "      <td>74216154</td>\n",
              "      <td>loss</td>\n",
              "      <td>46.858542</td>\n",
              "    </tr>\n",
              "    <tr>\n",
              "      <th>2020</th>\n",
              "      <td>Jo Jorgensen</td>\n",
              "      <td>Libertarian</td>\n",
              "      <td>1865724</td>\n",
              "      <td>loss</td>\n",
              "      <td>1.177979</td>\n",
              "    </tr>\n",
              "    <tr>\n",
              "      <th>2020</th>\n",
              "      <td>Howard Hawkins</td>\n",
              "      <td>Green</td>\n",
              "      <td>405035</td>\n",
              "      <td>loss</td>\n",
              "      <td>0.255731</td>\n",
              "    </tr>\n",
              "  </tbody>\n",
              "</table>\n",
              "<p>182 rows × 5 columns</p>\n",
              "</div>"
            ],
            "text/plain": [
              "              Candidate                  Party  Popular vote Result          %\n",
              "Year                                                                          \n",
              "1824     Andrew Jackson  Democratic-Republican        151271   loss  57.210122\n",
              "1824  John Quincy Adams  Democratic-Republican        113142    win  42.789878\n",
              "1828     Andrew Jackson             Democratic        642806    win  56.203927\n",
              "1828  John Quincy Adams    National Republican        500897   loss  43.796073\n",
              "1832     Andrew Jackson             Democratic        702735    win  54.574789\n",
              "...                 ...                    ...           ...    ...        ...\n",
              "2016         Jill Stein                  Green       1457226   loss   1.073699\n",
              "2020       Joseph Biden             Democratic      81268924    win  51.311515\n",
              "2020       Donald Trump             Republican      74216154   loss  46.858542\n",
              "2020       Jo Jorgensen            Libertarian       1865724   loss   1.177979\n",
              "2020     Howard Hawkins                  Green        405035   loss   0.255731\n",
              "\n",
              "[182 rows x 5 columns]"
            ]
          },
          "execution_count": 5,
          "metadata": {},
          "output_type": "execute_result"
        }
      ],
      "source": [
        "#Answer Here\n",
        "df=pd.read_csv(\"elections.csv\", index_col= \"Year\")\n",
        "df"
      ]
    },
    {
      "cell_type": "markdown",
      "metadata": {
        "id": "zWtY3hv5R9B5"
      },
      "source": [
        "Alternately, we could have used the **set_index** commmand on the dataframe."
      ]
    },
    {
      "cell_type": "code",
      "execution_count": null,
      "metadata": {
        "id": "-u_BJi6ZPtvJ",
        "outputId": "cf82c75b-47ab-4cfa-c4e4-b3de3485a0a1"
      },
      "outputs": [
        {
          "name": "stdout",
          "output_type": "stream",
          "text": [
            "     Year          Candidate                  Party  Popular vote Result  \\\n",
            "0    1824     Andrew Jackson  Democratic-Republican        151271   loss   \n",
            "1    1824  John Quincy Adams  Democratic-Republican        113142    win   \n",
            "2    1828     Andrew Jackson             Democratic        642806    win   \n",
            "3    1828  John Quincy Adams    National Republican        500897   loss   \n",
            "4    1832     Andrew Jackson             Democratic        702735    win   \n",
            "..    ...                ...                    ...           ...    ...   \n",
            "177  2016         Jill Stein                  Green       1457226   loss   \n",
            "178  2020       Joseph Biden             Democratic      81268924    win   \n",
            "179  2020       Donald Trump             Republican      74216154   loss   \n",
            "180  2020       Jo Jorgensen            Libertarian       1865724   loss   \n",
            "181  2020     Howard Hawkins                  Green        405035   loss   \n",
            "\n",
            "             %  \n",
            "0    57.210122  \n",
            "1    42.789878  \n",
            "2    56.203927  \n",
            "3    43.796073  \n",
            "4    54.574789  \n",
            "..         ...  \n",
            "177   1.073699  \n",
            "178  51.311515  \n",
            "179  46.858542  \n",
            "180   1.177979  \n",
            "181   0.255731  \n",
            "\n",
            "[182 rows x 6 columns]\n"
          ]
        }
      ],
      "source": [
        "#Answer Here\n",
        "df=pd.read_csv('elections.csv')\n",
        "print(df)"
      ]
    },
    {
      "cell_type": "code",
      "execution_count": null,
      "metadata": {
        "id": "cbpX-M_RBa_U",
        "outputId": "fe966875-f3fd-405b-cb07-b749c3f95307"
      },
      "outputs": [
        {
          "name": "stdout",
          "output_type": "stream",
          "text": [
            "Index(['Year', 'Candidate', 'Party', 'Popular vote', 'Result', '%'], dtype='object')\n"
          ]
        }
      ],
      "source": [
        "print(df.columns)"
      ]
    },
    {
      "cell_type": "code",
      "execution_count": null,
      "metadata": {
        "id": "lJYMhWikBa_V",
        "outputId": "e8699f9f-d36d-4f5d-cbf9-ff23bdefaee0"
      },
      "outputs": [
        {
          "name": "stdout",
          "output_type": "stream",
          "text": [
            "              Candidate                  Party  Popular vote Result          %\n",
            "Year                                                                          \n",
            "1824     Andrew Jackson  Democratic-Republican        151271   loss  57.210122\n",
            "1824  John Quincy Adams  Democratic-Republican        113142    win  42.789878\n",
            "1828     Andrew Jackson             Democratic        642806    win  56.203927\n",
            "1828  John Quincy Adams    National Republican        500897   loss  43.796073\n",
            "1832     Andrew Jackson             Democratic        702735    win  54.574789\n"
          ]
        }
      ],
      "source": [
        "df.set_index('Year', inplace=True)\n",
        "print(df.head())"
      ]
    },
    {
      "cell_type": "code",
      "execution_count": null,
      "metadata": {
        "id": "VRtq6wPqBa_X"
      },
      "outputs": [],
      "source": []
    },
    {
      "cell_type": "markdown",
      "metadata": {
        "id": "kOpP3gBYPtvJ"
      },
      "source": [
        "# Caution:\n",
        "The **set_index command** (along with all other data frame methods) **does not modify the dataframe**, i.e., the original \"elections\" is untouched. Note: There is a flag called \"inplace\" which does modify the calling dataframe (e.g., `elections.set_index(\"Party\",inplace=True)`)."
      ]
    },
    {
      "cell_type": "markdown",
      "metadata": {
        "id": "HYFFeZwRPtvJ"
      },
      "source": [
        "## Duplicate Columns?\n",
        "By contast, column names MUST be unique. For example, if we try to read in a file for which column names are not unique, Pandas will automatically any duplicates. Load duplicate_columns.csv"
      ]
    },
    {
      "cell_type": "code",
      "execution_count": null,
      "metadata": {
        "id": "4VSBA-Y4PtvJ",
        "outputId": "acdc5efb-7af5-4a5e-9db2-fc549eb8b143"
      },
      "outputs": [
        {
          "data": {
            "text/html": [
              "<div>\n",
              "<style scoped>\n",
              "    .dataframe tbody tr th:only-of-type {\n",
              "        vertical-align: middle;\n",
              "    }\n",
              "\n",
              "    .dataframe tbody tr th {\n",
              "        vertical-align: top;\n",
              "    }\n",
              "\n",
              "    .dataframe thead th {\n",
              "        text-align: right;\n",
              "    }\n",
              "</style>\n",
              "<table border=\"1\" class=\"dataframe\">\n",
              "  <thead>\n",
              "    <tr style=\"text-align: right;\">\n",
              "      <th></th>\n",
              "      <th>Year</th>\n",
              "      <th>Candidate</th>\n",
              "      <th>Party</th>\n",
              "      <th>Popular vote</th>\n",
              "      <th>Result</th>\n",
              "      <th>%</th>\n",
              "      <th>Unnamed: 6</th>\n",
              "      <th>Result.1</th>\n",
              "    </tr>\n",
              "  </thead>\n",
              "  <tbody>\n",
              "    <tr>\n",
              "      <th>0</th>\n",
              "      <td>1824</td>\n",
              "      <td>Andrew Jackson</td>\n",
              "      <td>Democratic-Republican</td>\n",
              "      <td>151271</td>\n",
              "      <td>loss</td>\n",
              "      <td>57.210122</td>\n",
              "      <td>NaN</td>\n",
              "      <td>loss</td>\n",
              "    </tr>\n",
              "    <tr>\n",
              "      <th>1</th>\n",
              "      <td>1824</td>\n",
              "      <td>John Quincy Adams</td>\n",
              "      <td>Democratic-Republican</td>\n",
              "      <td>113142</td>\n",
              "      <td>win</td>\n",
              "      <td>42.789878</td>\n",
              "      <td>NaN</td>\n",
              "      <td>win</td>\n",
              "    </tr>\n",
              "    <tr>\n",
              "      <th>2</th>\n",
              "      <td>1828</td>\n",
              "      <td>Andrew Jackson</td>\n",
              "      <td>Democratic</td>\n",
              "      <td>642806</td>\n",
              "      <td>win</td>\n",
              "      <td>56.203927</td>\n",
              "      <td>NaN</td>\n",
              "      <td>win</td>\n",
              "    </tr>\n",
              "    <tr>\n",
              "      <th>3</th>\n",
              "      <td>1828</td>\n",
              "      <td>John Quincy Adams</td>\n",
              "      <td>National Republican</td>\n",
              "      <td>500897</td>\n",
              "      <td>loss</td>\n",
              "      <td>43.796073</td>\n",
              "      <td>NaN</td>\n",
              "      <td>loss</td>\n",
              "    </tr>\n",
              "    <tr>\n",
              "      <th>4</th>\n",
              "      <td>1832</td>\n",
              "      <td>Andrew Jackson</td>\n",
              "      <td>Democratic</td>\n",
              "      <td>702735</td>\n",
              "      <td>win</td>\n",
              "      <td>54.574789</td>\n",
              "      <td>NaN</td>\n",
              "      <td>win</td>\n",
              "    </tr>\n",
              "    <tr>\n",
              "      <th>...</th>\n",
              "      <td>...</td>\n",
              "      <td>...</td>\n",
              "      <td>...</td>\n",
              "      <td>...</td>\n",
              "      <td>...</td>\n",
              "      <td>...</td>\n",
              "      <td>...</td>\n",
              "      <td>...</td>\n",
              "    </tr>\n",
              "    <tr>\n",
              "      <th>177</th>\n",
              "      <td>2016</td>\n",
              "      <td>Jill Stein</td>\n",
              "      <td>Green</td>\n",
              "      <td>1457226</td>\n",
              "      <td>loss</td>\n",
              "      <td>1.073699</td>\n",
              "      <td>NaN</td>\n",
              "      <td>loss</td>\n",
              "    </tr>\n",
              "    <tr>\n",
              "      <th>178</th>\n",
              "      <td>2020</td>\n",
              "      <td>Joseph Biden</td>\n",
              "      <td>Democratic</td>\n",
              "      <td>81268924</td>\n",
              "      <td>win</td>\n",
              "      <td>51.311515</td>\n",
              "      <td>NaN</td>\n",
              "      <td>win</td>\n",
              "    </tr>\n",
              "    <tr>\n",
              "      <th>179</th>\n",
              "      <td>2020</td>\n",
              "      <td>Donald Trump</td>\n",
              "      <td>Republican</td>\n",
              "      <td>74216154</td>\n",
              "      <td>loss</td>\n",
              "      <td>46.858542</td>\n",
              "      <td>NaN</td>\n",
              "      <td>loss</td>\n",
              "    </tr>\n",
              "    <tr>\n",
              "      <th>180</th>\n",
              "      <td>2020</td>\n",
              "      <td>Jo Jorgensen</td>\n",
              "      <td>Libertarian</td>\n",
              "      <td>1865724</td>\n",
              "      <td>loss</td>\n",
              "      <td>1.177979</td>\n",
              "      <td>NaN</td>\n",
              "      <td>loss</td>\n",
              "    </tr>\n",
              "    <tr>\n",
              "      <th>181</th>\n",
              "      <td>2020</td>\n",
              "      <td>Howard Hawkins</td>\n",
              "      <td>Green</td>\n",
              "      <td>405035</td>\n",
              "      <td>loss</td>\n",
              "      <td>0.255731</td>\n",
              "      <td>NaN</td>\n",
              "      <td>loss</td>\n",
              "    </tr>\n",
              "  </tbody>\n",
              "</table>\n",
              "<p>182 rows × 8 columns</p>\n",
              "</div>"
            ],
            "text/plain": [
              "     Year          Candidate                  Party  Popular vote Result  \\\n",
              "0    1824     Andrew Jackson  Democratic-Republican        151271   loss   \n",
              "1    1824  John Quincy Adams  Democratic-Republican        113142    win   \n",
              "2    1828     Andrew Jackson             Democratic        642806    win   \n",
              "3    1828  John Quincy Adams    National Republican        500897   loss   \n",
              "4    1832     Andrew Jackson             Democratic        702735    win   \n",
              "..    ...                ...                    ...           ...    ...   \n",
              "177  2016         Jill Stein                  Green       1457226   loss   \n",
              "178  2020       Joseph Biden             Democratic      81268924    win   \n",
              "179  2020       Donald Trump             Republican      74216154   loss   \n",
              "180  2020       Jo Jorgensen            Libertarian       1865724   loss   \n",
              "181  2020     Howard Hawkins                  Green        405035   loss   \n",
              "\n",
              "             %  Unnamed: 6 Result.1  \n",
              "0    57.210122         NaN     loss  \n",
              "1    42.789878         NaN      win  \n",
              "2    56.203927         NaN      win  \n",
              "3    43.796073         NaN     loss  \n",
              "4    54.574789         NaN      win  \n",
              "..         ...         ...      ...  \n",
              "177   1.073699         NaN     loss  \n",
              "178  51.311515         NaN      win  \n",
              "179  46.858542         NaN     loss  \n",
              "180   1.177979         NaN     loss  \n",
              "181   0.255731         NaN     loss  \n",
              "\n",
              "[182 rows x 8 columns]"
            ]
          },
          "execution_count": 9,
          "metadata": {},
          "output_type": "execute_result"
        }
      ],
      "source": [
        "#Answer Here\n",
        "df2=pd.read_csv('duplicate.csv')\n",
        "df2"
      ]
    },
    {
      "cell_type": "code",
      "execution_count": null,
      "metadata": {
        "id": "ZumXEDG6Ba_a",
        "outputId": "225dc694-7c1e-45f6-b5df-dc5f82b280fb"
      },
      "outputs": [
        {
          "name": "stdout",
          "output_type": "stream",
          "text": [
            "Index(['Year', 'Candidate', 'Party', 'Popular vote', 'Result', '%',\n",
            "       'Unnamed: 6', 'Result.1'],\n",
            "      dtype='object')\n"
          ]
        }
      ],
      "source": [
        "print(df2.columns)"
      ]
    },
    {
      "cell_type": "markdown",
      "metadata": {
        "id": "fUjSXLNhPtvK"
      },
      "source": [
        "## The [ ] Operator & Indexing"
      ]
    },
    {
      "cell_type": "markdown",
      "metadata": {
        "id": "_y0PM7R9PtvK"
      },
      "source": [
        "The DataFrame class has an indexing operator **[ ]** (also known as the 'brack' operator) that lets you do a variety of different things. If your provide a String to the **[ ]** operator, you get back a ***Series*** corresponding to the requested label.\n",
        "\n",
        "1.Use **[ ]** to display different columns\n",
        "\n",
        "2.Use List retrive multiple columns"
      ]
    },
    {
      "cell_type": "code",
      "execution_count": null,
      "metadata": {
        "id": "pCn5OPgQBa_c",
        "outputId": "81ef83f0-02be-4860-d7c7-cb43162905e6"
      },
      "outputs": [
        {
          "data": {
            "text/plain": [
              "Index(['Candidate', 'Party', 'Popular vote', 'Result', '%'], dtype='object')"
            ]
          },
          "execution_count": 18,
          "metadata": {},
          "output_type": "execute_result"
        }
      ],
      "source": [
        "df.columns"
      ]
    },
    {
      "cell_type": "code",
      "execution_count": null,
      "metadata": {
        "id": "pv5uBw3lBa_d",
        "outputId": "13c539c4-f09c-4a66-e656-02e299d17047"
      },
      "outputs": [
        {
          "name": "stdout",
          "output_type": "stream",
          "text": [
            "     Result\n",
            "Year       \n",
            "1824   loss\n",
            "1824    win\n",
            "1828    win\n",
            "1828   loss\n",
            "1832    win\n",
            "...     ...\n",
            "2016   loss\n",
            "2020    win\n",
            "2020   loss\n",
            "2020   loss\n",
            "2020   loss\n",
            "\n",
            "[182 rows x 1 columns]\n"
          ]
        }
      ],
      "source": [
        "#1.Use [ ] to display different columns\n",
        "print(df[['Result']])"
      ]
    },
    {
      "cell_type": "code",
      "execution_count": null,
      "metadata": {
        "id": "iSx-6SyPBa_e",
        "outputId": "e41aeb46-64b0-4722-955c-297af969cec1"
      },
      "outputs": [
        {
          "name": "stdout",
          "output_type": "stream",
          "text": [
            "      Popular vote\n",
            "Year              \n",
            "1824        151271\n",
            "1824        113142\n",
            "1828        642806\n",
            "1828        500897\n",
            "1832        702735\n",
            "...            ...\n",
            "2016       1457226\n",
            "2020      81268924\n",
            "2020      74216154\n",
            "2020       1865724\n",
            "2020        405035\n",
            "\n",
            "[182 rows x 1 columns]\n"
          ]
        }
      ],
      "source": [
        "print(df[['Popular vote']])"
      ]
    },
    {
      "cell_type": "code",
      "execution_count": null,
      "metadata": {
        "id": "nZ_gEmvvBa_f",
        "outputId": "93025bfc-b03e-4548-cef5-2b74ec2977d7"
      },
      "outputs": [
        {
          "name": "stdout",
          "output_type": "stream",
          "text": [
            "              Candidate                  Party\n",
            "Year                                          \n",
            "1824     Andrew Jackson  Democratic-Republican\n",
            "1824  John Quincy Adams  Democratic-Republican\n",
            "1828     Andrew Jackson             Democratic\n",
            "1828  John Quincy Adams    National Republican\n",
            "1832     Andrew Jackson             Democratic\n",
            "...                 ...                    ...\n",
            "2016         Jill Stein                  Green\n",
            "2020       Joseph Biden             Democratic\n",
            "2020       Donald Trump             Republican\n",
            "2020       Jo Jorgensen            Libertarian\n",
            "2020     Howard Hawkins                  Green\n",
            "\n",
            "[182 rows x 2 columns]\n"
          ]
        }
      ],
      "source": [
        "#2.Use a List to Retrieve Multiple Columns\n",
        "print(df[['Candidate', 'Party']])"
      ]
    },
    {
      "cell_type": "markdown",
      "metadata": {
        "id": "DopcbfEpPtvK"
      },
      "source": [
        "The **[ ]** operator also accepts a list of strings. In this case, you get back a **DataFrame** corresponding to the requested strings."
      ]
    },
    {
      "cell_type": "code",
      "execution_count": null,
      "metadata": {
        "id": "lX4YozsZPtvK",
        "scrolled": true,
        "outputId": "37d1a740-cf92-49c1-cdfe-bad64192c8a9"
      },
      "outputs": [
        {
          "name": "stdout",
          "output_type": "stream",
          "text": [
            "Retrieving 'Candidate' and 'Party' columns as a DataFrame:\n",
            "             Candidate                  Party\n",
            "0       Andrew Jackson  Democratic-Republican\n",
            "1    John Quincy Adams  Democratic-Republican\n",
            "2       Andrew Jackson             Democratic\n",
            "3    John Quincy Adams    National Republican\n",
            "4       Andrew Jackson             Democratic\n",
            "..                 ...                    ...\n",
            "177         Jill Stein                  Green\n",
            "178       Joseph Biden             Democratic\n",
            "179       Donald Trump             Republican\n",
            "180       Jo Jorgensen            Libertarian\n",
            "181     Howard Hawkins                  Green\n",
            "\n",
            "[182 rows x 2 columns]\n",
            "\n",
            "Retrieving 'Year', 'Candidate', and 'Popular vote' columns as a DataFrame:\n",
            "     Year          Candidate  Popular vote\n",
            "0    1824     Andrew Jackson        151271\n",
            "1    1824  John Quincy Adams        113142\n",
            "2    1828     Andrew Jackson        642806\n",
            "3    1828  John Quincy Adams        500897\n",
            "4    1832     Andrew Jackson        702735\n",
            "..    ...                ...           ...\n",
            "177  2016         Jill Stein       1457226\n",
            "178  2020       Joseph Biden      81268924\n",
            "179  2020       Donald Trump      74216154\n",
            "180  2020       Jo Jorgensen       1865724\n",
            "181  2020     Howard Hawkins        405035\n",
            "\n",
            "[182 rows x 3 columns]\n"
          ]
        }
      ],
      "source": [
        "# Answer Here\n",
        "import pandas as pd\n",
        "\n",
        "# Load the CSV file\n",
        "df = pd.read_csv('duplicate.csv')\n",
        "\n",
        "\n",
        "print(\"Retrieving 'Candidate' and 'Party' columns as a DataFrame:\")\n",
        "candidate_party_df = df[['Candidate', 'Party']]\n",
        "print(candidate_party_df)\n",
        "\n",
        "print(\"\\nRetrieving 'Year', 'Candidate', and 'Popular vote' columns as a DataFrame:\")\n",
        "year_candidate_vote_df = df[['Year', 'Candidate', 'Popular vote']]\n",
        "print(year_candidate_vote_df)\n"
      ]
    },
    {
      "cell_type": "markdown",
      "metadata": {
        "id": "7pv2JkjRPtvK"
      },
      "source": [
        "A list of one label also returns a DataFrame. This can be handy if you want your results as a DataFrame, not a series."
      ]
    },
    {
      "cell_type": "markdown",
      "metadata": {
        "id": "XqKnvINoPtvL"
      },
      "source": [
        "Note that we can also use the **to_frame** method to turn a Series into a DataFrame.\n",
        "\n",
        "Extract one col name \"Candidates\" from DataFrame it will be a series. Convert series into a DataFrame."
      ]
    },
    {
      "cell_type": "code",
      "execution_count": null,
      "metadata": {
        "id": "XUOtNoVnPtvL",
        "outputId": "0814a2be-baba-4243-d573-965f5974cdd6"
      },
      "outputs": [
        {
          "name": "stdout",
          "output_type": "stream",
          "text": [
            "Series:\n",
            "0         Andrew Jackson\n",
            "1      John Quincy Adams\n",
            "2         Andrew Jackson\n",
            "3      John Quincy Adams\n",
            "4         Andrew Jackson\n",
            "             ...        \n",
            "177           Jill Stein\n",
            "178         Joseph Biden\n",
            "179         Donald Trump\n",
            "180         Jo Jorgensen\n",
            "181       Howard Hawkins\n",
            "Name: Candidate, Length: 182, dtype: object\n",
            "\n",
            "DataFrame:\n",
            "             Candidate\n",
            "0       Andrew Jackson\n",
            "1    John Quincy Adams\n",
            "2       Andrew Jackson\n",
            "3    John Quincy Adams\n",
            "4       Andrew Jackson\n",
            "..                 ...\n",
            "177         Jill Stein\n",
            "178       Joseph Biden\n",
            "179       Donald Trump\n",
            "180       Jo Jorgensen\n",
            "181     Howard Hawkins\n",
            "\n",
            "[182 rows x 1 columns]\n",
            "\n",
            "DataFrame using a list of one label:\n",
            "             Candidate\n",
            "0       Andrew Jackson\n",
            "1    John Quincy Adams\n",
            "2       Andrew Jackson\n",
            "3    John Quincy Adams\n",
            "4       Andrew Jackson\n",
            "..                 ...\n",
            "177         Jill Stein\n",
            "178       Joseph Biden\n",
            "179       Donald Trump\n",
            "180       Jo Jorgensen\n",
            "181     Howard Hawkins\n",
            "\n",
            "[182 rows x 1 columns]\n"
          ]
        }
      ],
      "source": [
        "# Answer Here\n",
        "import pandas as pd\n",
        "\n",
        "# Load the CSV file\n",
        "df = pd.read_csv('elections.csv')\n",
        "\n",
        "\n",
        "candidate_series = df['Candidate']\n",
        "print(\"Series:\")\n",
        "print(candidate_series)\n",
        "\n",
        "\n",
        "candidate_df = candidate_series.to_frame()\n",
        "print(\"\\nDataFrame:\")\n",
        "print(candidate_df)\n",
        "\n",
        "\n",
        "candidate_df_alternative = df[['Candidate']]\n",
        "print(\"\\nDataFrame using a list of one label:\")\n",
        "print(candidate_df_alternative)\n"
      ]
    },
    {
      "cell_type": "markdown",
      "metadata": {
        "id": "8l2IdtBwPtvL"
      },
      "source": [
        "### Row Indexing\n",
        "\n",
        "The `[]` operator also accepts numerical slices as arguments. In this case, we are indexing by row, not column!\n",
        "\n",
        "Extract few rows from DataFrame"
      ]
    },
    {
      "cell_type": "code",
      "execution_count": null,
      "metadata": {
        "id": "VrZMcM5rPtvL",
        "scrolled": true,
        "outputId": "add6924d-9b62-4940-dc02-8e9d978da23c"
      },
      "outputs": [
        {
          "name": "stdout",
          "output_type": "stream",
          "text": [
            "First 5 rows:\n",
            "   Year          Candidate                  Party  Popular vote Result  \\\n",
            "0  1824     Andrew Jackson  Democratic-Republican        151271   loss   \n",
            "1  1824  John Quincy Adams  Democratic-Republican        113142    win   \n",
            "2  1828     Andrew Jackson             Democratic        642806    win   \n",
            "3  1828  John Quincy Adams    National Republican        500897   loss   \n",
            "4  1832     Andrew Jackson             Democratic        702735    win   \n",
            "\n",
            "           %  \n",
            "0  57.210122  \n",
            "1  42.789878  \n",
            "2  56.203927  \n",
            "3  43.796073  \n",
            "4  54.574789  \n",
            "\n",
            "Rows from index 10 to 15:\n",
            "    Year               Candidate       Party  Popular vote Result          %\n",
            "10  1840        Martin Van Buren  Democratic       1128854   loss  46.948787\n",
            "11  1840  William Henry Harrison        Whig       1275583    win  53.051213\n",
            "12  1844              Henry Clay        Whig       1300004   loss  49.250523\n",
            "13  1844              James Polk  Democratic       1339570    win  50.749477\n",
            "14  1848              Lewis Cass  Democratic       1223460   loss  42.552229\n",
            "15  1848        Martin Van Buren   Free Soil        291501   loss  10.138474\n",
            "\n",
            "Last 5 rows:\n",
            "     Year       Candidate        Party  Popular vote Result          %\n",
            "177  2016      Jill Stein        Green       1457226   loss   1.073699\n",
            "178  2020    Joseph Biden   Democratic      81268924    win  51.311515\n",
            "179  2020    Donald Trump   Republican      74216154   loss  46.858542\n",
            "180  2020    Jo Jorgensen  Libertarian       1865724   loss   1.177979\n",
            "181  2020  Howard Hawkins        Green        405035   loss   0.255731\n"
          ]
        }
      ],
      "source": [
        "# Answer Here\n",
        "# Extract the first 5 rows\n",
        "print(\"First 5 rows:\")\n",
        "print(df[:5])\n",
        "\n",
        "# Extract rows from index 10 to 15\n",
        "print(\"\\nRows from index 10 to 15:\")\n",
        "print(df[10:16])\n",
        "\n",
        "# Extract the last 5 rows\n",
        "print(\"\\nLast 5 rows:\")\n",
        "print(df[-5:])\n"
      ]
    },
    {
      "cell_type": "markdown",
      "metadata": {
        "id": "BbzS6oI4PtvN"
      },
      "source": [
        "If you provide a single argument to the `[]` operator, it tries to use it as a name. This is true even if the argument passed to **[ ]** is an integer."
      ]
    },
    {
      "cell_type": "code",
      "execution_count": null,
      "metadata": {
        "id": "tw51ccpUPtvN",
        "outputId": "2aac3dab-c5e9-466b-cbcb-bbb0e4e3e659"
      },
      "outputs": [
        {
          "name": "stdout",
          "output_type": "stream",
          "text": [
            "First row using .iloc[]:\n",
            "Year                             1824\n",
            "Candidate              Andrew Jackson\n",
            "Party           Democratic-Republican\n",
            "Popular vote                   151271\n",
            "Result                           loss\n",
            "%                           57.210122\n",
            "Name: 0, dtype: object\n",
            "\n",
            "Rows from index 0 to 4 using .iloc[]:\n",
            "   Year          Candidate                  Party  Popular vote Result  \\\n",
            "0  1824     Andrew Jackson  Democratic-Republican        151271   loss   \n",
            "1  1824  John Quincy Adams  Democratic-Republican        113142    win   \n",
            "2  1828     Andrew Jackson             Democratic        642806    win   \n",
            "3  1828  John Quincy Adams    National Republican        500897   loss   \n",
            "4  1832     Andrew Jackson             Democratic        702735    win   \n",
            "\n",
            "           %  \n",
            "0  57.210122  \n",
            "1  42.789878  \n",
            "2  56.203927  \n",
            "3  43.796073  \n",
            "4  54.574789  \n",
            "\n",
            "Row with index label 1824 using .loc[]:\n",
            "              Candidate                  Party  Popular vote Result          %\n",
            "Year                                                                          \n",
            "1824     Andrew Jackson  Democratic-Republican        151271   loss  57.210122\n",
            "1824  John Quincy Adams  Democratic-Republican        113142    win  42.789878\n"
          ]
        }
      ],
      "source": [
        "#elections[0] #this does not work, try uncommenting this to see it fail in action, woo\n",
        "print(\"First row using .iloc[]:\")\n",
        "print(df.iloc[0])\n",
        "\n",
        "# Extract rows from index 0 to 4 using .iloc[]\n",
        "print(\"\\nRows from index 0 to 4 using .iloc[]:\")\n",
        "print(df.iloc[0:5])\n",
        "\n",
        "# Assuming 'Year' is the index for label-based indexing\n",
        "df.set_index('Year', inplace=True)\n",
        "\n",
        "# Extract the row with index label 1824 using .loc[]\n",
        "print(\"\\nRow with index label 1824 using .loc[]:\")\n",
        "print(df.loc[1824])"
      ]
    },
    {
      "cell_type": "markdown",
      "metadata": {
        "id": "EJsBn7uKPtvN"
      },
      "source": [
        "The following cells allow you to **test your understanding**. Let's go over the summary of what we have learnt (see slides).\n",
        "\n",
        "# Creating DataFrames\n",
        "Create DataFrame using List and Columns name."
      ]
    },
    {
      "cell_type": "code",
      "execution_count": null,
      "metadata": {
        "id": "yA1NsyftUQYi",
        "outputId": "2734c1ba-aa8e-4375-c2c7-39b324b02f4b"
      },
      "outputs": [
        {
          "name": "stdout",
          "output_type": "stream",
          "text": [
            "   ID     Name  Age\n",
            "0   1    Alice   24\n",
            "1   2      Bob   27\n",
            "2   3  Charlie   22\n"
          ]
        }
      ],
      "source": [
        "data = [\n",
        "    [1, 'A', 24],\n",
        "    [2, 'B', 27],\n",
        "    [3, 'C', 22]\n",
        "]\n",
        "columns = ['ID', 'Name', 'Age']\n",
        "\n",
        "df = pd.DataFrame(data, columns=columns)\n",
        "print(df)\n"
      ]
    },
    {
      "cell_type": "markdown",
      "metadata": {
        "id": "De8I7tdRhSCc"
      },
      "source": [
        "Creating DataFrames using **Dictionary**."
      ]
    },
    {
      "cell_type": "code",
      "execution_count": null,
      "metadata": {
        "id": "YLidbVoJPtvN",
        "outputId": "e86678a8-3274-4cb4-914c-1f0a9b4e559b"
      },
      "outputs": [
        {
          "name": "stdout",
          "output_type": "stream",
          "text": [
            "   ID Name  Age\n",
            "0   1    A   24\n",
            "1   2    B   27\n",
            "2   3    C   22\n"
          ]
        }
      ],
      "source": [
        "# Answer Here\n",
        "\n",
        "data = {\n",
        "    'ID': [1, 2, 3],\n",
        "    'Name': ['A', 'B', 'C'],\n",
        "    'Age': [24, 27, 22]\n",
        "}\n",
        "\n",
        "df = pd.DataFrame(data)\n",
        "print(df)\n"
      ]
    },
    {
      "cell_type": "markdown",
      "metadata": {
        "id": "GsX8jyA3PtvO"
      },
      "source": [
        "## Filtering via Boolean Array Selection"
      ]
    },
    {
      "cell_type": "markdown",
      "metadata": {
        "id": "RXDjTannPtvO"
      },
      "source": [
        "The `[]` operator also supports array of booleans as an input. In this case, the array must be exactly as long as the number of rows. The result is a **filtered version of the data frame**, where **only rows corresponding to True appear**."
      ]
    },
    {
      "cell_type": "code",
      "execution_count": null,
      "metadata": {
        "id": "pD79oglhPtvP"
      },
      "outputs": [],
      "source": [
        "elections[[False, False, False, False, False,\n",
        "          False, False, True, False, False,\n",
        "          True, False, False, False, True,\n",
        "          False, False, False, False, False,\n",
        "          False, True, False]]"
      ]
    },
    {
      "cell_type": "markdown",
      "metadata": {
        "id": "0lo-osU2PtvP"
      },
      "source": [
        "One very common task in Data Science is **filtering**. Boolean Array Selection is one way to achieve this in Pandas. We start by observing that **logical operators** like the equality operator can be applied to **Pandas Series data** to generate a **Boolean Array**.\n",
        "\n",
        "Compare the 'Result' column to the String 'win' and Show results"
      ]
    },
    {
      "cell_type": "code",
      "execution_count": null,
      "metadata": {
        "id": "Or9NKO2kPtvP",
        "colab": {
          "base_uri": "https://localhost:8080/"
        },
        "outputId": "5acdb93f-b01b-4ba3-e993-97d238899864"
      },
      "outputs": [
        {
          "output_type": "stream",
          "name": "stdout",
          "text": [
            "Original DataFrame:\n",
            "   ID Name Result\n",
            "0   1    A    win\n",
            "1   2    B   lose\n",
            "2   3    C    win\n",
            "3   4    D   lose\n",
            "4   5    E    win\n",
            "\n",
            "Boolean array:\n",
            "0     True\n",
            "1    False\n",
            "2     True\n",
            "3    False\n",
            "4     True\n",
            "Name: Result, dtype: bool\n",
            "\n",
            "Filtered DataFrame:\n",
            "   ID Name Result\n",
            "0   1    A    win\n",
            "2   3    C    win\n",
            "4   5    E    win\n"
          ]
        }
      ],
      "source": [
        "#Answer Here\n",
        "import pandas as pd\n",
        "\n",
        "# Sample data\n",
        "data = {\n",
        "    'ID': [1, 2, 3, 4, 5],\n",
        "    'Name': ['A', 'B', 'C', 'D', 'E'],\n",
        "    'Result': ['win', 'lose', 'win', 'lose', 'win']\n",
        "}\n",
        "\n",
        "\n",
        "df = pd.DataFrame(data)\n",
        "\n",
        "print(\"Original DataFrame:\")\n",
        "print(df)\n",
        "\n",
        "bool_array = df['Result'] == 'win'\n",
        "\n",
        "print(\"\\nBoolean array:\")\n",
        "print(bool_array)\n",
        "filtered_df = df[bool_array]\n",
        "\n",
        "\n",
        "print(\"\\nFiltered DataFrame:\")\n",
        "print(filtered_df)\n"
      ]
    },
    {
      "cell_type": "markdown",
      "metadata": {
        "id": "bFEH7w974G63"
      },
      "source": [
        "Compare the 'Party' column to the String 'Democratic' and Show results"
      ]
    },
    {
      "cell_type": "code",
      "execution_count": null,
      "metadata": {
        "id": "BeyIZ48fPtvP",
        "colab": {
          "base_uri": "https://localhost:8080/"
        },
        "outputId": "fffb61e1-a990-4a48-cb2f-934f3645ee20"
      },
      "outputs": [
        {
          "output_type": "stream",
          "name": "stdout",
          "text": [
            "Original DataFrame:\n",
            "  Candidate        Party\n",
            "0         A   Democratic\n",
            "1         B   Republican\n",
            "2         C   Democratic\n",
            "3         D  Independent\n",
            "4         E   Democratic\n",
            "\n",
            "Boolean array:\n",
            "0     True\n",
            "1    False\n",
            "2     True\n",
            "3    False\n",
            "4     True\n",
            "Name: Party, dtype: bool\n",
            "\n",
            "Filtered DataFrame:\n",
            "  Candidate       Party\n",
            "0         A  Democratic\n",
            "2         C  Democratic\n",
            "4         E  Democratic\n"
          ]
        }
      ],
      "source": [
        "#Answer Here\n",
        "import pandas as pd\n",
        "\n",
        "# Sample data\n",
        "data = {\n",
        "    'Candidate': ['A', 'B', 'C', 'D', 'E'],\n",
        "    'Party': ['Democratic', 'Republican', 'Democratic', 'Independent', 'Democratic']\n",
        "}\n",
        "\n",
        "# Create DataFrame\n",
        "df = pd.DataFrame(data)\n",
        "\n",
        "print(\"Original DataFrame:\")\n",
        "print(df)\n",
        "\n",
        "bool_array = df['Party'] == 'Democratic'\n",
        "\n",
        "print(\"\\nBoolean array:\")\n",
        "print(bool_array)\n",
        "\n",
        "filtered_df = df[bool_array]\n",
        "\n",
        "print(\"\\nFiltered DataFrame:\")\n",
        "print(filtered_df)\n"
      ]
    },
    {
      "cell_type": "markdown",
      "metadata": {
        "id": "TiRu5S1FPtvP"
      },
      "source": [
        "The output of the logical operator applied to the Series is **another Series with the same name and index, but of datatype boolean**."
      ]
    },
    {
      "cell_type": "markdown",
      "metadata": {
        "id": "Avt0U9UBPtvQ"
      },
      "source": [
        "These boolean Series can be used as an argument to the `[]` operator.\n",
        "\n",
        "Creates  DataFrame of all election winners since 1980."
      ]
    },
    {
      "cell_type": "code",
      "execution_count": null,
      "metadata": {
        "id": "UTzXe5syPtvQ",
        "colab": {
          "base_uri": "https://localhost:8080/"
        },
        "outputId": "ca0fdfc1-132a-461c-fa7a-a59361356cc9"
      },
      "outputs": [
        {
          "output_type": "stream",
          "name": "stdout",
          "text": [
            "Election Results DataFrame:\n",
            "   Year       Winner\n",
            "0  1980  Candidate A\n",
            "1  1984  Candidate B\n",
            "2  1988  Candidate A\n",
            "3  1992  Candidate C\n",
            "4  1996  Candidate B\n",
            "5  2000  Candidate C\n",
            "6  2004  Candidate A\n",
            "7  2008  Candidate B\n",
            "8  2012  Candidate A\n",
            "9  2016  Candidate B\n",
            "\n",
            "Winners since 1980:\n",
            "   Year       Winner\n",
            "0  1980  Candidate A\n",
            "1  1984  Candidate B\n",
            "2  1988  Candidate A\n",
            "3  1992  Candidate C\n",
            "4  1996  Candidate B\n",
            "5  2000  Candidate C\n",
            "6  2004  Candidate A\n",
            "7  2008  Candidate B\n",
            "8  2012  Candidate A\n",
            "9  2016  Candidate B\n"
          ]
        }
      ],
      "source": [
        "import pandas as pd\n",
        "\n",
        "# Sample election results data (hypothetical example)\n",
        "data = {\n",
        "    'Year': [1980, 1984, 1988, 1992, 1996, 2000, 2004, 2008, 2012, 2016],\n",
        "    'Winner': ['Candidate A', 'Candidate B', 'Candidate A', 'Candidate C', 'Candidate B',\n",
        "               'Candidate C', 'Candidate A', 'Candidate B', 'Candidate A', 'Candidate B']\n",
        "}\n",
        "\n",
        "# Create DataFrame\n",
        "election_results = pd.DataFrame(data)\n",
        "\n",
        "# Display the DataFrame\n",
        "print(\"Election Results DataFrame:\")\n",
        "print(election_results)\n",
        "\n",
        "# Filter for winners since 1980\n",
        "winners_since_1980 = election_results[election_results['Year'] >= 1980]\n",
        "\n",
        "# Display the winners since 1980\n",
        "print(\"\\nWinners since 1980:\")\n",
        "print(winners_since_1980)\n"
      ]
    },
    {
      "cell_type": "markdown",
      "metadata": {
        "id": "EEv5yYEhPtvQ"
      },
      "source": [
        "Above, we've assigned the result of the logical operator to a new variable called `iswin`. This is uncommon. Usually, the series is created and used on the same line. Such code is a little tricky to read at first, but you'll get used to it quickly.\n",
        "\n",
        "Show all 'win' results between 1980 to 2000"
      ]
    },
    {
      "cell_type": "code",
      "execution_count": null,
      "metadata": {
        "id": "BBFYJwLwPtvQ",
        "colab": {
          "base_uri": "https://localhost:8080/"
        },
        "outputId": "872e2238-3fcf-42de-e324-11fead1a1ddb"
      },
      "outputs": [
        {
          "output_type": "stream",
          "name": "stdout",
          "text": [
            "Original DataFrame:\n",
            "   Year Result\n",
            "0  1980    win\n",
            "1  1984   lose\n",
            "2  1988    win\n",
            "3  1992   lose\n",
            "4  1996    win\n",
            "5  2000   lose\n",
            "6  2004    win\n",
            "7  2008   lose\n",
            "8  2012    win\n",
            "9  2016   lose\n",
            "\n",
            "Filtered DataFrame (win results between 1980 and 2000):\n",
            "   Year Result\n",
            "0  1980    win\n",
            "2  1988    win\n",
            "4  1996    win\n"
          ]
        }
      ],
      "source": [
        "#Answer Here\n",
        "\n",
        "data = {\n",
        "    'Year': [1980, 1984, 1988, 1992, 1996, 2000, 2004, 2008, 2012, 2016],\n",
        "    'Result': ['win', 'lose', 'win', 'lose', 'win', 'lose', 'win', 'lose', 'win', 'lose']\n",
        "}\n",
        "\n",
        "df = pd.DataFrame(data)\n",
        "print(\"Original DataFrame:\")\n",
        "print(df)\n",
        "\n",
        "\n",
        "filtered_df = df[(df['Year'] >= 1980) & (df['Year'] <= 2000) & (df['Result'] == 'win')]\n",
        "\n",
        "print(\"\\nFiltered DataFrame (win results between 1980 and 2000):\")\n",
        "print(filtered_df)\n"
      ]
    },
    {
      "cell_type": "markdown",
      "metadata": {
        "id": "_NW4uODP5C7M"
      },
      "source": [
        "Show all 'Loss' results of Independent party"
      ]
    },
    {
      "cell_type": "code",
      "execution_count": null,
      "metadata": {
        "id": "SucI5W7yPtvQ",
        "colab": {
          "base_uri": "https://localhost:8080/"
        },
        "outputId": "45ffa97f-c3dd-4eac-c189-7bd1e0bf7c9b"
      },
      "outputs": [
        {
          "output_type": "stream",
          "name": "stdout",
          "text": [
            "Original DataFrame:\n",
            "  Candidate        Party Result\n",
            "0     Alice   Democratic    win\n",
            "1       Bob   Republican   lose\n",
            "2   Charlie  Independent   lose\n",
            "3     David  Independent    win\n",
            "4       Eva   Democratic    win\n",
            "\n",
            "Filtered DataFrame ('Loss' results of 'Independent' party):\n",
            "  Candidate        Party Result\n",
            "2   Charlie  Independent   lose\n"
          ]
        }
      ],
      "source": [
        "# Answer Here\n",
        "import pandas as pd\n",
        "\n",
        "data = {\n",
        "    'Candidate': ['Alice', 'Bob', 'Charlie', 'David', 'Eva'],\n",
        "    'Party': ['Democratic', 'Republican', 'Independent', 'Independent', 'Democratic'],\n",
        "    'Result': ['win', 'lose', 'lose', 'win', 'win']\n",
        "}\n",
        "\n",
        "df = pd.DataFrame(data)\n",
        "\n",
        "print(\"Original DataFrame:\")\n",
        "print(df)\n",
        "\n",
        "# Filter for 'Loss' results of 'Independent' party\n",
        "filtered_df = df[(df['Party'] == 'Independent') & (df['Result'] == 'lose')]\n",
        "\n",
        "# Display the filtered DataFrame\n",
        "print(\"\\nFiltered DataFrame ('Loss' results of 'Independent' party):\")\n",
        "print(filtered_df)\n"
      ]
    },
    {
      "cell_type": "markdown",
      "metadata": {
        "id": "wr9tNNT_PtvQ"
      },
      "source": [
        "We can select multiple criteria by creating multiple boolean Series and combining them using the `&` operator.\n",
        "\n",
        "Show results of win with percentage less than 50%"
      ]
    },
    {
      "cell_type": "code",
      "execution_count": null,
      "metadata": {
        "id": "7VygVujvPtvQ",
        "scrolled": true,
        "colab": {
          "base_uri": "https://localhost:8080/"
        },
        "outputId": "07ed2967-6a3e-4132-fbda-445320bdfaf2"
      },
      "outputs": [
        {
          "output_type": "stream",
          "name": "stdout",
          "text": [
            "Original DataFrame:\n",
            "  Candidate Result  Percentage\n",
            "0         A    win          45\n",
            "1         B   lose          55\n",
            "2         C    win          30\n",
            "3         D   lose          70\n",
            "4         E    win          40\n",
            "\n",
            "Filtered DataFrame (win results with percentage less than 50%):\n",
            "  Candidate Result  Percentage\n",
            "0         A    win          45\n",
            "2         C    win          30\n",
            "4         E    win          40\n"
          ]
        }
      ],
      "source": [
        "# Answer Here\n",
        "data = {\n",
        "    'Candidate': ['A', 'B', 'C', 'D', 'E'],\n",
        "    'Result': ['win', 'lose', 'win', 'lose', 'win'],\n",
        "    'Percentage': [45, 55, 30, 70, 40]\n",
        "}\n",
        "\n",
        "# Create DataFrame\n",
        "df = pd.DataFrame(data)\n",
        "\n",
        "# Display the DataFrame\n",
        "print(\"Original DataFrame:\")\n",
        "print(df)\n",
        "\n",
        "# Create boolean Series for the conditions\n",
        "win_condition = df['Result'] == 'win'\n",
        "percentage_condition = df['Percentage'] < 50\n",
        "\n",
        "# Combine conditions using & operator\n",
        "filtered_df = df[win_condition & percentage_condition]\n",
        "\n",
        "# Display the filtered DataFrame\n",
        "print(\"\\nFiltered DataFrame (win results with percentage less than 50%):\")\n",
        "print(filtered_df)\n"
      ]
    },
    {
      "cell_type": "markdown",
      "metadata": {
        "id": "ToedM6lA6Bp7"
      },
      "source": [
        "Show all 'win' results between 1980 to 2000"
      ]
    },
    {
      "cell_type": "code",
      "execution_count": null,
      "metadata": {
        "id": "RfqDKcii6Dcs",
        "colab": {
          "base_uri": "https://localhost:8080/"
        },
        "outputId": "210e6635-4614-457c-a5e6-7f3fb66a6a50"
      },
      "outputs": [
        {
          "output_type": "stream",
          "name": "stdout",
          "text": [
            "   Year Result\n",
            "0  1980    win\n",
            "2  1988    win\n",
            "4  1996    win\n"
          ]
        }
      ],
      "source": [
        "# Answer Here\n",
        "\n",
        "\n",
        "# Sample data\n",
        "data = {\n",
        "    'Year': [1980, 1984, 1988, 1992, 1996, 2000, 2004, 2008],\n",
        "    'Result': ['win', 'lose', 'win', 'lose', 'win', 'lose', 'win', 'lose']\n",
        "}\n",
        "\n",
        "# Create DataFrame and filter\n",
        "filtered_df = pd.DataFrame(data)[(pd.DataFrame(data)['Year'].between(1980, 2000)) & (pd.DataFrame(data)['Result'] == 'win')]\n",
        "\n",
        "# Display the filtered DataFrame\n",
        "print(filtered_df)\n"
      ]
    },
    {
      "cell_type": "markdown",
      "metadata": {
        "id": "pkonOW2pPtvR"
      },
      "source": [
        "## Loc and iLoc"
      ]
    },
    {
      "cell_type": "markdown",
      "metadata": {
        "id": "hSiAy9KD5eJk"
      },
      "source": [
        "Show 5 enteries from start"
      ]
    },
    {
      "cell_type": "code",
      "execution_count": null,
      "metadata": {
        "id": "OIwnpgEM6HeI"
      },
      "outputs": [],
      "source": [
        "# Answer Here\n",
        "import pandas as pd\n",
        "\n",
        "# Sample data\n",
        "data = {\n",
        "    'Year': [1980, 1984, 1988, 1992, 1996, 2000, 2004, 2008],\n",
        "    'Result': ['win', 'lose', 'win', 'lose', 'win', 'lose', 'win', 'lose']\n",
        "}\n",
        "\n",
        "df = pd.DataFrame(data)\n",
        "\n",
        "print(\"Using .loc:\")\n",
        "print(df.loc[:4])\n",
        "\n",
        "print(\"\\nUsing .iloc:\")\n",
        "print(df.iloc[:5])  # Select rows by position\n"
      ]
    },
    {
      "cell_type": "markdown",
      "metadata": {
        "id": "XHhLGedmPtvR"
      },
      "source": [
        "You can provide `.loc` a list of row labels [0-5] and column labels ['Candidate','Party', 'Year'] as input to return a dataframe"
      ]
    },
    {
      "cell_type": "code",
      "execution_count": null,
      "metadata": {
        "id": "XUZe4G0WPtvR",
        "colab": {
          "base_uri": "https://localhost:8080/"
        },
        "outputId": "c6410a0a-4211-4f6c-d3ae-eacf9b87ab7e"
      },
      "outputs": [
        {
          "output_type": "stream",
          "name": "stdout",
          "text": [
            "  Candidate        Party  Year\n",
            "0     Alice   Democratic  1980\n",
            "1       Bob   Republican  1984\n",
            "2   Charlie  Independent  1988\n",
            "3     David  Independent  1992\n",
            "4       Eva   Democratic  1996\n"
          ]
        }
      ],
      "source": [
        "\n",
        "data = {\n",
        "    'Candidate': ['Alice', 'Bob', 'Charlie', 'David', 'Eva'],\n",
        "    'Party': ['Democratic', 'Republican', 'Independent', 'Independent', 'Democratic'],\n",
        "    'Year': [1980, 1984, 1988, 1992, 1996]\n",
        "}\n",
        "\n",
        "df = pd.DataFrame(data)\n",
        "\n",
        "selected_df = df.loc[0:4, ['Candidate', 'Party', 'Year']]\n",
        "\n",
        "print(selected_df)\n"
      ]
    },
    {
      "cell_type": "markdown",
      "metadata": {
        "id": "Tw5Er1BCPtvR"
      },
      "source": [
        "Loc also supports **slicing** (for all types, including numeric and string labels!). Note that the slicing for loc is **inclusive**, even for numeric slices.\n",
        "\n",
        "Use Slicing on Rows and Columns"
      ]
    },
    {
      "cell_type": "code",
      "execution_count": null,
      "metadata": {
        "id": "SXI38aagPtvR",
        "scrolled": true,
        "colab": {
          "base_uri": "https://localhost:8080/"
        },
        "outputId": "47b5ca37-e815-4893-ca68-40660f59d521"
      },
      "outputs": [
        {
          "output_type": "stream",
          "name": "stdout",
          "text": [
            "  Candidate        Party  Year\n",
            "1       Bob   Republican  1984\n",
            "2   Charlie  Independent  1988\n",
            "3     David  Independent  1992\n"
          ]
        }
      ],
      "source": [
        "# Answer Here\n",
        "\n",
        "data = {\n",
        "    'Candidate': ['Alice', 'Bob', 'Charlie', 'David', 'Eva'],\n",
        "    'Party': ['Democratic', 'Republican', 'Independent', 'Independent', 'Democratic'],\n",
        "    'Year': [1980, 1984, 1988, 1992, 1996],\n",
        "    'Result': ['win', 'lose', 'win', 'lose', 'win']\n",
        "}\n",
        "\n",
        "df = pd.DataFrame(data)\n",
        "\n",
        "# Show a slice of rows and columns using .loc\n",
        "sliced_df = df.loc[1:3, 'Candidate':'Year']\n",
        "\n",
        "print(sliced_df)\n"
      ]
    },
    {
      "cell_type": "markdown",
      "metadata": {
        "id": "pM5KD0kPPtvR"
      },
      "source": [
        "If we provide only a **single label** for the column argument, we get back a **Series**."
      ]
    },
    {
      "cell_type": "code",
      "execution_count": null,
      "metadata": {
        "id": "Ps6PUX9_PtvS",
        "colab": {
          "base_uri": "https://localhost:8080/"
        },
        "outputId": "1057a5ff-d096-4f6f-ed59-ea5cf244e9d4"
      },
      "outputs": [
        {
          "output_type": "stream",
          "name": "stdout",
          "text": [
            "0      Alice\n",
            "1        Bob\n",
            "2    Charlie\n",
            "3      David\n",
            "4        Eva\n",
            "Name: Candidate, dtype: object\n"
          ]
        }
      ],
      "source": [
        "# Answer Here\n",
        "\n",
        "\n",
        "data = {\n",
        "    'Candidate': ['Alice', 'Bob', 'Charlie', 'David', 'Eva'],\n",
        "    'Party': ['Democratic', 'Republican', 'Independent', 'Independent', 'Democratic'],\n",
        "    'Year': [1980, 1984, 1988, 1992, 1996],\n",
        "    'Result': ['win', 'lose', 'win', 'lose', 'win']\n",
        "}\n",
        "\n",
        "# Create DataFrame\n",
        "df = pd.DataFrame(data)\n",
        "\n",
        "# Select a single column using .loc\n",
        "candidate_series = df.loc[:, 'Candidate']  # Select all rows for the 'Candidate' column\n",
        "\n",
        "# Display the resulting Series\n",
        "print(candidate_series)\n"
      ]
    },
    {
      "cell_type": "markdown",
      "metadata": {
        "id": "z8qglbBwPtvS"
      },
      "source": [
        "If we want a data frame instead and don't want to use to_frame, we can provide a **list** containing the column name."
      ]
    },
    {
      "cell_type": "code",
      "execution_count": null,
      "metadata": {
        "id": "I9JqZBVMPtvS",
        "scrolled": true,
        "colab": {
          "base_uri": "https://localhost:8080/"
        },
        "outputId": "c439ec7f-9fa0-4dbb-c358-e5ca31b9aade"
      },
      "outputs": [
        {
          "output_type": "stream",
          "name": "stdout",
          "text": [
            "  Candidate\n",
            "0     Alice\n",
            "1       Bob\n",
            "2   Charlie\n",
            "3     David\n",
            "4       Eva\n"
          ]
        }
      ],
      "source": [
        "# Answer Here\n",
        "\n",
        "import pandas as pd\n",
        "\n",
        "# Sample data\n",
        "data = {\n",
        "    'Candidate': ['Alice', 'Bob', 'Charlie', 'David', 'Eva'],\n",
        "    'Party': ['Democratic', 'Republican', 'Independent', 'Independent', 'Democratic'],\n",
        "    'Year': [1980, 1984, 1988, 1992, 1996],\n",
        "    'Result': ['win', 'lose', 'win', 'lose', 'win']\n",
        "}\n",
        "\n",
        "df = pd.DataFrame(data)\n",
        "\n",
        "# Select a single column as a DataFrame using .loc\n",
        "candidate_df = df.loc[:, ['Candidate']]\n",
        "\n",
        "# Display the resulting DataFrame\n",
        "print(candidate_df)\n"
      ]
    },
    {
      "cell_type": "markdown",
      "metadata": {
        "id": "QighByBIPtvS"
      },
      "source": [
        "If we give only one row but many column labels, we'll get back a **Series** corresponding to a row of the table. This new Series has a neat index, where **each entry is the name of the column** that the data came from."
      ]
    },
    {
      "cell_type": "code",
      "execution_count": null,
      "metadata": {
        "id": "5XT8-_bpPtvS",
        "colab": {
          "base_uri": "https://localhost:8080/"
        },
        "outputId": "495c2d6c-d9d1-4113-a160-8393ab874b27"
      },
      "outputs": [
        {
          "output_type": "stream",
          "name": "stdout",
          "text": [
            "Candidate           Bob\n",
            "Party        Republican\n",
            "Year               1984\n",
            "Name: 1, dtype: object\n"
          ]
        }
      ],
      "source": [
        "# Answer Here\n",
        "\n",
        "data = {\n",
        "    'Candidate': ['Alice', 'Bob', 'Charlie', 'David', 'Eva'],\n",
        "    'Party': ['Democratic', 'Republican', 'Independent', 'Independent', 'Democratic'],\n",
        "    'Year': [1980, 1984, 1988, 1992, 1996],\n",
        "    'Result': ['win', 'lose', 'win', 'lose', 'win']\n",
        "}\n",
        "\n",
        "# Create DataFrame\n",
        "df = pd.DataFrame(data)\n",
        "\n",
        "# Select a single row with multiple column labels using .loc\n",
        "single_row_series = df.loc[1, ['Candidate', 'Party', 'Year']]\n",
        "\n",
        "print(single_row_series)\n"
      ]
    },
    {
      "cell_type": "markdown",
      "metadata": {
        "id": "oB0GTCT5PtvS"
      },
      "source": [
        "If we omit the column argument altogether, the **default behavior is to retrieve all columns**."
      ]
    },
    {
      "cell_type": "code",
      "execution_count": null,
      "metadata": {
        "id": "cewKbmCYPtvT",
        "colab": {
          "base_uri": "https://localhost:8080/"
        },
        "outputId": "abd916e8-bc70-4024-bdf2-6f46257a40cd"
      },
      "outputs": [
        {
          "output_type": "stream",
          "name": "stdout",
          "text": [
            "Candidate        Charlie\n",
            "Party        Independent\n",
            "Year                1988\n",
            "Result               win\n",
            "Name: 2, dtype: object\n"
          ]
        }
      ],
      "source": [
        "# Answer Here\n",
        "data = {\n",
        "    'Candidate': ['Alice', 'Bob', 'Charlie', 'David', 'Eva'],\n",
        "    'Party': ['Democratic', 'Republican', 'Independent', 'Independent', 'Democratic'],\n",
        "    'Year': [1980, 1984, 1988, 1992, 1996],\n",
        "    'Result': ['win', 'lose', 'win', 'lose', 'win']\n",
        "}\n",
        "df = pd.DataFrame(data)\n",
        "single_row = df.loc[2]\n",
        "print(single_row)\n"
      ]
    },
    {
      "cell_type": "markdown",
      "metadata": {
        "id": "GIuYoSqH7TYj"
      },
      "source": [
        "Specify Rows and Columns as List to retrive specific enteries"
      ]
    },
    {
      "cell_type": "code",
      "execution_count": null,
      "metadata": {
        "id": "roAnjNt2PtvT",
        "scrolled": true,
        "colab": {
          "base_uri": "https://localhost:8080/"
        },
        "outputId": "857b9926-bead-4fb5-804e-80aa90b867b5"
      },
      "outputs": [
        {
          "output_type": "stream",
          "name": "stdout",
          "text": [
            "  Candidate Result\n",
            "0     Alice    win\n",
            "2   Charlie    win\n",
            "4       Eva    win\n"
          ]
        }
      ],
      "source": [
        "# Answer Here\n",
        "data = {\n",
        "    'Candidate': ['Alice', 'Bob', 'Charlie', 'David', 'Eva'],\n",
        "    'Party': ['Democratic', 'Republican', 'Independent', 'Independent', 'Democratic'],\n",
        "    'Year': [1980, 1984, 1988, 1992, 1996],\n",
        "    'Result': ['win', 'lose', 'win', 'lose', 'win']\n",
        "}\n",
        "df = pd.DataFrame(data)\n",
        "rows = [0, 2, 4]\n",
        "columns = ['Candidate', 'Result']\n",
        "specific_entries = df.loc[rows, columns]\n",
        "print(specific_entries)\n"
      ]
    },
    {
      "cell_type": "markdown",
      "metadata": {
        "id": "C7Bfwc6gPtvT"
      },
      "source": [
        "Boolean Series are also boolean arrays, so we can use the Boolean Array Selection from earlier using loc as well."
      ]
    },
    {
      "cell_type": "code",
      "execution_count": null,
      "metadata": {
        "id": "Ub9I30OxPtvT",
        "colab": {
          "base_uri": "https://localhost:8080/"
        },
        "outputId": "5c733348-f467-43e8-98a6-be9ce36acaff"
      },
      "outputs": [
        {
          "output_type": "stream",
          "name": "stdout",
          "text": [
            "  Candidate        Party  Year Result\n",
            "0     Alice   Democratic  1980    win\n",
            "2   Charlie  Independent  1988    win\n",
            "4       Eva   Democratic  1996    win\n"
          ]
        }
      ],
      "source": [
        "# Answer Here\n",
        "data = {\n",
        "    'Candidate': ['Alice', 'Bob', 'Charlie', 'David', 'Eva'],\n",
        "    'Party': ['Democratic', 'Republican', 'Independent', 'Independent', 'Democratic'],\n",
        "    'Year': [1980, 1984, 1988, 1992, 1996],\n",
        "    'Result': ['win', 'lose', 'win', 'lose', 'win']\n",
        "}\n",
        "df = pd.DataFrame(data)\n",
        "boolean_series = df['Result'] == 'win'\n",
        "filtered_df = df.loc[boolean_series]\n",
        "print(filtered_df)"
      ]
    },
    {
      "cell_type": "markdown",
      "metadata": {
        "id": "533WKwGXPtvT"
      },
      "source": [
        "## String-labeled Rows\n",
        "\n",
        "Let's do a quick example using data with string-labeled rows instead of integer labeled rows, just to make sure we're really understanding loc.\n",
        "\n",
        "Use mottos.csv file"
      ]
    },
    {
      "cell_type": "code",
      "execution_count": 21,
      "metadata": {
        "id": "-y7r7wfBPtvT",
        "colab": {
          "base_uri": "https://localhost:8080/",
          "height": 1000
        },
        "outputId": "1b583de6-401d-4845-d4ec-760cef6ca480"
      },
      "outputs": [
        {
          "output_type": "stream",
          "name": "stdout",
          "text": [
            "DataFrame from mottos.csv:\n",
            "                                                            Motto  \\\n",
            "State                                                               \n",
            "Alabama                             Audemus jura nostra defendere   \n",
            "Alaska                                        North to the future   \n",
            "Arizona                                                Ditat Deus   \n",
            "Arkansas                                           Regnat populus   \n",
            "California                                        Eureka (Εὕρηκα)   \n",
            "Colorado                                          Nil sine numine   \n",
            "Connecticut                               Qui transtulit sustinet   \n",
            "Delaware                                 Liberty and Independence   \n",
            "Florida                                           In God We Trust   \n",
            "Georgia                               Wisdom, Justice, Moderation   \n",
            "Hawaii                          Ua mau ke ea o ka ʻāina i ka pono   \n",
            "Idaho                                               Esto perpetua   \n",
            "Illinois                        State sovereignty, national union   \n",
            "Indiana                                 The Crossroads of America   \n",
            "Iowa            Our liberties we prize and our rights we will ...   \n",
            "Kansas                                        Ad astra per aspera   \n",
            "Kentucky                                     Deo gratiam habeamus   \n",
            "Louisiana                              Union, justice, confidence   \n",
            "Maine                                                      Dirigo   \n",
            "Maryland                             Fatti maschii, parole femine   \n",
            "Massachusetts           Ense petit placidam sub libertate quietem   \n",
            "Michigan                Si quaeris peninsulam amoenam circumspice   \n",
            "Minnesota                                        L'étoile du Nord   \n",
            "Mississippi                                      Virtute et armis   \n",
            "Missouri                            Salus populi suprema lex esto   \n",
            "Montana                                               Oro y plata   \n",
            "Nebraska                                  Equality before the law   \n",
            "Nevada                                        All For Our Country   \n",
            "New Hampshire                                    Live Free or Die   \n",
            "New Jersey                                 Liberty and prosperity   \n",
            "New Mexico                                          Crescit eundo   \n",
            "New York                                                Excelsior   \n",
            "North Carolina                                   Esse quam videri   \n",
            "North Dakota                      \\nSerit ut alteri saeclo prosit   \n",
            "Ohio                            With God, all things are possible   \n",
            "Oklahoma                                       Labor omnia vincit   \n",
            "Oregon                                        Alis volat propriis   \n",
            "Pennsylvania                    Virtue, liberty, and independence   \n",
            "Rhode Island                                                 Hope   \n",
            "South Carolina          Dum spiro spero \\nAnimis opibusque parati   \n",
            "South Dakota                            Under God the people rule   \n",
            "Tennessee                                Agriculture and Commerce   \n",
            "Texas                                                  Friendship   \n",
            "Utah                                                     Industry   \n",
            "Vermont                              Stella quarta decima fulgeat   \n",
            "Virginia                                      Sic semper tyrannis   \n",
            "Washington                                          Al-ki or Alki   \n",
            "West Virginia                               Montani semper liberi   \n",
            "Wisconsin                                                 Forward   \n",
            "Wyoming                                              Equal Rights   \n",
            "\n",
            "                                                      Translation  \\\n",
            "State                                                               \n",
            "Alabama                                We dare defend our rights!   \n",
            "Alaska                                                          —   \n",
            "Arizona                                              God enriches   \n",
            "Arkansas                                          The people rule   \n",
            "California                                        I have found it   \n",
            "Colorado                              Nothing without providence.   \n",
            "Connecticut                          He who transplanted sustains   \n",
            "Delaware                                                        —   \n",
            "Florida                                                         —   \n",
            "Georgia                                                         —   \n",
            "Hawaii          The life of the land is perpetuated in righteo...   \n",
            "Idaho                                         Let it be perpetual   \n",
            "Illinois                                                        —   \n",
            "Indiana                                                         —   \n",
            "Iowa                                                            —   \n",
            "Kansas                          To the stars through difficulties   \n",
            "Kentucky                                Let us be grateful to God   \n",
            "Louisiana                                                       —   \n",
            "Maine                                                      I lead   \n",
            "Maryland                               Manly deeds, womanly words   \n",
            "Massachusetts   By the sword we seek peace, but peace only und...   \n",
            "Michigan         If you seek a pleasant peninsula, look about you   \n",
            "Minnesota                                   The star of the North   \n",
            "Mississippi                                     By valor and arms   \n",
            "Missouri         Let the welfare of the people be the supreme law   \n",
            "Montana                                           Gold and silver   \n",
            "Nebraska                                                        —   \n",
            "Nevada                                                          —   \n",
            "New Hampshire                                                   —   \n",
            "New Jersey                                                      —   \n",
            "New Mexico                                    It grows as it goes   \n",
            "New York                                              Ever upward   \n",
            "North Carolina                         To be, rather than to seem   \n",
            "North Dakota              One sows for the benefit of another age   \n",
            "Ohio                                                            —   \n",
            "Oklahoma                                Labor conquers all things   \n",
            "Oregon                               She flies with her own wings   \n",
            "Pennsylvania                                                    —   \n",
            "Rhode Island                                                    —   \n",
            "South Carolina  While I breathe, I hope \\nReady in soul and re...   \n",
            "South Dakota                                                    —   \n",
            "Tennessee                                                       —   \n",
            "Texas                                                           —   \n",
            "Utah                                                          NaN   \n",
            "Vermont                      May the fourteenth star shine bright   \n",
            "Virginia                                   Thus always to tyrants   \n",
            "Washington                                              By and by   \n",
            "West Virginia                        Mountaineers are always free   \n",
            "Wisconsin                                                       —   \n",
            "Wyoming                                                         —   \n",
            "\n",
            "                      Language        Date Adopted  \n",
            "State                                               \n",
            "Alabama                  Latin                1923  \n",
            "Alaska                 English                1967  \n",
            "Arizona                  Latin                1863  \n",
            "Arkansas                 Latin                1907  \n",
            "California               Greek                1849  \n",
            "Colorado                 Latin    November 6, 1861  \n",
            "Connecticut              Latin     October 9, 1662  \n",
            "Delaware               English                1847  \n",
            "Florida                English                1868  \n",
            "Georgia                English                1798  \n",
            "Hawaii                Hawaiian       July 31, 1843  \n",
            "Idaho                    Latin                1890  \n",
            "Illinois               English                1819  \n",
            "Indiana                English                1937  \n",
            "Iowa                   English                1847  \n",
            "Kansas                   Latin                1861  \n",
            "Kentucky                 Latin                2002  \n",
            "Louisiana              English                1902  \n",
            "Maine                    Latin                1820  \n",
            "Maryland               Italian                1874  \n",
            "Massachusetts            Latin                1775  \n",
            "Michigan                 Latin        June 2, 1835  \n",
            "Minnesota               French                1861  \n",
            "Mississippi              Latin    February 7, 1894  \n",
            "Missouri                 Latin    January 11, 1822  \n",
            "Montana                Spanish    February 9, 1865  \n",
            "Nebraska               English                1867  \n",
            "Nevada                 English   February 24, 1866  \n",
            "New Hampshire          English                1945  \n",
            "New Jersey             English      March 26, 1928  \n",
            "New Mexico               Latin                1887  \n",
            "New York                 Latin                1778  \n",
            "North Carolina           Latin                1893  \n",
            "North Dakota             Latin      March 11, 2011  \n",
            "Ohio                   English     October 1, 1959  \n",
            "Oklahoma                 Latin      March 10, 1893  \n",
            "Oregon                   Latin                1854  \n",
            "Pennsylvania           English                1875  \n",
            "Rhode Island           English         May 4, 1664  \n",
            "South Carolina           Latin        May 22, 1777  \n",
            "South Dakota           English                1885  \n",
            "Tennessee              English        May 24, 1802  \n",
            "Texas                  English                1930  \n",
            "Utah                   English         May 3, 1896  \n",
            "Vermont                  Latin      April 10, 2015  \n",
            "Virginia                 Latin                1776  \n",
            "Washington      Chinook Jargon                   —  \n",
            "West Virginia            Latin  September 26, 1863  \n",
            "Wisconsin              English                1851  \n",
            "Wyoming                English                1893  \n"
          ]
        },
        {
          "output_type": "error",
          "ename": "KeyError",
          "evalue": "'Inspire'",
          "traceback": [
            "\u001b[0;31m---------------------------------------------------------------------------\u001b[0m",
            "\u001b[0;31mKeyError\u001b[0m                                  Traceback (most recent call last)",
            "\u001b[0;32m/usr/local/lib/python3.10/dist-packages/pandas/core/indexes/base.py\u001b[0m in \u001b[0;36mget_loc\u001b[0;34m(self, key)\u001b[0m\n\u001b[1;32m   3652\u001b[0m         \u001b[0;32mtry\u001b[0m\u001b[0;34m:\u001b[0m\u001b[0;34m\u001b[0m\u001b[0;34m\u001b[0m\u001b[0m\n\u001b[0;32m-> 3653\u001b[0;31m             \u001b[0;32mreturn\u001b[0m \u001b[0mself\u001b[0m\u001b[0;34m.\u001b[0m\u001b[0m_engine\u001b[0m\u001b[0;34m.\u001b[0m\u001b[0mget_loc\u001b[0m\u001b[0;34m(\u001b[0m\u001b[0mcasted_key\u001b[0m\u001b[0;34m)\u001b[0m\u001b[0;34m\u001b[0m\u001b[0;34m\u001b[0m\u001b[0m\n\u001b[0m\u001b[1;32m   3654\u001b[0m         \u001b[0;32mexcept\u001b[0m \u001b[0mKeyError\u001b[0m \u001b[0;32mas\u001b[0m \u001b[0merr\u001b[0m\u001b[0;34m:\u001b[0m\u001b[0;34m\u001b[0m\u001b[0;34m\u001b[0m\u001b[0m\n",
            "\u001b[0;32m/usr/local/lib/python3.10/dist-packages/pandas/_libs/index.pyx\u001b[0m in \u001b[0;36mpandas._libs.index.IndexEngine.get_loc\u001b[0;34m()\u001b[0m\n",
            "\u001b[0;32m/usr/local/lib/python3.10/dist-packages/pandas/_libs/index.pyx\u001b[0m in \u001b[0;36mpandas._libs.index.IndexEngine.get_loc\u001b[0;34m()\u001b[0m\n",
            "\u001b[0;32mpandas/_libs/hashtable_class_helper.pxi\u001b[0m in \u001b[0;36mpandas._libs.hashtable.PyObjectHashTable.get_item\u001b[0;34m()\u001b[0m\n",
            "\u001b[0;32mpandas/_libs/hashtable_class_helper.pxi\u001b[0m in \u001b[0;36mpandas._libs.hashtable.PyObjectHashTable.get_item\u001b[0;34m()\u001b[0m\n",
            "\u001b[0;31mKeyError\u001b[0m: 'Inspire'",
            "\nThe above exception was the direct cause of the following exception:\n",
            "\u001b[0;31mKeyError\u001b[0m                                  Traceback (most recent call last)",
            "\u001b[0;32m<ipython-input-21-1853d6e62fa6>\u001b[0m in \u001b[0;36m<cell line: 6>\u001b[0;34m()\u001b[0m\n\u001b[1;32m      4\u001b[0m \u001b[0mprint\u001b[0m\u001b[0;34m(\u001b[0m\u001b[0;34m\"DataFrame from mottos.csv:\"\u001b[0m\u001b[0;34m)\u001b[0m\u001b[0;34m\u001b[0m\u001b[0;34m\u001b[0m\u001b[0m\n\u001b[1;32m      5\u001b[0m \u001b[0mprint\u001b[0m\u001b[0;34m(\u001b[0m\u001b[0mdf\u001b[0m\u001b[0;34m)\u001b[0m\u001b[0;34m\u001b[0m\u001b[0;34m\u001b[0m\u001b[0m\n\u001b[0;32m----> 6\u001b[0;31m \u001b[0mmotto_entry\u001b[0m \u001b[0;34m=\u001b[0m \u001b[0mdf\u001b[0m\u001b[0;34m.\u001b[0m\u001b[0mloc\u001b[0m\u001b[0;34m[\u001b[0m\u001b[0;34m'Inspire'\u001b[0m\u001b[0;34m]\u001b[0m\u001b[0;34m\u001b[0m\u001b[0;34m\u001b[0m\u001b[0m\n\u001b[0m\u001b[1;32m      7\u001b[0m \u001b[0mprint\u001b[0m\u001b[0;34m(\u001b[0m\u001b[0;34m\"\\nMotto entry for 'Inspire':\"\u001b[0m\u001b[0;34m)\u001b[0m\u001b[0;34m\u001b[0m\u001b[0;34m\u001b[0m\u001b[0m\n\u001b[1;32m      8\u001b[0m \u001b[0mprint\u001b[0m\u001b[0;34m(\u001b[0m\u001b[0mmotto_entry\u001b[0m\u001b[0;34m)\u001b[0m\u001b[0;34m\u001b[0m\u001b[0;34m\u001b[0m\u001b[0m\n",
            "\u001b[0;32m/usr/local/lib/python3.10/dist-packages/pandas/core/indexing.py\u001b[0m in \u001b[0;36m__getitem__\u001b[0;34m(self, key)\u001b[0m\n\u001b[1;32m   1101\u001b[0m \u001b[0;34m\u001b[0m\u001b[0m\n\u001b[1;32m   1102\u001b[0m             \u001b[0mmaybe_callable\u001b[0m \u001b[0;34m=\u001b[0m \u001b[0mcom\u001b[0m\u001b[0;34m.\u001b[0m\u001b[0mapply_if_callable\u001b[0m\u001b[0;34m(\u001b[0m\u001b[0mkey\u001b[0m\u001b[0;34m,\u001b[0m \u001b[0mself\u001b[0m\u001b[0;34m.\u001b[0m\u001b[0mobj\u001b[0m\u001b[0;34m)\u001b[0m\u001b[0;34m\u001b[0m\u001b[0;34m\u001b[0m\u001b[0m\n\u001b[0;32m-> 1103\u001b[0;31m             \u001b[0;32mreturn\u001b[0m \u001b[0mself\u001b[0m\u001b[0;34m.\u001b[0m\u001b[0m_getitem_axis\u001b[0m\u001b[0;34m(\u001b[0m\u001b[0mmaybe_callable\u001b[0m\u001b[0;34m,\u001b[0m \u001b[0maxis\u001b[0m\u001b[0;34m=\u001b[0m\u001b[0maxis\u001b[0m\u001b[0;34m)\u001b[0m\u001b[0;34m\u001b[0m\u001b[0;34m\u001b[0m\u001b[0m\n\u001b[0m\u001b[1;32m   1104\u001b[0m \u001b[0;34m\u001b[0m\u001b[0m\n\u001b[1;32m   1105\u001b[0m     \u001b[0;32mdef\u001b[0m \u001b[0m_is_scalar_access\u001b[0m\u001b[0;34m(\u001b[0m\u001b[0mself\u001b[0m\u001b[0;34m,\u001b[0m \u001b[0mkey\u001b[0m\u001b[0;34m:\u001b[0m \u001b[0mtuple\u001b[0m\u001b[0;34m)\u001b[0m\u001b[0;34m:\u001b[0m\u001b[0;34m\u001b[0m\u001b[0;34m\u001b[0m\u001b[0m\n",
            "\u001b[0;32m/usr/local/lib/python3.10/dist-packages/pandas/core/indexing.py\u001b[0m in \u001b[0;36m_getitem_axis\u001b[0;34m(self, key, axis)\u001b[0m\n\u001b[1;32m   1341\u001b[0m         \u001b[0;31m# fall thru to straight lookup\u001b[0m\u001b[0;34m\u001b[0m\u001b[0;34m\u001b[0m\u001b[0m\n\u001b[1;32m   1342\u001b[0m         \u001b[0mself\u001b[0m\u001b[0;34m.\u001b[0m\u001b[0m_validate_key\u001b[0m\u001b[0;34m(\u001b[0m\u001b[0mkey\u001b[0m\u001b[0;34m,\u001b[0m \u001b[0maxis\u001b[0m\u001b[0;34m)\u001b[0m\u001b[0;34m\u001b[0m\u001b[0;34m\u001b[0m\u001b[0m\n\u001b[0;32m-> 1343\u001b[0;31m         \u001b[0;32mreturn\u001b[0m \u001b[0mself\u001b[0m\u001b[0;34m.\u001b[0m\u001b[0m_get_label\u001b[0m\u001b[0;34m(\u001b[0m\u001b[0mkey\u001b[0m\u001b[0;34m,\u001b[0m \u001b[0maxis\u001b[0m\u001b[0;34m=\u001b[0m\u001b[0maxis\u001b[0m\u001b[0;34m)\u001b[0m\u001b[0;34m\u001b[0m\u001b[0;34m\u001b[0m\u001b[0m\n\u001b[0m\u001b[1;32m   1344\u001b[0m \u001b[0;34m\u001b[0m\u001b[0m\n\u001b[1;32m   1345\u001b[0m     \u001b[0;32mdef\u001b[0m \u001b[0m_get_slice_axis\u001b[0m\u001b[0;34m(\u001b[0m\u001b[0mself\u001b[0m\u001b[0;34m,\u001b[0m \u001b[0mslice_obj\u001b[0m\u001b[0;34m:\u001b[0m \u001b[0mslice\u001b[0m\u001b[0;34m,\u001b[0m \u001b[0maxis\u001b[0m\u001b[0;34m:\u001b[0m \u001b[0mAxisInt\u001b[0m\u001b[0;34m)\u001b[0m\u001b[0;34m:\u001b[0m\u001b[0;34m\u001b[0m\u001b[0;34m\u001b[0m\u001b[0m\n",
            "\u001b[0;32m/usr/local/lib/python3.10/dist-packages/pandas/core/indexing.py\u001b[0m in \u001b[0;36m_get_label\u001b[0;34m(self, label, axis)\u001b[0m\n\u001b[1;32m   1291\u001b[0m     \u001b[0;32mdef\u001b[0m \u001b[0m_get_label\u001b[0m\u001b[0;34m(\u001b[0m\u001b[0mself\u001b[0m\u001b[0;34m,\u001b[0m \u001b[0mlabel\u001b[0m\u001b[0;34m,\u001b[0m \u001b[0maxis\u001b[0m\u001b[0;34m:\u001b[0m \u001b[0mAxisInt\u001b[0m\u001b[0;34m)\u001b[0m\u001b[0;34m:\u001b[0m\u001b[0;34m\u001b[0m\u001b[0;34m\u001b[0m\u001b[0m\n\u001b[1;32m   1292\u001b[0m         \u001b[0;31m# GH#5567 this will fail if the label is not present in the axis.\u001b[0m\u001b[0;34m\u001b[0m\u001b[0;34m\u001b[0m\u001b[0m\n\u001b[0;32m-> 1293\u001b[0;31m         \u001b[0;32mreturn\u001b[0m \u001b[0mself\u001b[0m\u001b[0;34m.\u001b[0m\u001b[0mobj\u001b[0m\u001b[0;34m.\u001b[0m\u001b[0mxs\u001b[0m\u001b[0;34m(\u001b[0m\u001b[0mlabel\u001b[0m\u001b[0;34m,\u001b[0m \u001b[0maxis\u001b[0m\u001b[0;34m=\u001b[0m\u001b[0maxis\u001b[0m\u001b[0;34m)\u001b[0m\u001b[0;34m\u001b[0m\u001b[0;34m\u001b[0m\u001b[0m\n\u001b[0m\u001b[1;32m   1294\u001b[0m \u001b[0;34m\u001b[0m\u001b[0m\n\u001b[1;32m   1295\u001b[0m     \u001b[0;32mdef\u001b[0m \u001b[0m_handle_lowerdim_multi_index_axis0\u001b[0m\u001b[0;34m(\u001b[0m\u001b[0mself\u001b[0m\u001b[0;34m,\u001b[0m \u001b[0mtup\u001b[0m\u001b[0;34m:\u001b[0m \u001b[0mtuple\u001b[0m\u001b[0;34m)\u001b[0m\u001b[0;34m:\u001b[0m\u001b[0;34m\u001b[0m\u001b[0;34m\u001b[0m\u001b[0m\n",
            "\u001b[0;32m/usr/local/lib/python3.10/dist-packages/pandas/core/generic.py\u001b[0m in \u001b[0;36mxs\u001b[0;34m(self, key, axis, level, drop_level)\u001b[0m\n\u001b[1;32m   4093\u001b[0m                     \u001b[0mnew_index\u001b[0m \u001b[0;34m=\u001b[0m \u001b[0mindex\u001b[0m\u001b[0;34m[\u001b[0m\u001b[0mloc\u001b[0m\u001b[0;34m]\u001b[0m\u001b[0;34m\u001b[0m\u001b[0;34m\u001b[0m\u001b[0m\n\u001b[1;32m   4094\u001b[0m         \u001b[0;32melse\u001b[0m\u001b[0;34m:\u001b[0m\u001b[0;34m\u001b[0m\u001b[0;34m\u001b[0m\u001b[0m\n\u001b[0;32m-> 4095\u001b[0;31m             \u001b[0mloc\u001b[0m \u001b[0;34m=\u001b[0m \u001b[0mindex\u001b[0m\u001b[0;34m.\u001b[0m\u001b[0mget_loc\u001b[0m\u001b[0;34m(\u001b[0m\u001b[0mkey\u001b[0m\u001b[0;34m)\u001b[0m\u001b[0;34m\u001b[0m\u001b[0;34m\u001b[0m\u001b[0m\n\u001b[0m\u001b[1;32m   4096\u001b[0m \u001b[0;34m\u001b[0m\u001b[0m\n\u001b[1;32m   4097\u001b[0m             \u001b[0;32mif\u001b[0m \u001b[0misinstance\u001b[0m\u001b[0;34m(\u001b[0m\u001b[0mloc\u001b[0m\u001b[0;34m,\u001b[0m \u001b[0mnp\u001b[0m\u001b[0;34m.\u001b[0m\u001b[0mndarray\u001b[0m\u001b[0;34m)\u001b[0m\u001b[0;34m:\u001b[0m\u001b[0;34m\u001b[0m\u001b[0;34m\u001b[0m\u001b[0m\n",
            "\u001b[0;32m/usr/local/lib/python3.10/dist-packages/pandas/core/indexes/base.py\u001b[0m in \u001b[0;36mget_loc\u001b[0;34m(self, key)\u001b[0m\n\u001b[1;32m   3653\u001b[0m             \u001b[0;32mreturn\u001b[0m \u001b[0mself\u001b[0m\u001b[0;34m.\u001b[0m\u001b[0m_engine\u001b[0m\u001b[0;34m.\u001b[0m\u001b[0mget_loc\u001b[0m\u001b[0;34m(\u001b[0m\u001b[0mcasted_key\u001b[0m\u001b[0;34m)\u001b[0m\u001b[0;34m\u001b[0m\u001b[0;34m\u001b[0m\u001b[0m\n\u001b[1;32m   3654\u001b[0m         \u001b[0;32mexcept\u001b[0m \u001b[0mKeyError\u001b[0m \u001b[0;32mas\u001b[0m \u001b[0merr\u001b[0m\u001b[0;34m:\u001b[0m\u001b[0;34m\u001b[0m\u001b[0;34m\u001b[0m\u001b[0m\n\u001b[0;32m-> 3655\u001b[0;31m             \u001b[0;32mraise\u001b[0m \u001b[0mKeyError\u001b[0m\u001b[0;34m(\u001b[0m\u001b[0mkey\u001b[0m\u001b[0;34m)\u001b[0m \u001b[0;32mfrom\u001b[0m \u001b[0merr\u001b[0m\u001b[0;34m\u001b[0m\u001b[0;34m\u001b[0m\u001b[0m\n\u001b[0m\u001b[1;32m   3656\u001b[0m         \u001b[0;32mexcept\u001b[0m \u001b[0mTypeError\u001b[0m\u001b[0;34m:\u001b[0m\u001b[0;34m\u001b[0m\u001b[0;34m\u001b[0m\u001b[0m\n\u001b[1;32m   3657\u001b[0m             \u001b[0;31m# If we have a listlike key, _check_indexing_error will raise\u001b[0m\u001b[0;34m\u001b[0m\u001b[0;34m\u001b[0m\u001b[0m\n",
            "\u001b[0;31mKeyError\u001b[0m: 'Inspire'"
          ]
        }
      ],
      "source": [
        "# Answer Here\n",
        "df = pd.read_csv('mottos.csv', index_col=0)\n",
        "\n",
        "print(\"DataFrame from mottos.csv:\")\n",
        "print(df)\n",
        "motto_entry = df.loc['Inspire']\n",
        "print(\"\\nMotto entry for 'Inspire':\")\n",
        "print(motto_entry)\n"
      ]
    },
    {
      "cell_type": "markdown",
      "metadata": {
        "id": "8E1olDerPtvT"
      },
      "source": [
        "Extract slice, can be specified using slice notation, even if the rows have string labels instead of integer labels."
      ]
    },
    {
      "cell_type": "markdown",
      "metadata": {
        "id": "9meAs22VPtvU"
      },
      "source": [
        "### iloc"
      ]
    },
    {
      "cell_type": "markdown",
      "metadata": {
        "id": "Kgz9kKXLPtvU"
      },
      "source": [
        "loc's cousin iloc is very similar, but is used to access based on numerical position instead of label. For example, to access to the top 3 rows and top 3 columns of a table, we can use [0:3, 0:3]. 'iloc' slicing is **exclusive**, just like standard Python slicing of numerical values.\n",
        "\n",
        "Use iloc to extract first 3 rows and columns from elections DataFrame"
      ]
    },
    {
      "cell_type": "code",
      "execution_count": 22,
      "metadata": {
        "id": "TveQUq2oPtvU",
        "colab": {
          "base_uri": "https://localhost:8080/"
        },
        "outputId": "814d2e60-bfc8-4b94-c7aa-d95ec9c96d0e"
      },
      "outputs": [
        {
          "output_type": "stream",
          "name": "stdout",
          "text": [
            "DataFrame from mottos.csv:\n",
            "                                                            Motto  \\\n",
            "State                                                               \n",
            "Alabama                             Audemus jura nostra defendere   \n",
            "Alaska                                        North to the future   \n",
            "Arizona                                                Ditat Deus   \n",
            "Arkansas                                           Regnat populus   \n",
            "California                                        Eureka (Εὕρηκα)   \n",
            "Colorado                                          Nil sine numine   \n",
            "Connecticut                               Qui transtulit sustinet   \n",
            "Delaware                                 Liberty and Independence   \n",
            "Florida                                           In God We Trust   \n",
            "Georgia                               Wisdom, Justice, Moderation   \n",
            "Hawaii                          Ua mau ke ea o ka ʻāina i ka pono   \n",
            "Idaho                                               Esto perpetua   \n",
            "Illinois                        State sovereignty, national union   \n",
            "Indiana                                 The Crossroads of America   \n",
            "Iowa            Our liberties we prize and our rights we will ...   \n",
            "Kansas                                        Ad astra per aspera   \n",
            "Kentucky                                     Deo gratiam habeamus   \n",
            "Louisiana                              Union, justice, confidence   \n",
            "Maine                                                      Dirigo   \n",
            "Maryland                             Fatti maschii, parole femine   \n",
            "Massachusetts           Ense petit placidam sub libertate quietem   \n",
            "Michigan                Si quaeris peninsulam amoenam circumspice   \n",
            "Minnesota                                        L'étoile du Nord   \n",
            "Mississippi                                      Virtute et armis   \n",
            "Missouri                            Salus populi suprema lex esto   \n",
            "Montana                                               Oro y plata   \n",
            "Nebraska                                  Equality before the law   \n",
            "Nevada                                        All For Our Country   \n",
            "New Hampshire                                    Live Free or Die   \n",
            "New Jersey                                 Liberty and prosperity   \n",
            "New Mexico                                          Crescit eundo   \n",
            "New York                                                Excelsior   \n",
            "North Carolina                                   Esse quam videri   \n",
            "North Dakota                      \\nSerit ut alteri saeclo prosit   \n",
            "Ohio                            With God, all things are possible   \n",
            "Oklahoma                                       Labor omnia vincit   \n",
            "Oregon                                        Alis volat propriis   \n",
            "Pennsylvania                    Virtue, liberty, and independence   \n",
            "Rhode Island                                                 Hope   \n",
            "South Carolina          Dum spiro spero \\nAnimis opibusque parati   \n",
            "South Dakota                            Under God the people rule   \n",
            "Tennessee                                Agriculture and Commerce   \n",
            "Texas                                                  Friendship   \n",
            "Utah                                                     Industry   \n",
            "Vermont                              Stella quarta decima fulgeat   \n",
            "Virginia                                      Sic semper tyrannis   \n",
            "Washington                                          Al-ki or Alki   \n",
            "West Virginia                               Montani semper liberi   \n",
            "Wisconsin                                                 Forward   \n",
            "Wyoming                                              Equal Rights   \n",
            "\n",
            "                                                      Translation  \\\n",
            "State                                                               \n",
            "Alabama                                We dare defend our rights!   \n",
            "Alaska                                                          —   \n",
            "Arizona                                              God enriches   \n",
            "Arkansas                                          The people rule   \n",
            "California                                        I have found it   \n",
            "Colorado                              Nothing without providence.   \n",
            "Connecticut                          He who transplanted sustains   \n",
            "Delaware                                                        —   \n",
            "Florida                                                         —   \n",
            "Georgia                                                         —   \n",
            "Hawaii          The life of the land is perpetuated in righteo...   \n",
            "Idaho                                         Let it be perpetual   \n",
            "Illinois                                                        —   \n",
            "Indiana                                                         —   \n",
            "Iowa                                                            —   \n",
            "Kansas                          To the stars through difficulties   \n",
            "Kentucky                                Let us be grateful to God   \n",
            "Louisiana                                                       —   \n",
            "Maine                                                      I lead   \n",
            "Maryland                               Manly deeds, womanly words   \n",
            "Massachusetts   By the sword we seek peace, but peace only und...   \n",
            "Michigan         If you seek a pleasant peninsula, look about you   \n",
            "Minnesota                                   The star of the North   \n",
            "Mississippi                                     By valor and arms   \n",
            "Missouri         Let the welfare of the people be the supreme law   \n",
            "Montana                                           Gold and silver   \n",
            "Nebraska                                                        —   \n",
            "Nevada                                                          —   \n",
            "New Hampshire                                                   —   \n",
            "New Jersey                                                      —   \n",
            "New Mexico                                    It grows as it goes   \n",
            "New York                                              Ever upward   \n",
            "North Carolina                         To be, rather than to seem   \n",
            "North Dakota              One sows for the benefit of another age   \n",
            "Ohio                                                            —   \n",
            "Oklahoma                                Labor conquers all things   \n",
            "Oregon                               She flies with her own wings   \n",
            "Pennsylvania                                                    —   \n",
            "Rhode Island                                                    —   \n",
            "South Carolina  While I breathe, I hope \\nReady in soul and re...   \n",
            "South Dakota                                                    —   \n",
            "Tennessee                                                       —   \n",
            "Texas                                                           —   \n",
            "Utah                                                          NaN   \n",
            "Vermont                      May the fourteenth star shine bright   \n",
            "Virginia                                   Thus always to tyrants   \n",
            "Washington                                              By and by   \n",
            "West Virginia                        Mountaineers are always free   \n",
            "Wisconsin                                                       —   \n",
            "Wyoming                                                         —   \n",
            "\n",
            "                      Language        Date Adopted  \n",
            "State                                               \n",
            "Alabama                  Latin                1923  \n",
            "Alaska                 English                1967  \n",
            "Arizona                  Latin                1863  \n",
            "Arkansas                 Latin                1907  \n",
            "California               Greek                1849  \n",
            "Colorado                 Latin    November 6, 1861  \n",
            "Connecticut              Latin     October 9, 1662  \n",
            "Delaware               English                1847  \n",
            "Florida                English                1868  \n",
            "Georgia                English                1798  \n",
            "Hawaii                Hawaiian       July 31, 1843  \n",
            "Idaho                    Latin                1890  \n",
            "Illinois               English                1819  \n",
            "Indiana                English                1937  \n",
            "Iowa                   English                1847  \n",
            "Kansas                   Latin                1861  \n",
            "Kentucky                 Latin                2002  \n",
            "Louisiana              English                1902  \n",
            "Maine                    Latin                1820  \n",
            "Maryland               Italian                1874  \n",
            "Massachusetts            Latin                1775  \n",
            "Michigan                 Latin        June 2, 1835  \n",
            "Minnesota               French                1861  \n",
            "Mississippi              Latin    February 7, 1894  \n",
            "Missouri                 Latin    January 11, 1822  \n",
            "Montana                Spanish    February 9, 1865  \n",
            "Nebraska               English                1867  \n",
            "Nevada                 English   February 24, 1866  \n",
            "New Hampshire          English                1945  \n",
            "New Jersey             English      March 26, 1928  \n",
            "New Mexico               Latin                1887  \n",
            "New York                 Latin                1778  \n",
            "North Carolina           Latin                1893  \n",
            "North Dakota             Latin      March 11, 2011  \n",
            "Ohio                   English     October 1, 1959  \n",
            "Oklahoma                 Latin      March 10, 1893  \n",
            "Oregon                   Latin                1854  \n",
            "Pennsylvania           English                1875  \n",
            "Rhode Island           English         May 4, 1664  \n",
            "South Carolina           Latin        May 22, 1777  \n",
            "South Dakota           English                1885  \n",
            "Tennessee              English        May 24, 1802  \n",
            "Texas                  English                1930  \n",
            "Utah                   English         May 3, 1896  \n",
            "Vermont                  Latin      April 10, 2015  \n",
            "Virginia                 Latin                1776  \n",
            "Washington      Chinook Jargon                   —  \n",
            "West Virginia            Latin  September 26, 1863  \n",
            "Wisconsin              English                1851  \n",
            "Wyoming                English                1893  \n",
            "\n",
            "Available index labels:\n",
            "['Alabama', 'Alaska', 'Arizona', 'Arkansas', 'California', 'Colorado', 'Connecticut', 'Delaware', 'Florida', 'Georgia', 'Hawaii', 'Idaho', 'Illinois', 'Indiana', 'Iowa', 'Kansas', 'Kentucky', 'Louisiana', 'Maine', 'Maryland', 'Massachusetts', 'Michigan', 'Minnesota', 'Mississippi', 'Missouri', 'Montana', 'Nebraska', 'Nevada', 'New Hampshire', 'New Jersey', 'New Mexico', 'New York', 'North Carolina', 'North Dakota', 'Ohio', 'Oklahoma', 'Oregon', 'Pennsylvania', 'Rhode Island', 'South Carolina', 'South Dakota', 'Tennessee', 'Texas', 'Utah', 'Vermont', 'Virginia', 'Washington', 'West Virginia', 'Wisconsin', 'Wyoming']\n",
            "KeyError: 'Inspire' - The label does not exist in the DataFrame.\n"
          ]
        }
      ],
      "source": [
        "#Answer Here\n",
        "import pandas as pd\n",
        "\n",
        "df = pd.read_csv('mottos.csv', index_col=0)\n",
        "\n",
        "print(\"DataFrame from mottos.csv:\")\n",
        "print(df)\n",
        "\n",
        "print(\"\\nAvailable index labels:\")\n",
        "print(df.index.tolist())\n",
        "\n",
        "try:\n",
        "    motto_entry = df.loc['Inspire']\n",
        "    print(\"\\nMotto entry for 'Inspire':\")\n",
        "    print(motto_entry)\n",
        "except KeyError as e:\n",
        "    print(f\"KeyError: {e} - The label does not exist in the DataFrame.\")\n"
      ]
    },
    {
      "cell_type": "markdown",
      "metadata": {
        "id": "d75cITKiPtvV"
      },
      "source": [
        "We will use both `loc` and `iloc` in the course. `loc` is generally preferred for a number of reasons, for example:\n",
        "\n",
        "1. It is harder to make mistakes since you have to literally write out what you want to get.\n",
        "2. Code is easier to read, because the reader doesn't have to know e.g., what column #17 represents.\n",
        "3. It is robust against permutations of the data, e.g. the social security administration switches the order of two columns.\n",
        "\n",
        "However, iloc is sometimes more convenient. We'll provide examples of when iloc is the superior choice."
      ]
    },
    {
      "cell_type": "markdown",
      "metadata": {
        "id": "Sj-li9oQPtvV"
      },
      "source": [
        "## Handy Properties and Utility Functions for Series and DataFrames"
      ]
    },
    {
      "cell_type": "markdown",
      "metadata": {
        "id": "2D6yrBvcPtvV"
      },
      "source": [
        "The head, shape, size, and describe methods can be used to quickly get a good sense of the data we're working with. For example:"
      ]
    },
    {
      "cell_type": "code",
      "execution_count": 23,
      "metadata": {
        "id": "I2c3ON6BPtvV"
      },
      "outputs": [],
      "source": [
        "mottos = pd.read_csv(\"mottos.csv\")"
      ]
    },
    {
      "cell_type": "code",
      "execution_count": null,
      "metadata": {
        "id": "3lj5YSbzPtvV"
      },
      "outputs": [],
      "source": [
        "# Answer Here"
      ]
    },
    {
      "cell_type": "markdown",
      "metadata": {
        "id": "bQSKGPxTroVf"
      },
      "source": [
        "Size of DataFrame"
      ]
    },
    {
      "cell_type": "code",
      "execution_count": 24,
      "metadata": {
        "id": "iGVtW1YEPtvV",
        "colab": {
          "base_uri": "https://localhost:8080/"
        },
        "outputId": "bb04921a-8be0-42da-bb4b-3e6c594eaa90"
      },
      "outputs": [
        {
          "output_type": "execute_result",
          "data": {
            "text/plain": [
              "(50, 5)"
            ]
          },
          "metadata": {},
          "execution_count": 24
        }
      ],
      "source": [
        "# Answer Here\n",
        "mottos.shape"
      ]
    },
    {
      "cell_type": "markdown",
      "metadata": {
        "id": "PB4R3k_6PtvW"
      },
      "source": [
        "The fact that the size is 250 means our data file is relatively small, with only 250 total entries.\n",
        "\n",
        "Shape of DataFrame"
      ]
    },
    {
      "cell_type": "code",
      "execution_count": 25,
      "metadata": {
        "id": "dBaU7nMNPtvW",
        "colab": {
          "base_uri": "https://localhost:8080/"
        },
        "outputId": "aa729f2f-96fa-4c79-8d03-e90dee8de064"
      },
      "outputs": [
        {
          "output_type": "stream",
          "name": "stdout",
          "text": [
            "Shape of DataFrame: (50, 4) (Rows, Columns)\n"
          ]
        }
      ],
      "source": [
        "# Answer Here\n",
        "df = pd.read_csv('mottos.csv', index_col=0)\n",
        "\n",
        "shape = df.shape\n",
        "\n",
        "# Display the shape\n",
        "print(f\"Shape of DataFrame: {shape} (Rows, Columns)\")\n"
      ]
    },
    {
      "cell_type": "markdown",
      "metadata": {
        "id": "NevFNt3_PtvW"
      },
      "source": [
        "Use describe function and extract the meaningful information from DataFrame"
      ]
    },
    {
      "cell_type": "code",
      "execution_count": 26,
      "metadata": {
        "id": "7T7Xg4wePtvW",
        "colab": {
          "base_uri": "https://localhost:8080/"
        },
        "outputId": "db613764-140e-4b5c-b016-6c57956aae13"
      },
      "outputs": [
        {
          "output_type": "stream",
          "name": "stdout",
          "text": [
            "Statistical Summary of the DataFrame:\n",
            "          State                          Motto Translation Language  \\\n",
            "count        50                             50          49       50   \n",
            "unique       50                             50          30        8   \n",
            "top     Alabama  Audemus jura nostra defendere           —    Latin   \n",
            "freq          1                              1          20       23   \n",
            "\n",
            "       Date Adopted  \n",
            "count            50  \n",
            "unique           47  \n",
            "top            1893  \n",
            "freq              2  \n"
          ]
        }
      ],
      "source": [
        "# Answer Here\n",
        "df = pd.read_csv('mottos.csv')\n",
        "description = df.describe()\n",
        "print(\"Statistical Summary of the DataFrame:\")\n",
        "print(description)\n"
      ]
    },
    {
      "cell_type": "markdown",
      "metadata": {
        "id": "jEAxyt57PtvW"
      },
      "source": [
        "Above, we see a quick summary of all the data. For example, the most common language for mottos is Latin, which covers 23 different states. Does anything else seem surprising?"
      ]
    },
    {
      "cell_type": "markdown",
      "metadata": {
        "id": "5Sz84ZcoPtvX"
      },
      "source": [
        "We can get a direct reference to the index using .index.\n",
        "\n",
        "> Add blockquote\n",
        "\n"
      ]
    },
    {
      "cell_type": "code",
      "execution_count": 27,
      "metadata": {
        "id": "Oc8PNHQSPtvX",
        "colab": {
          "base_uri": "https://localhost:8080/"
        },
        "outputId": "2cb703f7-2666-42ad-9c2f-c30d93a8f9c2"
      },
      "outputs": [
        {
          "output_type": "stream",
          "name": "stdout",
          "text": [
            "Index of the DataFrame:\n",
            "RangeIndex(start=0, stop=50, step=1)\n"
          ]
        }
      ],
      "source": [
        "# Answer Here\n",
        "index = df.index\n",
        "print(\"Index of the DataFrame:\")\n",
        "print(index)"
      ]
    },
    {
      "cell_type": "code",
      "execution_count": 28,
      "metadata": {
        "id": "fHrsk46BPtvX",
        "colab": {
          "base_uri": "https://localhost:8080/",
          "height": 112
        },
        "outputId": "a0f4eee5-e4a9-4e47-fd16-6382fa60696e"
      },
      "outputs": [
        {
          "output_type": "execute_result",
          "data": {
            "text/plain": [
              "     State                          Motto                 Translation  \\\n",
              "0  Alabama  Audemus jura nostra defendere  We dare defend our rights!   \n",
              "1   Alaska            North to the future                           —   \n",
              "\n",
              "  Language Date Adopted  \n",
              "0    Latin         1923  \n",
              "1  English         1967  "
            ],
            "text/html": [
              "\n",
              "  <div id=\"df-c51aaf92-3640-4c3e-a212-dc7f354236b1\" class=\"colab-df-container\">\n",
              "    <div>\n",
              "<style scoped>\n",
              "    .dataframe tbody tr th:only-of-type {\n",
              "        vertical-align: middle;\n",
              "    }\n",
              "\n",
              "    .dataframe tbody tr th {\n",
              "        vertical-align: top;\n",
              "    }\n",
              "\n",
              "    .dataframe thead th {\n",
              "        text-align: right;\n",
              "    }\n",
              "</style>\n",
              "<table border=\"1\" class=\"dataframe\">\n",
              "  <thead>\n",
              "    <tr style=\"text-align: right;\">\n",
              "      <th></th>\n",
              "      <th>State</th>\n",
              "      <th>Motto</th>\n",
              "      <th>Translation</th>\n",
              "      <th>Language</th>\n",
              "      <th>Date Adopted</th>\n",
              "    </tr>\n",
              "  </thead>\n",
              "  <tbody>\n",
              "    <tr>\n",
              "      <th>0</th>\n",
              "      <td>Alabama</td>\n",
              "      <td>Audemus jura nostra defendere</td>\n",
              "      <td>We dare defend our rights!</td>\n",
              "      <td>Latin</td>\n",
              "      <td>1923</td>\n",
              "    </tr>\n",
              "    <tr>\n",
              "      <th>1</th>\n",
              "      <td>Alaska</td>\n",
              "      <td>North to the future</td>\n",
              "      <td>—</td>\n",
              "      <td>English</td>\n",
              "      <td>1967</td>\n",
              "    </tr>\n",
              "  </tbody>\n",
              "</table>\n",
              "</div>\n",
              "    <div class=\"colab-df-buttons\">\n",
              "\n",
              "  <div class=\"colab-df-container\">\n",
              "    <button class=\"colab-df-convert\" onclick=\"convertToInteractive('df-c51aaf92-3640-4c3e-a212-dc7f354236b1')\"\n",
              "            title=\"Convert this dataframe to an interactive table.\"\n",
              "            style=\"display:none;\">\n",
              "\n",
              "  <svg xmlns=\"http://www.w3.org/2000/svg\" height=\"24px\" viewBox=\"0 -960 960 960\">\n",
              "    <path d=\"M120-120v-720h720v720H120Zm60-500h600v-160H180v160Zm220 220h160v-160H400v160Zm0 220h160v-160H400v160ZM180-400h160v-160H180v160Zm440 0h160v-160H620v160ZM180-180h160v-160H180v160Zm440 0h160v-160H620v160Z\"/>\n",
              "  </svg>\n",
              "    </button>\n",
              "\n",
              "  <style>\n",
              "    .colab-df-container {\n",
              "      display:flex;\n",
              "      gap: 12px;\n",
              "    }\n",
              "\n",
              "    .colab-df-convert {\n",
              "      background-color: #E8F0FE;\n",
              "      border: none;\n",
              "      border-radius: 50%;\n",
              "      cursor: pointer;\n",
              "      display: none;\n",
              "      fill: #1967D2;\n",
              "      height: 32px;\n",
              "      padding: 0 0 0 0;\n",
              "      width: 32px;\n",
              "    }\n",
              "\n",
              "    .colab-df-convert:hover {\n",
              "      background-color: #E2EBFA;\n",
              "      box-shadow: 0px 1px 2px rgba(60, 64, 67, 0.3), 0px 1px 3px 1px rgba(60, 64, 67, 0.15);\n",
              "      fill: #174EA6;\n",
              "    }\n",
              "\n",
              "    .colab-df-buttons div {\n",
              "      margin-bottom: 4px;\n",
              "    }\n",
              "\n",
              "    [theme=dark] .colab-df-convert {\n",
              "      background-color: #3B4455;\n",
              "      fill: #D2E3FC;\n",
              "    }\n",
              "\n",
              "    [theme=dark] .colab-df-convert:hover {\n",
              "      background-color: #434B5C;\n",
              "      box-shadow: 0px 1px 3px 1px rgba(0, 0, 0, 0.15);\n",
              "      filter: drop-shadow(0px 1px 2px rgba(0, 0, 0, 0.3));\n",
              "      fill: #FFFFFF;\n",
              "    }\n",
              "  </style>\n",
              "\n",
              "    <script>\n",
              "      const buttonEl =\n",
              "        document.querySelector('#df-c51aaf92-3640-4c3e-a212-dc7f354236b1 button.colab-df-convert');\n",
              "      buttonEl.style.display =\n",
              "        google.colab.kernel.accessAllowed ? 'block' : 'none';\n",
              "\n",
              "      async function convertToInteractive(key) {\n",
              "        const element = document.querySelector('#df-c51aaf92-3640-4c3e-a212-dc7f354236b1');\n",
              "        const dataTable =\n",
              "          await google.colab.kernel.invokeFunction('convertToInteractive',\n",
              "                                                    [key], {});\n",
              "        if (!dataTable) return;\n",
              "\n",
              "        const docLinkHtml = 'Like what you see? Visit the ' +\n",
              "          '<a target=\"_blank\" href=https://colab.research.google.com/notebooks/data_table.ipynb>data table notebook</a>'\n",
              "          + ' to learn more about interactive tables.';\n",
              "        element.innerHTML = '';\n",
              "        dataTable['output_type'] = 'display_data';\n",
              "        await google.colab.output.renderOutput(dataTable, element);\n",
              "        const docLink = document.createElement('div');\n",
              "        docLink.innerHTML = docLinkHtml;\n",
              "        element.appendChild(docLink);\n",
              "      }\n",
              "    </script>\n",
              "  </div>\n",
              "\n",
              "\n",
              "<div id=\"df-1ce79f12-6d99-4c3a-a0ca-014558a9994f\">\n",
              "  <button class=\"colab-df-quickchart\" onclick=\"quickchart('df-1ce79f12-6d99-4c3a-a0ca-014558a9994f')\"\n",
              "            title=\"Suggest charts\"\n",
              "            style=\"display:none;\">\n",
              "\n",
              "<svg xmlns=\"http://www.w3.org/2000/svg\" height=\"24px\"viewBox=\"0 0 24 24\"\n",
              "     width=\"24px\">\n",
              "    <g>\n",
              "        <path d=\"M19 3H5c-1.1 0-2 .9-2 2v14c0 1.1.9 2 2 2h14c1.1 0 2-.9 2-2V5c0-1.1-.9-2-2-2zM9 17H7v-7h2v7zm4 0h-2V7h2v10zm4 0h-2v-4h2v4z\"/>\n",
              "    </g>\n",
              "</svg>\n",
              "  </button>\n",
              "\n",
              "<style>\n",
              "  .colab-df-quickchart {\n",
              "      --bg-color: #E8F0FE;\n",
              "      --fill-color: #1967D2;\n",
              "      --hover-bg-color: #E2EBFA;\n",
              "      --hover-fill-color: #174EA6;\n",
              "      --disabled-fill-color: #AAA;\n",
              "      --disabled-bg-color: #DDD;\n",
              "  }\n",
              "\n",
              "  [theme=dark] .colab-df-quickchart {\n",
              "      --bg-color: #3B4455;\n",
              "      --fill-color: #D2E3FC;\n",
              "      --hover-bg-color: #434B5C;\n",
              "      --hover-fill-color: #FFFFFF;\n",
              "      --disabled-bg-color: #3B4455;\n",
              "      --disabled-fill-color: #666;\n",
              "  }\n",
              "\n",
              "  .colab-df-quickchart {\n",
              "    background-color: var(--bg-color);\n",
              "    border: none;\n",
              "    border-radius: 50%;\n",
              "    cursor: pointer;\n",
              "    display: none;\n",
              "    fill: var(--fill-color);\n",
              "    height: 32px;\n",
              "    padding: 0;\n",
              "    width: 32px;\n",
              "  }\n",
              "\n",
              "  .colab-df-quickchart:hover {\n",
              "    background-color: var(--hover-bg-color);\n",
              "    box-shadow: 0 1px 2px rgba(60, 64, 67, 0.3), 0 1px 3px 1px rgba(60, 64, 67, 0.15);\n",
              "    fill: var(--button-hover-fill-color);\n",
              "  }\n",
              "\n",
              "  .colab-df-quickchart-complete:disabled,\n",
              "  .colab-df-quickchart-complete:disabled:hover {\n",
              "    background-color: var(--disabled-bg-color);\n",
              "    fill: var(--disabled-fill-color);\n",
              "    box-shadow: none;\n",
              "  }\n",
              "\n",
              "  .colab-df-spinner {\n",
              "    border: 2px solid var(--fill-color);\n",
              "    border-color: transparent;\n",
              "    border-bottom-color: var(--fill-color);\n",
              "    animation:\n",
              "      spin 1s steps(1) infinite;\n",
              "  }\n",
              "\n",
              "  @keyframes spin {\n",
              "    0% {\n",
              "      border-color: transparent;\n",
              "      border-bottom-color: var(--fill-color);\n",
              "      border-left-color: var(--fill-color);\n",
              "    }\n",
              "    20% {\n",
              "      border-color: transparent;\n",
              "      border-left-color: var(--fill-color);\n",
              "      border-top-color: var(--fill-color);\n",
              "    }\n",
              "    30% {\n",
              "      border-color: transparent;\n",
              "      border-left-color: var(--fill-color);\n",
              "      border-top-color: var(--fill-color);\n",
              "      border-right-color: var(--fill-color);\n",
              "    }\n",
              "    40% {\n",
              "      border-color: transparent;\n",
              "      border-right-color: var(--fill-color);\n",
              "      border-top-color: var(--fill-color);\n",
              "    }\n",
              "    60% {\n",
              "      border-color: transparent;\n",
              "      border-right-color: var(--fill-color);\n",
              "    }\n",
              "    80% {\n",
              "      border-color: transparent;\n",
              "      border-right-color: var(--fill-color);\n",
              "      border-bottom-color: var(--fill-color);\n",
              "    }\n",
              "    90% {\n",
              "      border-color: transparent;\n",
              "      border-bottom-color: var(--fill-color);\n",
              "    }\n",
              "  }\n",
              "</style>\n",
              "\n",
              "  <script>\n",
              "    async function quickchart(key) {\n",
              "      const quickchartButtonEl =\n",
              "        document.querySelector('#' + key + ' button');\n",
              "      quickchartButtonEl.disabled = true;  // To prevent multiple clicks.\n",
              "      quickchartButtonEl.classList.add('colab-df-spinner');\n",
              "      try {\n",
              "        const charts = await google.colab.kernel.invokeFunction(\n",
              "            'suggestCharts', [key], {});\n",
              "      } catch (error) {\n",
              "        console.error('Error during call to suggestCharts:', error);\n",
              "      }\n",
              "      quickchartButtonEl.classList.remove('colab-df-spinner');\n",
              "      quickchartButtonEl.classList.add('colab-df-quickchart-complete');\n",
              "    }\n",
              "    (() => {\n",
              "      let quickchartButtonEl =\n",
              "        document.querySelector('#df-1ce79f12-6d99-4c3a-a0ca-014558a9994f button');\n",
              "      quickchartButtonEl.style.display =\n",
              "        google.colab.kernel.accessAllowed ? 'block' : 'none';\n",
              "    })();\n",
              "  </script>\n",
              "</div>\n",
              "\n",
              "    </div>\n",
              "  </div>\n"
            ],
            "application/vnd.google.colaboratory.intrinsic+json": {
              "type": "dataframe",
              "variable_name": "mottos",
              "summary": "{\n  \"name\": \"mottos\",\n  \"rows\": 50,\n  \"fields\": [\n    {\n      \"column\": \"State\",\n      \"properties\": {\n        \"dtype\": \"string\",\n        \"num_unique_values\": 50,\n        \"samples\": [\n          \"Indiana\",\n          \"South Carolina\",\n          \"New Mexico\"\n        ],\n        \"semantic_type\": \"\",\n        \"description\": \"\"\n      }\n    },\n    {\n      \"column\": \"Motto\",\n      \"properties\": {\n        \"dtype\": \"string\",\n        \"num_unique_values\": 50,\n        \"samples\": [\n          \"The Crossroads of America\",\n          \"Dum spiro spero \\nAnimis opibusque parati\",\n          \"Crescit eundo\"\n        ],\n        \"semantic_type\": \"\",\n        \"description\": \"\"\n      }\n    },\n    {\n      \"column\": \"Translation\",\n      \"properties\": {\n        \"dtype\": \"string\",\n        \"num_unique_values\": 30,\n        \"samples\": [\n          \"Thus always to tyrants\",\n          \"The star of the North\",\n          \"Labor conquers all things\"\n        ],\n        \"semantic_type\": \"\",\n        \"description\": \"\"\n      }\n    },\n    {\n      \"column\": \"Language\",\n      \"properties\": {\n        \"dtype\": \"category\",\n        \"num_unique_values\": 8,\n        \"samples\": [\n          \"English\",\n          \"French\",\n          \"Latin\"\n        ],\n        \"semantic_type\": \"\",\n        \"description\": \"\"\n      }\n    },\n    {\n      \"column\": \"Date Adopted\",\n      \"properties\": {\n        \"dtype\": \"string\",\n        \"num_unique_values\": 47,\n        \"samples\": [\n          \"March 26, 1928\",\n          \"May 24, 1802\",\n          \"1945\"\n        ],\n        \"semantic_type\": \"\",\n        \"description\": \"\"\n      }\n    }\n  ]\n}"
            }
          },
          "metadata": {},
          "execution_count": 28
        }
      ],
      "source": [
        "mottos.head(2)"
      ]
    },
    {
      "cell_type": "markdown",
      "metadata": {
        "id": "IZRgHL-cPtvX"
      },
      "source": [
        "It turns out the columns also have an Index. We can access this index by using `.columns`."
      ]
    },
    {
      "cell_type": "code",
      "execution_count": 29,
      "metadata": {
        "id": "b3uXufYwPtvX",
        "colab": {
          "base_uri": "https://localhost:8080/"
        },
        "outputId": "00f04c69-5b96-4872-d5a7-7c8f8523574a"
      },
      "outputs": [
        {
          "output_type": "stream",
          "name": "stdout",
          "text": [
            "Columns of the DataFrame:\n",
            "Index(['State', 'Motto', 'Translation', 'Language', 'Date Adopted'], dtype='object')\n"
          ]
        }
      ],
      "source": [
        "# Answer Here\n",
        "columns = mottos.columns\n",
        "print(\"Columns of the DataFrame:\")\n",
        "print(columns)"
      ]
    },
    {
      "cell_type": "markdown",
      "metadata": {
        "id": "vfqTqtXjPtvY"
      },
      "source": [
        "## Sorting and Value Counts\n",
        "\n",
        "There are also a ton of useful utility methods we can use with Data Frames and Series. For example, we can create a copy of a data frame sorted by a specific column using `sort_values`."
      ]
    },
    {
      "cell_type": "code",
      "execution_count": 32,
      "metadata": {
        "id": "ioH43WI_PtvY",
        "colab": {
          "base_uri": "https://localhost:8080/",
          "height": 206
        },
        "outputId": "ff6c9ad6-b0ad-4afa-bbdd-8ac671d583a9"
      },
      "outputs": [
        {
          "output_type": "execute_result",
          "data": {
            "text/plain": [
              "   Year          Candidate                  Party  Popular vote Result  \\\n",
              "0  1824     Andrew Jackson  Democratic-Republican        151271   loss   \n",
              "1  1824  John Quincy Adams  Democratic-Republican        113142    win   \n",
              "2  1828     Andrew Jackson             Democratic        642806    win   \n",
              "3  1828  John Quincy Adams    National Republican        500897   loss   \n",
              "4  1832     Andrew Jackson             Democratic        702735    win   \n",
              "\n",
              "           %  \n",
              "0  57.210122  \n",
              "1  42.789878  \n",
              "2  56.203927  \n",
              "3  43.796073  \n",
              "4  54.574789  "
            ],
            "text/html": [
              "\n",
              "  <div id=\"df-905c3d0d-55ee-4ec3-8664-7b44588b71b1\" class=\"colab-df-container\">\n",
              "    <div>\n",
              "<style scoped>\n",
              "    .dataframe tbody tr th:only-of-type {\n",
              "        vertical-align: middle;\n",
              "    }\n",
              "\n",
              "    .dataframe tbody tr th {\n",
              "        vertical-align: top;\n",
              "    }\n",
              "\n",
              "    .dataframe thead th {\n",
              "        text-align: right;\n",
              "    }\n",
              "</style>\n",
              "<table border=\"1\" class=\"dataframe\">\n",
              "  <thead>\n",
              "    <tr style=\"text-align: right;\">\n",
              "      <th></th>\n",
              "      <th>Year</th>\n",
              "      <th>Candidate</th>\n",
              "      <th>Party</th>\n",
              "      <th>Popular vote</th>\n",
              "      <th>Result</th>\n",
              "      <th>%</th>\n",
              "    </tr>\n",
              "  </thead>\n",
              "  <tbody>\n",
              "    <tr>\n",
              "      <th>0</th>\n",
              "      <td>1824</td>\n",
              "      <td>Andrew Jackson</td>\n",
              "      <td>Democratic-Republican</td>\n",
              "      <td>151271</td>\n",
              "      <td>loss</td>\n",
              "      <td>57.210122</td>\n",
              "    </tr>\n",
              "    <tr>\n",
              "      <th>1</th>\n",
              "      <td>1824</td>\n",
              "      <td>John Quincy Adams</td>\n",
              "      <td>Democratic-Republican</td>\n",
              "      <td>113142</td>\n",
              "      <td>win</td>\n",
              "      <td>42.789878</td>\n",
              "    </tr>\n",
              "    <tr>\n",
              "      <th>2</th>\n",
              "      <td>1828</td>\n",
              "      <td>Andrew Jackson</td>\n",
              "      <td>Democratic</td>\n",
              "      <td>642806</td>\n",
              "      <td>win</td>\n",
              "      <td>56.203927</td>\n",
              "    </tr>\n",
              "    <tr>\n",
              "      <th>3</th>\n",
              "      <td>1828</td>\n",
              "      <td>John Quincy Adams</td>\n",
              "      <td>National Republican</td>\n",
              "      <td>500897</td>\n",
              "      <td>loss</td>\n",
              "      <td>43.796073</td>\n",
              "    </tr>\n",
              "    <tr>\n",
              "      <th>4</th>\n",
              "      <td>1832</td>\n",
              "      <td>Andrew Jackson</td>\n",
              "      <td>Democratic</td>\n",
              "      <td>702735</td>\n",
              "      <td>win</td>\n",
              "      <td>54.574789</td>\n",
              "    </tr>\n",
              "  </tbody>\n",
              "</table>\n",
              "</div>\n",
              "    <div class=\"colab-df-buttons\">\n",
              "\n",
              "  <div class=\"colab-df-container\">\n",
              "    <button class=\"colab-df-convert\" onclick=\"convertToInteractive('df-905c3d0d-55ee-4ec3-8664-7b44588b71b1')\"\n",
              "            title=\"Convert this dataframe to an interactive table.\"\n",
              "            style=\"display:none;\">\n",
              "\n",
              "  <svg xmlns=\"http://www.w3.org/2000/svg\" height=\"24px\" viewBox=\"0 -960 960 960\">\n",
              "    <path d=\"M120-120v-720h720v720H120Zm60-500h600v-160H180v160Zm220 220h160v-160H400v160Zm0 220h160v-160H400v160ZM180-400h160v-160H180v160Zm440 0h160v-160H620v160ZM180-180h160v-160H180v160Zm440 0h160v-160H620v160Z\"/>\n",
              "  </svg>\n",
              "    </button>\n",
              "\n",
              "  <style>\n",
              "    .colab-df-container {\n",
              "      display:flex;\n",
              "      gap: 12px;\n",
              "    }\n",
              "\n",
              "    .colab-df-convert {\n",
              "      background-color: #E8F0FE;\n",
              "      border: none;\n",
              "      border-radius: 50%;\n",
              "      cursor: pointer;\n",
              "      display: none;\n",
              "      fill: #1967D2;\n",
              "      height: 32px;\n",
              "      padding: 0 0 0 0;\n",
              "      width: 32px;\n",
              "    }\n",
              "\n",
              "    .colab-df-convert:hover {\n",
              "      background-color: #E2EBFA;\n",
              "      box-shadow: 0px 1px 2px rgba(60, 64, 67, 0.3), 0px 1px 3px 1px rgba(60, 64, 67, 0.15);\n",
              "      fill: #174EA6;\n",
              "    }\n",
              "\n",
              "    .colab-df-buttons div {\n",
              "      margin-bottom: 4px;\n",
              "    }\n",
              "\n",
              "    [theme=dark] .colab-df-convert {\n",
              "      background-color: #3B4455;\n",
              "      fill: #D2E3FC;\n",
              "    }\n",
              "\n",
              "    [theme=dark] .colab-df-convert:hover {\n",
              "      background-color: #434B5C;\n",
              "      box-shadow: 0px 1px 3px 1px rgba(0, 0, 0, 0.15);\n",
              "      filter: drop-shadow(0px 1px 2px rgba(0, 0, 0, 0.3));\n",
              "      fill: #FFFFFF;\n",
              "    }\n",
              "  </style>\n",
              "\n",
              "    <script>\n",
              "      const buttonEl =\n",
              "        document.querySelector('#df-905c3d0d-55ee-4ec3-8664-7b44588b71b1 button.colab-df-convert');\n",
              "      buttonEl.style.display =\n",
              "        google.colab.kernel.accessAllowed ? 'block' : 'none';\n",
              "\n",
              "      async function convertToInteractive(key) {\n",
              "        const element = document.querySelector('#df-905c3d0d-55ee-4ec3-8664-7b44588b71b1');\n",
              "        const dataTable =\n",
              "          await google.colab.kernel.invokeFunction('convertToInteractive',\n",
              "                                                    [key], {});\n",
              "        if (!dataTable) return;\n",
              "\n",
              "        const docLinkHtml = 'Like what you see? Visit the ' +\n",
              "          '<a target=\"_blank\" href=https://colab.research.google.com/notebooks/data_table.ipynb>data table notebook</a>'\n",
              "          + ' to learn more about interactive tables.';\n",
              "        element.innerHTML = '';\n",
              "        dataTable['output_type'] = 'display_data';\n",
              "        await google.colab.output.renderOutput(dataTable, element);\n",
              "        const docLink = document.createElement('div');\n",
              "        docLink.innerHTML = docLinkHtml;\n",
              "        element.appendChild(docLink);\n",
              "      }\n",
              "    </script>\n",
              "  </div>\n",
              "\n",
              "\n",
              "<div id=\"df-e8abef35-689d-4e3d-9f76-5c48843080a1\">\n",
              "  <button class=\"colab-df-quickchart\" onclick=\"quickchart('df-e8abef35-689d-4e3d-9f76-5c48843080a1')\"\n",
              "            title=\"Suggest charts\"\n",
              "            style=\"display:none;\">\n",
              "\n",
              "<svg xmlns=\"http://www.w3.org/2000/svg\" height=\"24px\"viewBox=\"0 0 24 24\"\n",
              "     width=\"24px\">\n",
              "    <g>\n",
              "        <path d=\"M19 3H5c-1.1 0-2 .9-2 2v14c0 1.1.9 2 2 2h14c1.1 0 2-.9 2-2V5c0-1.1-.9-2-2-2zM9 17H7v-7h2v7zm4 0h-2V7h2v10zm4 0h-2v-4h2v4z\"/>\n",
              "    </g>\n",
              "</svg>\n",
              "  </button>\n",
              "\n",
              "<style>\n",
              "  .colab-df-quickchart {\n",
              "      --bg-color: #E8F0FE;\n",
              "      --fill-color: #1967D2;\n",
              "      --hover-bg-color: #E2EBFA;\n",
              "      --hover-fill-color: #174EA6;\n",
              "      --disabled-fill-color: #AAA;\n",
              "      --disabled-bg-color: #DDD;\n",
              "  }\n",
              "\n",
              "  [theme=dark] .colab-df-quickchart {\n",
              "      --bg-color: #3B4455;\n",
              "      --fill-color: #D2E3FC;\n",
              "      --hover-bg-color: #434B5C;\n",
              "      --hover-fill-color: #FFFFFF;\n",
              "      --disabled-bg-color: #3B4455;\n",
              "      --disabled-fill-color: #666;\n",
              "  }\n",
              "\n",
              "  .colab-df-quickchart {\n",
              "    background-color: var(--bg-color);\n",
              "    border: none;\n",
              "    border-radius: 50%;\n",
              "    cursor: pointer;\n",
              "    display: none;\n",
              "    fill: var(--fill-color);\n",
              "    height: 32px;\n",
              "    padding: 0;\n",
              "    width: 32px;\n",
              "  }\n",
              "\n",
              "  .colab-df-quickchart:hover {\n",
              "    background-color: var(--hover-bg-color);\n",
              "    box-shadow: 0 1px 2px rgba(60, 64, 67, 0.3), 0 1px 3px 1px rgba(60, 64, 67, 0.15);\n",
              "    fill: var(--button-hover-fill-color);\n",
              "  }\n",
              "\n",
              "  .colab-df-quickchart-complete:disabled,\n",
              "  .colab-df-quickchart-complete:disabled:hover {\n",
              "    background-color: var(--disabled-bg-color);\n",
              "    fill: var(--disabled-fill-color);\n",
              "    box-shadow: none;\n",
              "  }\n",
              "\n",
              "  .colab-df-spinner {\n",
              "    border: 2px solid var(--fill-color);\n",
              "    border-color: transparent;\n",
              "    border-bottom-color: var(--fill-color);\n",
              "    animation:\n",
              "      spin 1s steps(1) infinite;\n",
              "  }\n",
              "\n",
              "  @keyframes spin {\n",
              "    0% {\n",
              "      border-color: transparent;\n",
              "      border-bottom-color: var(--fill-color);\n",
              "      border-left-color: var(--fill-color);\n",
              "    }\n",
              "    20% {\n",
              "      border-color: transparent;\n",
              "      border-left-color: var(--fill-color);\n",
              "      border-top-color: var(--fill-color);\n",
              "    }\n",
              "    30% {\n",
              "      border-color: transparent;\n",
              "      border-left-color: var(--fill-color);\n",
              "      border-top-color: var(--fill-color);\n",
              "      border-right-color: var(--fill-color);\n",
              "    }\n",
              "    40% {\n",
              "      border-color: transparent;\n",
              "      border-right-color: var(--fill-color);\n",
              "      border-top-color: var(--fill-color);\n",
              "    }\n",
              "    60% {\n",
              "      border-color: transparent;\n",
              "      border-right-color: var(--fill-color);\n",
              "    }\n",
              "    80% {\n",
              "      border-color: transparent;\n",
              "      border-right-color: var(--fill-color);\n",
              "      border-bottom-color: var(--fill-color);\n",
              "    }\n",
              "    90% {\n",
              "      border-color: transparent;\n",
              "      border-bottom-color: var(--fill-color);\n",
              "    }\n",
              "  }\n",
              "</style>\n",
              "\n",
              "  <script>\n",
              "    async function quickchart(key) {\n",
              "      const quickchartButtonEl =\n",
              "        document.querySelector('#' + key + ' button');\n",
              "      quickchartButtonEl.disabled = true;  // To prevent multiple clicks.\n",
              "      quickchartButtonEl.classList.add('colab-df-spinner');\n",
              "      try {\n",
              "        const charts = await google.colab.kernel.invokeFunction(\n",
              "            'suggestCharts', [key], {});\n",
              "      } catch (error) {\n",
              "        console.error('Error during call to suggestCharts:', error);\n",
              "      }\n",
              "      quickchartButtonEl.classList.remove('colab-df-spinner');\n",
              "      quickchartButtonEl.classList.add('colab-df-quickchart-complete');\n",
              "    }\n",
              "    (() => {\n",
              "      let quickchartButtonEl =\n",
              "        document.querySelector('#df-e8abef35-689d-4e3d-9f76-5c48843080a1 button');\n",
              "      quickchartButtonEl.style.display =\n",
              "        google.colab.kernel.accessAllowed ? 'block' : 'none';\n",
              "    })();\n",
              "  </script>\n",
              "</div>\n",
              "\n",
              "    </div>\n",
              "  </div>\n"
            ],
            "application/vnd.google.colaboratory.intrinsic+json": {
              "type": "dataframe",
              "variable_name": "elections",
              "summary": "{\n  \"name\": \"elections\",\n  \"rows\": 182,\n  \"fields\": [\n    {\n      \"column\": \"Year\",\n      \"properties\": {\n        \"dtype\": \"number\",\n        \"std\": 57,\n        \"min\": 1824,\n        \"max\": 2020,\n        \"num_unique_values\": 50,\n        \"samples\": [\n          1876,\n          1980,\n          1944\n        ],\n        \"semantic_type\": \"\",\n        \"description\": \"\"\n      }\n    },\n    {\n      \"column\": \"Candidate\",\n      \"properties\": {\n        \"dtype\": \"string\",\n        \"num_unique_values\": 132,\n        \"samples\": [\n          \"Warren Harding\",\n          \"George McGovern\",\n          \"Stephen A. Douglas\"\n        ],\n        \"semantic_type\": \"\",\n        \"description\": \"\"\n      }\n    },\n    {\n      \"column\": \"Party\",\n      \"properties\": {\n        \"dtype\": \"category\",\n        \"num_unique_values\": 36,\n        \"samples\": [\n          \"Constitution\",\n          \"Greenback\",\n          \"American Independent\"\n        ],\n        \"semantic_type\": \"\",\n        \"description\": \"\"\n      }\n    },\n    {\n      \"column\": \"Popular vote\",\n      \"properties\": {\n        \"dtype\": \"number\",\n        \"std\": 19077149,\n        \"min\": 100715,\n        \"max\": 81268924,\n        \"num_unique_values\": 182,\n        \"samples\": [\n          1386942,\n          146602,\n          448895\n        ],\n        \"semantic_type\": \"\",\n        \"description\": \"\"\n      }\n    },\n    {\n      \"column\": \"Result\",\n      \"properties\": {\n        \"dtype\": \"category\",\n        \"num_unique_values\": 2,\n        \"samples\": [\n          \"win\",\n          \"loss\"\n        ],\n        \"semantic_type\": \"\",\n        \"description\": \"\"\n      }\n    },\n    {\n      \"column\": \"%\",\n      \"properties\": {\n        \"dtype\": \"number\",\n        \"std\": 22.96803399144419,\n        \"min\": 0.098088334,\n        \"max\": 61.34470329,\n        \"num_unique_values\": 182,\n        \"samples\": [\n          44.05654848,\n          1.288860686\n        ],\n        \"semantic_type\": \"\",\n        \"description\": \"\"\n      }\n    }\n  ]\n}"
            }
          },
          "metadata": {},
          "execution_count": 32
        }
      ],
      "source": [
        "# Answer Here\n",
        "elections = pd.read_csv('elections.csv')\n",
        "elections.head()"
      ]
    },
    {
      "cell_type": "markdown",
      "metadata": {
        "id": "LwW2YK8gPtvY"
      },
      "source": [
        "As mentioned before, all Data Frame methods return a copy and do **not** modify the original data structure, unless you set inplace to True."
      ]
    },
    {
      "cell_type": "markdown",
      "metadata": {
        "id": "tMqlf3Q8PtvY"
      },
      "source": [
        "If we want to sort in reverse order, we can set `ascending=False`."
      ]
    },
    {
      "cell_type": "code",
      "execution_count": 33,
      "metadata": {
        "id": "-Cx7vHzKPtvY",
        "colab": {
          "base_uri": "https://localhost:8080/",
          "height": 423
        },
        "outputId": "6c72d6c2-fa3f-42fd-852d-6fb178e64c16"
      },
      "outputs": [
        {
          "output_type": "execute_result",
          "data": {
            "text/plain": [
              "     Year           Candidate         Party  Popular vote Result          %\n",
              "114  1964      Lyndon Johnson    Democratic      43127041    win  61.344703\n",
              "91   1936  Franklin Roosevelt    Democratic      27752648    win  60.978107\n",
              "120  1972       Richard Nixon    Republican      47168710    win  60.907806\n",
              "79   1920      Warren Harding    Republican      16144093    win  60.574501\n",
              "133  1984       Ronald Reagan    Republican      54455472    win  59.023326\n",
              "..    ...                 ...           ...           ...    ...        ...\n",
              "165  2008    Cynthia McKinney         Green        161797   loss   0.123442\n",
              "148  1996        John Hagelin   Natural Law        113670   loss   0.118219\n",
              "160  2004    Michael Peroutka  Constitution        143630   loss   0.117542\n",
              "141  1992            Bo Gritz      Populist        106152   loss   0.101918\n",
              "156  2004          David Cobb         Green        119859   loss   0.098088\n",
              "\n",
              "[182 rows x 6 columns]"
            ],
            "text/html": [
              "\n",
              "  <div id=\"df-30b3e3a1-274e-46be-bd57-c197a7ff22cc\" class=\"colab-df-container\">\n",
              "    <div>\n",
              "<style scoped>\n",
              "    .dataframe tbody tr th:only-of-type {\n",
              "        vertical-align: middle;\n",
              "    }\n",
              "\n",
              "    .dataframe tbody tr th {\n",
              "        vertical-align: top;\n",
              "    }\n",
              "\n",
              "    .dataframe thead th {\n",
              "        text-align: right;\n",
              "    }\n",
              "</style>\n",
              "<table border=\"1\" class=\"dataframe\">\n",
              "  <thead>\n",
              "    <tr style=\"text-align: right;\">\n",
              "      <th></th>\n",
              "      <th>Year</th>\n",
              "      <th>Candidate</th>\n",
              "      <th>Party</th>\n",
              "      <th>Popular vote</th>\n",
              "      <th>Result</th>\n",
              "      <th>%</th>\n",
              "    </tr>\n",
              "  </thead>\n",
              "  <tbody>\n",
              "    <tr>\n",
              "      <th>114</th>\n",
              "      <td>1964</td>\n",
              "      <td>Lyndon Johnson</td>\n",
              "      <td>Democratic</td>\n",
              "      <td>43127041</td>\n",
              "      <td>win</td>\n",
              "      <td>61.344703</td>\n",
              "    </tr>\n",
              "    <tr>\n",
              "      <th>91</th>\n",
              "      <td>1936</td>\n",
              "      <td>Franklin Roosevelt</td>\n",
              "      <td>Democratic</td>\n",
              "      <td>27752648</td>\n",
              "      <td>win</td>\n",
              "      <td>60.978107</td>\n",
              "    </tr>\n",
              "    <tr>\n",
              "      <th>120</th>\n",
              "      <td>1972</td>\n",
              "      <td>Richard Nixon</td>\n",
              "      <td>Republican</td>\n",
              "      <td>47168710</td>\n",
              "      <td>win</td>\n",
              "      <td>60.907806</td>\n",
              "    </tr>\n",
              "    <tr>\n",
              "      <th>79</th>\n",
              "      <td>1920</td>\n",
              "      <td>Warren Harding</td>\n",
              "      <td>Republican</td>\n",
              "      <td>16144093</td>\n",
              "      <td>win</td>\n",
              "      <td>60.574501</td>\n",
              "    </tr>\n",
              "    <tr>\n",
              "      <th>133</th>\n",
              "      <td>1984</td>\n",
              "      <td>Ronald Reagan</td>\n",
              "      <td>Republican</td>\n",
              "      <td>54455472</td>\n",
              "      <td>win</td>\n",
              "      <td>59.023326</td>\n",
              "    </tr>\n",
              "    <tr>\n",
              "      <th>...</th>\n",
              "      <td>...</td>\n",
              "      <td>...</td>\n",
              "      <td>...</td>\n",
              "      <td>...</td>\n",
              "      <td>...</td>\n",
              "      <td>...</td>\n",
              "    </tr>\n",
              "    <tr>\n",
              "      <th>165</th>\n",
              "      <td>2008</td>\n",
              "      <td>Cynthia McKinney</td>\n",
              "      <td>Green</td>\n",
              "      <td>161797</td>\n",
              "      <td>loss</td>\n",
              "      <td>0.123442</td>\n",
              "    </tr>\n",
              "    <tr>\n",
              "      <th>148</th>\n",
              "      <td>1996</td>\n",
              "      <td>John Hagelin</td>\n",
              "      <td>Natural Law</td>\n",
              "      <td>113670</td>\n",
              "      <td>loss</td>\n",
              "      <td>0.118219</td>\n",
              "    </tr>\n",
              "    <tr>\n",
              "      <th>160</th>\n",
              "      <td>2004</td>\n",
              "      <td>Michael Peroutka</td>\n",
              "      <td>Constitution</td>\n",
              "      <td>143630</td>\n",
              "      <td>loss</td>\n",
              "      <td>0.117542</td>\n",
              "    </tr>\n",
              "    <tr>\n",
              "      <th>141</th>\n",
              "      <td>1992</td>\n",
              "      <td>Bo Gritz</td>\n",
              "      <td>Populist</td>\n",
              "      <td>106152</td>\n",
              "      <td>loss</td>\n",
              "      <td>0.101918</td>\n",
              "    </tr>\n",
              "    <tr>\n",
              "      <th>156</th>\n",
              "      <td>2004</td>\n",
              "      <td>David Cobb</td>\n",
              "      <td>Green</td>\n",
              "      <td>119859</td>\n",
              "      <td>loss</td>\n",
              "      <td>0.098088</td>\n",
              "    </tr>\n",
              "  </tbody>\n",
              "</table>\n",
              "<p>182 rows × 6 columns</p>\n",
              "</div>\n",
              "    <div class=\"colab-df-buttons\">\n",
              "\n",
              "  <div class=\"colab-df-container\">\n",
              "    <button class=\"colab-df-convert\" onclick=\"convertToInteractive('df-30b3e3a1-274e-46be-bd57-c197a7ff22cc')\"\n",
              "            title=\"Convert this dataframe to an interactive table.\"\n",
              "            style=\"display:none;\">\n",
              "\n",
              "  <svg xmlns=\"http://www.w3.org/2000/svg\" height=\"24px\" viewBox=\"0 -960 960 960\">\n",
              "    <path d=\"M120-120v-720h720v720H120Zm60-500h600v-160H180v160Zm220 220h160v-160H400v160Zm0 220h160v-160H400v160ZM180-400h160v-160H180v160Zm440 0h160v-160H620v160ZM180-180h160v-160H180v160Zm440 0h160v-160H620v160Z\"/>\n",
              "  </svg>\n",
              "    </button>\n",
              "\n",
              "  <style>\n",
              "    .colab-df-container {\n",
              "      display:flex;\n",
              "      gap: 12px;\n",
              "    }\n",
              "\n",
              "    .colab-df-convert {\n",
              "      background-color: #E8F0FE;\n",
              "      border: none;\n",
              "      border-radius: 50%;\n",
              "      cursor: pointer;\n",
              "      display: none;\n",
              "      fill: #1967D2;\n",
              "      height: 32px;\n",
              "      padding: 0 0 0 0;\n",
              "      width: 32px;\n",
              "    }\n",
              "\n",
              "    .colab-df-convert:hover {\n",
              "      background-color: #E2EBFA;\n",
              "      box-shadow: 0px 1px 2px rgba(60, 64, 67, 0.3), 0px 1px 3px 1px rgba(60, 64, 67, 0.15);\n",
              "      fill: #174EA6;\n",
              "    }\n",
              "\n",
              "    .colab-df-buttons div {\n",
              "      margin-bottom: 4px;\n",
              "    }\n",
              "\n",
              "    [theme=dark] .colab-df-convert {\n",
              "      background-color: #3B4455;\n",
              "      fill: #D2E3FC;\n",
              "    }\n",
              "\n",
              "    [theme=dark] .colab-df-convert:hover {\n",
              "      background-color: #434B5C;\n",
              "      box-shadow: 0px 1px 3px 1px rgba(0, 0, 0, 0.15);\n",
              "      filter: drop-shadow(0px 1px 2px rgba(0, 0, 0, 0.3));\n",
              "      fill: #FFFFFF;\n",
              "    }\n",
              "  </style>\n",
              "\n",
              "    <script>\n",
              "      const buttonEl =\n",
              "        document.querySelector('#df-30b3e3a1-274e-46be-bd57-c197a7ff22cc button.colab-df-convert');\n",
              "      buttonEl.style.display =\n",
              "        google.colab.kernel.accessAllowed ? 'block' : 'none';\n",
              "\n",
              "      async function convertToInteractive(key) {\n",
              "        const element = document.querySelector('#df-30b3e3a1-274e-46be-bd57-c197a7ff22cc');\n",
              "        const dataTable =\n",
              "          await google.colab.kernel.invokeFunction('convertToInteractive',\n",
              "                                                    [key], {});\n",
              "        if (!dataTable) return;\n",
              "\n",
              "        const docLinkHtml = 'Like what you see? Visit the ' +\n",
              "          '<a target=\"_blank\" href=https://colab.research.google.com/notebooks/data_table.ipynb>data table notebook</a>'\n",
              "          + ' to learn more about interactive tables.';\n",
              "        element.innerHTML = '';\n",
              "        dataTable['output_type'] = 'display_data';\n",
              "        await google.colab.output.renderOutput(dataTable, element);\n",
              "        const docLink = document.createElement('div');\n",
              "        docLink.innerHTML = docLinkHtml;\n",
              "        element.appendChild(docLink);\n",
              "      }\n",
              "    </script>\n",
              "  </div>\n",
              "\n",
              "\n",
              "<div id=\"df-503790d9-f7fe-4838-890e-c442ddbf2adc\">\n",
              "  <button class=\"colab-df-quickchart\" onclick=\"quickchart('df-503790d9-f7fe-4838-890e-c442ddbf2adc')\"\n",
              "            title=\"Suggest charts\"\n",
              "            style=\"display:none;\">\n",
              "\n",
              "<svg xmlns=\"http://www.w3.org/2000/svg\" height=\"24px\"viewBox=\"0 0 24 24\"\n",
              "     width=\"24px\">\n",
              "    <g>\n",
              "        <path d=\"M19 3H5c-1.1 0-2 .9-2 2v14c0 1.1.9 2 2 2h14c1.1 0 2-.9 2-2V5c0-1.1-.9-2-2-2zM9 17H7v-7h2v7zm4 0h-2V7h2v10zm4 0h-2v-4h2v4z\"/>\n",
              "    </g>\n",
              "</svg>\n",
              "  </button>\n",
              "\n",
              "<style>\n",
              "  .colab-df-quickchart {\n",
              "      --bg-color: #E8F0FE;\n",
              "      --fill-color: #1967D2;\n",
              "      --hover-bg-color: #E2EBFA;\n",
              "      --hover-fill-color: #174EA6;\n",
              "      --disabled-fill-color: #AAA;\n",
              "      --disabled-bg-color: #DDD;\n",
              "  }\n",
              "\n",
              "  [theme=dark] .colab-df-quickchart {\n",
              "      --bg-color: #3B4455;\n",
              "      --fill-color: #D2E3FC;\n",
              "      --hover-bg-color: #434B5C;\n",
              "      --hover-fill-color: #FFFFFF;\n",
              "      --disabled-bg-color: #3B4455;\n",
              "      --disabled-fill-color: #666;\n",
              "  }\n",
              "\n",
              "  .colab-df-quickchart {\n",
              "    background-color: var(--bg-color);\n",
              "    border: none;\n",
              "    border-radius: 50%;\n",
              "    cursor: pointer;\n",
              "    display: none;\n",
              "    fill: var(--fill-color);\n",
              "    height: 32px;\n",
              "    padding: 0;\n",
              "    width: 32px;\n",
              "  }\n",
              "\n",
              "  .colab-df-quickchart:hover {\n",
              "    background-color: var(--hover-bg-color);\n",
              "    box-shadow: 0 1px 2px rgba(60, 64, 67, 0.3), 0 1px 3px 1px rgba(60, 64, 67, 0.15);\n",
              "    fill: var(--button-hover-fill-color);\n",
              "  }\n",
              "\n",
              "  .colab-df-quickchart-complete:disabled,\n",
              "  .colab-df-quickchart-complete:disabled:hover {\n",
              "    background-color: var(--disabled-bg-color);\n",
              "    fill: var(--disabled-fill-color);\n",
              "    box-shadow: none;\n",
              "  }\n",
              "\n",
              "  .colab-df-spinner {\n",
              "    border: 2px solid var(--fill-color);\n",
              "    border-color: transparent;\n",
              "    border-bottom-color: var(--fill-color);\n",
              "    animation:\n",
              "      spin 1s steps(1) infinite;\n",
              "  }\n",
              "\n",
              "  @keyframes spin {\n",
              "    0% {\n",
              "      border-color: transparent;\n",
              "      border-bottom-color: var(--fill-color);\n",
              "      border-left-color: var(--fill-color);\n",
              "    }\n",
              "    20% {\n",
              "      border-color: transparent;\n",
              "      border-left-color: var(--fill-color);\n",
              "      border-top-color: var(--fill-color);\n",
              "    }\n",
              "    30% {\n",
              "      border-color: transparent;\n",
              "      border-left-color: var(--fill-color);\n",
              "      border-top-color: var(--fill-color);\n",
              "      border-right-color: var(--fill-color);\n",
              "    }\n",
              "    40% {\n",
              "      border-color: transparent;\n",
              "      border-right-color: var(--fill-color);\n",
              "      border-top-color: var(--fill-color);\n",
              "    }\n",
              "    60% {\n",
              "      border-color: transparent;\n",
              "      border-right-color: var(--fill-color);\n",
              "    }\n",
              "    80% {\n",
              "      border-color: transparent;\n",
              "      border-right-color: var(--fill-color);\n",
              "      border-bottom-color: var(--fill-color);\n",
              "    }\n",
              "    90% {\n",
              "      border-color: transparent;\n",
              "      border-bottom-color: var(--fill-color);\n",
              "    }\n",
              "  }\n",
              "</style>\n",
              "\n",
              "  <script>\n",
              "    async function quickchart(key) {\n",
              "      const quickchartButtonEl =\n",
              "        document.querySelector('#' + key + ' button');\n",
              "      quickchartButtonEl.disabled = true;  // To prevent multiple clicks.\n",
              "      quickchartButtonEl.classList.add('colab-df-spinner');\n",
              "      try {\n",
              "        const charts = await google.colab.kernel.invokeFunction(\n",
              "            'suggestCharts', [key], {});\n",
              "      } catch (error) {\n",
              "        console.error('Error during call to suggestCharts:', error);\n",
              "      }\n",
              "      quickchartButtonEl.classList.remove('colab-df-spinner');\n",
              "      quickchartButtonEl.classList.add('colab-df-quickchart-complete');\n",
              "    }\n",
              "    (() => {\n",
              "      let quickchartButtonEl =\n",
              "        document.querySelector('#df-503790d9-f7fe-4838-890e-c442ddbf2adc button');\n",
              "      quickchartButtonEl.style.display =\n",
              "        google.colab.kernel.accessAllowed ? 'block' : 'none';\n",
              "    })();\n",
              "  </script>\n",
              "</div>\n",
              "\n",
              "    </div>\n",
              "  </div>\n"
            ],
            "application/vnd.google.colaboratory.intrinsic+json": {
              "type": "dataframe",
              "summary": "{\n  \"name\": \"elections\",\n  \"rows\": 182,\n  \"fields\": [\n    {\n      \"column\": \"Year\",\n      \"properties\": {\n        \"dtype\": \"number\",\n        \"std\": 57,\n        \"min\": 1824,\n        \"max\": 2020,\n        \"num_unique_values\": 50,\n        \"samples\": [\n          1864,\n          1888,\n          1980\n        ],\n        \"semantic_type\": \"\",\n        \"description\": \"\"\n      }\n    },\n    {\n      \"column\": \"Candidate\",\n      \"properties\": {\n        \"dtype\": \"string\",\n        \"num_unique_values\": 132,\n        \"samples\": [\n          \"Lewis Cass\",\n          \"Strom Thurmond\",\n          \"Joseph Biden\"\n        ],\n        \"semantic_type\": \"\",\n        \"description\": \"\"\n      }\n    },\n    {\n      \"column\": \"Party\",\n      \"properties\": {\n        \"dtype\": \"category\",\n        \"num_unique_values\": 36,\n        \"samples\": [\n          \"Natural Law\",\n          \"Constitutional Union\",\n          \"Union Labor\"\n        ],\n        \"semantic_type\": \"\",\n        \"description\": \"\"\n      }\n    },\n    {\n      \"column\": \"Popular vote\",\n      \"properties\": {\n        \"dtype\": \"number\",\n        \"std\": 19077149,\n        \"min\": 100715,\n        \"max\": 81268924,\n        \"num_unique_values\": 182,\n        \"samples\": [\n          1275583,\n          65853514,\n          187910\n        ],\n        \"semantic_type\": \"\",\n        \"description\": \"\"\n      }\n    },\n    {\n      \"column\": \"Result\",\n      \"properties\": {\n        \"dtype\": \"category\",\n        \"num_unique_values\": 2,\n        \"samples\": [\n          \"loss\",\n          \"win\"\n        ],\n        \"semantic_type\": \"\",\n        \"description\": \"\"\n      }\n    },\n    {\n      \"column\": \"%\",\n      \"properties\": {\n        \"dtype\": \"number\",\n        \"std\": 22.96803399144419,\n        \"min\": 0.098088334,\n        \"max\": 61.34470329,\n        \"num_unique_values\": 182,\n        \"samples\": [\n          53.05121324,\n          48.52153918\n        ],\n        \"semantic_type\": \"\",\n        \"description\": \"\"\n      }\n    }\n  ]\n}"
            }
          },
          "metadata": {},
          "execution_count": 33
        }
      ],
      "source": [
        "elections.sort_values('%', ascending=False)"
      ]
    },
    {
      "cell_type": "markdown",
      "metadata": {
        "id": "l88QC8yvPtvZ"
      },
      "source": [
        "We can also use `sort_values` on Series objects."
      ]
    },
    {
      "cell_type": "code",
      "execution_count": 34,
      "metadata": {
        "id": "4wTi414QPtva",
        "colab": {
          "base_uri": "https://localhost:8080/"
        },
        "outputId": "1cc514c9-25aa-4599-acc7-341c83bb6f8a"
      },
      "outputs": [
        {
          "output_type": "execute_result",
          "data": {
            "text/plain": [
              "46    Chinook Jargon\n",
              "49           English\n",
              "29           English\n",
              "28           English\n",
              "27           English\n",
              "26           English\n",
              "48           English\n",
              "37           English\n",
              "38           English\n",
              "40           English\n",
              "17           English\n",
              "34           English\n",
              "42           English\n",
              "14           English\n",
              "41           English\n",
              "12           English\n",
              "1            English\n",
              "13           English\n",
              "8            English\n",
              "7            English\n",
              "9            English\n",
              "43           English\n",
              "22            French\n",
              "4              Greek\n",
              "10          Hawaiian\n",
              "19           Italian\n",
              "39             Latin\n",
              "44             Latin\n",
              "36             Latin\n",
              "45             Latin\n",
              "47             Latin\n",
              "35             Latin\n",
              "33             Latin\n",
              "0              Latin\n",
              "31             Latin\n",
              "30             Latin\n",
              "23             Latin\n",
              "21             Latin\n",
              "20             Latin\n",
              "18             Latin\n",
              "16             Latin\n",
              "15             Latin\n",
              "11             Latin\n",
              "6              Latin\n",
              "5              Latin\n",
              "3              Latin\n",
              "2              Latin\n",
              "32             Latin\n",
              "24             Latin\n",
              "25           Spanish\n",
              "Name: Language, dtype: object"
            ]
          },
          "metadata": {},
          "execution_count": 34
        }
      ],
      "source": [
        "mottos['Language'].sort_values().head(50)"
      ]
    },
    {
      "cell_type": "markdown",
      "metadata": {
        "id": "8_4EHw_lPtvb"
      },
      "source": [
        "For Series, the `value_counts` method is often quite handy."
      ]
    },
    {
      "cell_type": "code",
      "execution_count": 35,
      "metadata": {
        "id": "qO1Uxnw3Ptvb",
        "colab": {
          "base_uri": "https://localhost:8080/"
        },
        "outputId": "6ffde89f-c7c2-46aa-e91b-640a5403656e"
      },
      "outputs": [
        {
          "output_type": "execute_result",
          "data": {
            "text/plain": [
              "Language\n",
              "Latin             23\n",
              "English           21\n",
              "Greek              1\n",
              "Hawaiian           1\n",
              "Italian            1\n",
              "French             1\n",
              "Spanish            1\n",
              "Chinook Jargon     1\n",
              "Name: count, dtype: int64"
            ]
          },
          "metadata": {},
          "execution_count": 35
        }
      ],
      "source": [
        "mottos['Language'].value_counts()"
      ]
    },
    {
      "cell_type": "markdown",
      "metadata": {
        "id": "l1fAovTpPtvb"
      },
      "source": [
        "Also commonly used is the `unique` method, which returns **all unique values** as a numpy array."
      ]
    },
    {
      "cell_type": "code",
      "execution_count": 36,
      "metadata": {
        "id": "_ToE_vqVPtvb",
        "colab": {
          "base_uri": "https://localhost:8080/"
        },
        "outputId": "11c1c0b9-01b1-48c7-ce7d-f1370c499764"
      },
      "outputs": [
        {
          "output_type": "execute_result",
          "data": {
            "text/plain": [
              "array(['Latin', 'English', 'Greek', 'Hawaiian', 'Italian', 'French',\n",
              "       'Spanish', 'Chinook Jargon'], dtype=object)"
            ]
          },
          "metadata": {},
          "execution_count": 36
        }
      ],
      "source": [
        "mottos['Language'].unique()"
      ]
    },
    {
      "cell_type": "code",
      "execution_count": 37,
      "metadata": {
        "id": "HAYgnI5ZPtvb",
        "colab": {
          "base_uri": "https://localhost:8080/"
        },
        "outputId": "654c69d6-3254-4bfd-f936-5c79781d3933"
      },
      "outputs": [
        {
          "output_type": "execute_result",
          "data": {
            "text/plain": [
              "5"
            ]
          },
          "metadata": {},
          "execution_count": 37
        }
      ],
      "source": [
        "def fiba(n):\n",
        "    if n < 2:\n",
        "        return n\n",
        "    else:\n",
        "        return fiba(n-1) + fiba(n-2)\n",
        "\n",
        "\n",
        "\n",
        "fiba(5)"
      ]
    },
    {
      "cell_type": "markdown",
      "metadata": {
        "id": "nyvmtSviPtvc"
      },
      "source": [
        "# Thank you!"
      ]
    }
  ],
  "metadata": {
    "colab": {
      "provenance": []
    },
    "kernelspec": {
      "display_name": "Python 3 (ipykernel)",
      "language": "python",
      "name": "python3"
    },
    "language_info": {
      "codemirror_mode": {
        "name": "ipython",
        "version": 3
      },
      "file_extension": ".py",
      "mimetype": "text/x-python",
      "name": "python",
      "nbconvert_exporter": "python",
      "pygments_lexer": "ipython3",
      "version": "3.11.7"
    },
    "vscode": {
      "interpreter": {
        "hash": "7a3d88c904243d2c3f246166597f86d1c0a39f3d97496d1fe394945d0c6d436d"
      }
    }
  },
  "nbformat": 4,
  "nbformat_minor": 0
}