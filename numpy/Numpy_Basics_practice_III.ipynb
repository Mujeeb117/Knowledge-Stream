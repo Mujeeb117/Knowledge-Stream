{
 "cells": [
  {
   "cell_type": "code",
   "execution_count": 2,
   "id": "2a8a0fa8-ceee-4b65-9739-39bdbf33d23c",
   "metadata": {
    "id": "2a8a0fa8-ceee-4b65-9739-39bdbf33d23c"
   },
   "outputs": [],
   "source": [
    "import numpy as np"
   ]
  },
  {
   "cell_type": "markdown",
   "id": "6cd94836-36bf-4eca-a68c-4d4afb52ef7d",
   "metadata": {
    "id": "6cd94836-36bf-4eca-a68c-4d4afb52ef7d"
   },
   "source": [
    "# Q1"
   ]
  },
  {
   "cell_type": "markdown",
   "id": "26a82645-942a-40ba-9d5b-a58c65d27817",
   "metadata": {
    "id": "26a82645-942a-40ba-9d5b-a58c65d27817"
   },
   "source": [
    "Statement: Given a 3D NumPy array arr of shape (2, 3, 4), write a code snippet to calculate the sum of all elements in the array.\n",
    "\n",
    "Sample Input:"
   ]
  },
  {
   "cell_type": "code",
   "execution_count": 5,
   "id": "dbf71bf2-1ac9-48f3-96fb-5f22ad767b29",
   "metadata": {
    "id": "dbf71bf2-1ac9-48f3-96fb-5f22ad767b29"
   },
   "outputs": [
    {
     "data": {
      "text/plain": [
       "9.054372561801604e+271"
      ]
     },
     "execution_count": 5,
     "metadata": {},
     "output_type": "execute_result"
    }
   ],
   "source": [
    "# Answer Here\n",
    "arr=np.empty((2,3,4))\n",
    "arr\n",
    "arr.sum()"
   ]
  },
  {
   "cell_type": "markdown",
   "id": "14bd52a2-86d8-4ef6-b1ee-de66e9703458",
   "metadata": {
    "id": "14bd52a2-86d8-4ef6-b1ee-de66e9703458"
   },
   "source": [
    "# Q2"
   ]
  },
  {
   "cell_type": "markdown",
   "id": "9a536e77-25c6-4b63-906b-7aa8eaaa073e",
   "metadata": {
    "id": "9a536e77-25c6-4b63-906b-7aa8eaaa073e"
   },
   "source": [
    "Statement: Write a NumPy code snippet to create a 4D array arr of shape (2, 3, 4, 5) filled with random integers ranging from 0 to 9.\n",
    "\n",
    "Sample Output:"
   ]
  },
  {
   "cell_type": "code",
   "execution_count": 21,
   "id": "5602b3f2-13e2-4585-9870-9bc07563c60e",
   "metadata": {
    "id": "5602b3f2-13e2-4585-9870-9bc07563c60e"
   },
   "outputs": [
    {
     "data": {
      "text/plain": [
       "array([[[[0, 1, 6, 0, 9],\n",
       "         [1, 9, 8, 0, 1],\n",
       "         [3, 0, 1, 1, 6],\n",
       "         [5, 0, 7, 3, 0]],\n",
       "\n",
       "        [[2, 3, 7, 2, 1],\n",
       "         [8, 9, 0, 4, 1],\n",
       "         [3, 6, 5, 1, 6],\n",
       "         [8, 7, 0, 3, 3]],\n",
       "\n",
       "        [[4, 4, 2, 4, 5],\n",
       "         [4, 0, 6, 4, 9],\n",
       "         [9, 3, 8, 1, 9],\n",
       "         [8, 3, 1, 9, 4]]],\n",
       "\n",
       "\n",
       "       [[[3, 6, 0, 5, 3],\n",
       "         [7, 0, 6, 7, 5],\n",
       "         [7, 3, 2, 8, 2],\n",
       "         [9, 7, 0, 9, 7]],\n",
       "\n",
       "        [[1, 4, 6, 8, 9],\n",
       "         [7, 5, 3, 2, 1],\n",
       "         [1, 2, 7, 4, 8],\n",
       "         [6, 7, 7, 0, 9]],\n",
       "\n",
       "        [[2, 6, 5, 6, 1],\n",
       "         [0, 9, 2, 1, 9],\n",
       "         [0, 8, 1, 7, 8],\n",
       "         [5, 6, 4, 9, 6]]]])"
      ]
     },
     "execution_count": 21,
     "metadata": {},
     "output_type": "execute_result"
    }
   ],
   "source": [
    "# Answer Here\n",
    "arr=np.random.randint(0,10, size=(2,3,4,5))\n",
    "arr"
   ]
  },
  {
   "cell_type": "code",
   "execution_count": 39,
   "id": "c8696593-60e0-498f-a61e-d3781421426e",
   "metadata": {},
   "outputs": [
    {
     "data": {
      "text/plain": [
       "array([[[[  0,   1,   2,   3,   4],\n",
       "         [  5,   6,   7,   8,   9],\n",
       "         [ 10,  11,  12,  13,  14],\n",
       "         [ 15,  16,  17,  18,  19]],\n",
       "\n",
       "        [[ 20,  21,  22,  23,  24],\n",
       "         [ 25,  26,  27,  28,  29],\n",
       "         [ 30,  31,  32,  33,  34],\n",
       "         [ 35,  36,  37,  38,  39]],\n",
       "\n",
       "        [[ 40,  41,  42,  43,  44],\n",
       "         [ 45,  46,  47,  48,  49],\n",
       "         [ 50,  51,  52,  53,  54],\n",
       "         [ 55,  56,  57,  58,  59]]],\n",
       "\n",
       "\n",
       "       [[[ 60,  61,  62,  63,  64],\n",
       "         [ 65,  66,  67,  68,  69],\n",
       "         [ 70,  71,  72,  73,  74],\n",
       "         [ 75,  76,  77,  78,  79]],\n",
       "\n",
       "        [[ 80,  81,  82,  83,  84],\n",
       "         [ 85,  86,  87,  88,  89],\n",
       "         [ 90,  91,  92,  93,  94],\n",
       "         [ 95,  96,  97,  98,  99]],\n",
       "\n",
       "        [[100, 101, 102, 103, 104],\n",
       "         [105, 106, 107, 108, 109],\n",
       "         [110, 111, 112, 113, 114],\n",
       "         [115, 116, 117, 118, 119]]]])"
      ]
     },
     "execution_count": 39,
     "metadata": {},
     "output_type": "execute_result"
    }
   ],
   "source": [
    "3=np.arange(120).reshape(2,3,4,5)\n",
    "arr"
   ]
  },
  {
   "cell_type": "markdown",
   "id": "540f8d57-6cc0-4e53-8744-787e868276a4",
   "metadata": {
    "id": "540f8d57-6cc0-4e53-8744-787e868276a4"
   },
   "source": [
    "# Q3"
   ]
  },
  {
   "cell_type": "markdown",
   "id": "37497bad-10e3-4c65-b4f6-65bb5ed0b00d",
   "metadata": {
    "id": "37497bad-10e3-4c65-b4f6-65bb5ed0b00d"
   },
   "source": [
    "Statement: Given a 4D NumPy array arr of shape (2, 3, 4, 5), write a code snippet to calculate the mean along the second axis.\n",
    "\n",
    "Sample Input:"
   ]
  },
  {
   "cell_type": "code",
   "execution_count": 26,
   "id": "88e445e7-3784-45ea-b5a4-8a5308e12874",
   "metadata": {
    "id": "84df3761-5341-4010-b541-6a79a1b74625"
   },
   "outputs": [
    {
     "data": {
      "text/plain": [
       "array([[[1., 1., 1., 1., 1.],\n",
       "        [1., 1., 1., 1., 1.],\n",
       "        [1., 1., 1., 1., 1.]],\n",
       "\n",
       "       [[1., 1., 1., 1., 1.],\n",
       "        [1., 1., 1., 1., 1.],\n",
       "        [1., 1., 1., 1., 1.]]])"
      ]
     },
     "execution_count": 26,
     "metadata": {},
     "output_type": "execute_result"
    }
   ],
   "source": [
    "# Answer Here\n",
    "arr=np.empty((2,3,4,5))\n",
    "arr\n",
    "\n",
    "arr.mean(axis=2)"
   ]
  },
  {
   "cell_type": "markdown",
   "id": "9d4cd387-ca18-4951-a1ab-63a7a1f80a0d",
   "metadata": {
    "id": "9d4cd387-ca18-4951-a1ab-63a7a1f80a0d"
   },
   "source": [
    "# Q4"
   ]
  },
  {
   "cell_type": "markdown",
   "id": "768891f0-dd85-4a6b-a336-31061a30945f",
   "metadata": {
    "id": "768891f0-dd85-4a6b-a336-31061a30945f"
   },
   "source": [
    "Statement: You have collected data from a temperature sensor placed at different locations over a period of time. The recorded temperatures are stored in a 3D NumPy array temps of shape (7, 24, 60), where the dimensions represent the number of days, hours in a day, and minutes in an hour, respectively. Write a code snippet to calculate the average temperature for each day.\n",
    "\n",
    "Sample Input:"
   ]
  },
  {
   "cell_type": "code",
   "execution_count": 30,
   "id": "905df96f-ee7f-410f-adae-88758871af96",
   "metadata": {
    "id": "905df96f-ee7f-410f-adae-88758871af96"
   },
   "outputs": [
    {
     "data": {
      "text/plain": [
       "array([6.84340224e-303, 2.08773793e-311, 1.37501033e-301, 2.11178825e-311,\n",
       "       4.31267780e-272, 1.03104854e-311, 2.67787807e-312])"
      ]
     },
     "execution_count": 30,
     "metadata": {},
     "output_type": "execute_result"
    }
   ],
   "source": [
    "arr=np.empty((7,24,60))\n",
    "arr\n",
    "np.mean(arr, axis=(1,2))\n",
    "# Answer Here"
   ]
  },
  {
   "cell_type": "markdown",
   "id": "f8913844-39a1-4d9b-a434-7af478336f20",
   "metadata": {
    "id": "f8913844-39a1-4d9b-a434-7af478336f20"
   },
   "source": [
    "Sample Output:\n",
    "\n",
    "array([27.43864059, 26.99643944, 27.10398301, 27.43854821, 26.81072977,\n",
    "       26.76581481, 27.07946152])"
   ]
  },
  {
   "cell_type": "markdown",
   "id": "55a224ca-01c9-4b13-8bc9-1db7269a35d5",
   "metadata": {
    "id": "55a224ca-01c9-4b13-8bc9-1db7269a35d5"
   },
   "source": [
    "# Q5"
   ]
  },
  {
   "cell_type": "markdown",
   "id": "af5efd9b-ff4f-4ae1-af9a-da9bf621d3bd",
   "metadata": {
    "id": "af5efd9b-ff4f-4ae1-af9a-da9bf621d3bd"
   },
   "source": [
    "Statement: You have collected data from multiple sensors placed in different rooms of a building. The sensor readings are stored in a 4D NumPy array readings of shape (4, 7, 24, 60), where the dimensions represent the number of sensors, number of days, hours in a day, and minutes in an hour, respectively. Write a code snippet to calculate the maximum reading for each sensor across all days."
   ]
  },
  {
   "cell_type": "code",
   "execution_count": 36,
   "id": "79873e69-35ad-4bde-ba48-cf33218b1dc2",
   "metadata": {
    "id": "79873e69-35ad-4bde-ba48-cf33218b1dc2"
   },
   "outputs": [
    {
     "data": {
      "text/plain": [
       "array([4.90900643e+252,             nan, 0.00000000e+000, 0.00000000e+000])"
      ]
     },
     "execution_count": 36,
     "metadata": {},
     "output_type": "execute_result"
    }
   ],
   "source": [
    "# Answer Here\n",
    "\n",
    "arr=np.empty((4,7,24,60))\n",
    "np.max(arr,axis=(1,2,3))"
   ]
  },
  {
   "cell_type": "markdown",
   "id": "e8ca2836-0977-4b11-a214-a93630131927",
   "metadata": {
    "id": "e8ca2836-0977-4b11-a214-a93630131927"
   },
   "source": [
    "# Q6"
   ]
  },
  {
   "cell_type": "markdown",
   "id": "b324cb33-b481-4cf8-a148-9292ec382a8c",
   "metadata": {
    "id": "b324cb33-b481-4cf8-a148-9292ec382a8c"
   },
   "source": [
    "Statement: You have collected data from a 3D printer that measures the dimensions of printed objects. The recorded dimensions are stored in a 3D NumPy array dimensions of shape (100, 50, 3), where the dimensions represent the number of printed objects, number of measurements for each object, and the three dimensions (length, width, height), respectively. Write a code snippet to calculate the average length, width, and height across all objects.\n",
    "\n",
    "Sample Inpumt:"
   ]
  },
  {
   "cell_type": "code",
   "execution_count": 63,
   "id": "d1199cf1-5f47-45f5-a090-615021490d8e",
   "metadata": {
    "id": "d1199cf1-5f47-45f5-a090-615021490d8e"
   },
   "outputs": [
    {
     "name": "stdout",
     "output_type": "stream",
     "text": [
      "Average Length: 0.504200736948895\n",
      "Average Width: 0.5055431453858892\n",
      "Average Height: 0.5002330942616768\n"
     ]
    }
   ],
   "source": [
    "\n",
    "dimensions = np.random.rand(100, 50, 3)  # Example data\n",
    "\n",
    "# Calculate the average length, width, and height across all objects\n",
    "average_dimensions = np.mean(dimensions, axis=(0, 1))\n",
    "\n",
    "# Extract the individual averages\n",
    "average_length = average_dimensions[0]\n",
    "average_width = average_dimensions[1]\n",
    "average_height = average_dimensions[2]\n",
    "\n",
    "print(f\"Average Length: {average_length}\")\n",
    "print(f\"Average Width: {average_width}\")\n",
    "print(f\"Average Height: {average_height}\")\n"
   ]
  },
  {
   "cell_type": "markdown",
   "id": "a3c20cfa-7ad6-437b-8837-1eabded47ac7",
   "metadata": {
    "id": "a3c20cfa-7ad6-437b-8837-1eabded47ac7"
   },
   "source": [
    "# Q7"
   ]
  },
  {
   "cell_type": "markdown",
   "id": "c5c5e835-2d6d-4bec-a700-4125e2ea7375",
   "metadata": {
    "id": "c5c5e835-2d6d-4bec-a700-4125e2ea7375"
   },
   "source": [
    "Statement: You are given a 3D NumPy array data of shape (5, 6, 7) representing the sensor readings from multiple sensors placed in different locations over a period of time. Each sensor provides measurements at different time points. Write a code snippet to calculate the following statistics for each sensor:\n",
    "\n",
    "Total number of measurements\n",
    "\n",
    "Average measurement value\n",
    "\n",
    "Standard deviation of measurements\n",
    "\n",
    "Minimum measurement value\n",
    "\n",
    "Maximum measurement value\n",
    "\n",
    "Sample Input:"
   ]
  },
  {
   "cell_type": "code",
   "execution_count": 47,
   "id": "46256376-8395-460c-a736-71a83252e47f",
   "metadata": {
    "id": "46256376-8395-460c-a736-71a83252e47f"
   },
   "outputs": [],
   "source": [
    "# Answer Here\n",
    "arr=np.arange(210).reshape(5,6,7)"
   ]
  },
  {
   "cell_type": "code",
   "execution_count": 48,
   "id": "87f085a1-fec3-40e5-90db-d535c0de01c0",
   "metadata": {
    "id": "87f085a1-fec3-40e5-90db-d535c0de01c0"
   },
   "outputs": [
    {
     "data": {
      "text/plain": [
       "array([[[  0,   1,   2,   3,   4,   5,   6],\n",
       "        [  7,   8,   9,  10,  11,  12,  13],\n",
       "        [ 14,  15,  16,  17,  18,  19,  20],\n",
       "        [ 21,  22,  23,  24,  25,  26,  27],\n",
       "        [ 28,  29,  30,  31,  32,  33,  34],\n",
       "        [ 35,  36,  37,  38,  39,  40,  41]],\n",
       "\n",
       "       [[ 42,  43,  44,  45,  46,  47,  48],\n",
       "        [ 49,  50,  51,  52,  53,  54,  55],\n",
       "        [ 56,  57,  58,  59,  60,  61,  62],\n",
       "        [ 63,  64,  65,  66,  67,  68,  69],\n",
       "        [ 70,  71,  72,  73,  74,  75,  76],\n",
       "        [ 77,  78,  79,  80,  81,  82,  83]],\n",
       "\n",
       "       [[ 84,  85,  86,  87,  88,  89,  90],\n",
       "        [ 91,  92,  93,  94,  95,  96,  97],\n",
       "        [ 98,  99, 100, 101, 102, 103, 104],\n",
       "        [105, 106, 107, 108, 109, 110, 111],\n",
       "        [112, 113, 114, 115, 116, 117, 118],\n",
       "        [119, 120, 121, 122, 123, 124, 125]],\n",
       "\n",
       "       [[126, 127, 128, 129, 130, 131, 132],\n",
       "        [133, 134, 135, 136, 137, 138, 139],\n",
       "        [140, 141, 142, 143, 144, 145, 146],\n",
       "        [147, 148, 149, 150, 151, 152, 153],\n",
       "        [154, 155, 156, 157, 158, 159, 160],\n",
       "        [161, 162, 163, 164, 165, 166, 167]],\n",
       "\n",
       "       [[168, 169, 170, 171, 172, 173, 174],\n",
       "        [175, 176, 177, 178, 179, 180, 181],\n",
       "        [182, 183, 184, 185, 186, 187, 188],\n",
       "        [189, 190, 191, 192, 193, 194, 195],\n",
       "        [196, 197, 198, 199, 200, 201, 202],\n",
       "        [203, 204, 205, 206, 207, 208, 209]]])"
      ]
     },
     "execution_count": 48,
     "metadata": {},
     "output_type": "execute_result"
    }
   ],
   "source": [
    "arr"
   ]
  },
  {
   "cell_type": "code",
   "execution_count": 57,
   "id": "1585c010-c88b-4012-b141-4781e1359132",
   "metadata": {},
   "outputs": [
    {
     "data": {
      "text/plain": [
       "210"
      ]
     },
     "execution_count": 57,
     "metadata": {},
     "output_type": "execute_result"
    }
   ],
   "source": [
    "np.size(arr)"
   ]
  },
  {
   "cell_type": "code",
   "execution_count": 58,
   "id": "68e2f908-a55f-4c05-90be-717abdb010af",
   "metadata": {},
   "outputs": [
    {
     "data": {
      "text/plain": [
       "104.5"
      ]
     },
     "execution_count": 58,
     "metadata": {},
     "output_type": "execute_result"
    }
   ],
   "source": [
    "np.mean(arr)"
   ]
  },
  {
   "cell_type": "code",
   "execution_count": 59,
   "id": "64c313a7-7a0e-4e5d-949e-cd848fd42398",
   "metadata": {},
   "outputs": [
    {
     "data": {
      "text/plain": [
       "60.621090939265244"
      ]
     },
     "execution_count": 59,
     "metadata": {},
     "output_type": "execute_result"
    }
   ],
   "source": [
    "np.std(arr)"
   ]
  },
  {
   "cell_type": "code",
   "execution_count": 60,
   "id": "af4629e8-51a8-4e6c-94c9-440760010268",
   "metadata": {},
   "outputs": [
    {
     "data": {
      "text/plain": [
       "0"
      ]
     },
     "execution_count": 60,
     "metadata": {},
     "output_type": "execute_result"
    }
   ],
   "source": [
    "np.min(arr)"
   ]
  },
  {
   "cell_type": "code",
   "execution_count": 61,
   "id": "39fc2bcd-9917-46cb-8444-8720930f8889",
   "metadata": {},
   "outputs": [
    {
     "data": {
      "text/plain": [
       "209"
      ]
     },
     "execution_count": 61,
     "metadata": {},
     "output_type": "execute_result"
    }
   ],
   "source": [
    "np.max(arr)"
   ]
  },
  {
   "cell_type": "code",
   "execution_count": null,
   "id": "ca080345-e647-4bec-b76d-f1f270efdc53",
   "metadata": {},
   "outputs": [],
   "source": []
  }
 ],
 "metadata": {
  "colab": {
   "provenance": []
  },
  "kernelspec": {
   "display_name": "Python 3 (ipykernel)",
   "language": "python",
   "name": "python3"
  },
  "language_info": {
   "codemirror_mode": {
    "name": "ipython",
    "version": 3
   },
   "file_extension": ".py",
   "mimetype": "text/x-python",
   "name": "python",
   "nbconvert_exporter": "python",
   "pygments_lexer": "ipython3",
   "version": "3.11.7"
  }
 },
 "nbformat": 4,
 "nbformat_minor": 5
}
