{
  "cells": [
    {
      "cell_type": "code",
      "execution_count": 1,
      "metadata": {
        "id": "qQxFQvrEEKqm"
      },
      "outputs": [],
      "source": [
        "import numpy as np\n"
      ]
    },
    {
      "cell_type": "code",
      "execution_count": 1,
      "metadata": {
        "id": "QSdiaIhig6n_"
      },
      "outputs": [],
      "source": []
    },
    {
      "cell_type": "code",
      "execution_count": 2,
      "metadata": {
        "colab": {
          "base_uri": "https://localhost:8080/"
        },
        "id": "n_ncJAFDEbs1",
        "outputId": "8708a1ec-6034-4bda-e329-4d221419d205"
      },
      "outputs": [
        {
          "output_type": "stream",
          "name": "stdout",
          "text": [
            "Mounted at /content/drive\n"
          ]
        }
      ],
      "source": [
        "from google.colab import drive\n",
        "drive.mount('/content/drive')"
      ]
    },
    {
      "cell_type": "code",
      "source": [],
      "metadata": {
        "id": "n5Y4PVE7nOsJ"
      },
      "execution_count": null,
      "outputs": []
    },
    {
      "cell_type": "markdown",
      "metadata": {
        "id": "5dL78wl-ElhS"
      },
      "source": [
        "# Q.1\n",
        "**Statement:** You are working with a retail store that needs to manage its inventory efficiently. They have provided you with a dataset containing information about products, their quantities in stock, and the number of units sold daily for the past week. Total number of products are 5. Your task is to calculate the following:\n",
        "\n",
        "\n",
        "\n",
        "1.The total sales for each product over the past week.\n",
        "\n",
        "2.The average daily sales for each product.\n",
        "\n",
        "3.The product with the highest sales.\n",
        "\n",
        "4.The product with the lowest sales.\n",
        "\n",
        "5.The total sales for all products combined.\n",
        "\n",
        "You are required to use NumPy for efficient data processing and calculations. Write code to solve this inventory management problem."
      ]
    },
    {
      "cell_type": "code",
      "execution_count": 5,
      "metadata": {
        "id": "DxtXsLXRVpdW",
        "colab": {
          "base_uri": "https://localhost:8080/"
        },
        "outputId": "7a3fc914-8daf-4fab-8327-f326c0b02067"
      },
      "outputs": [
        {
          "output_type": "execute_result",
          "data": {
            "text/plain": [
              "5"
            ]
          },
          "metadata": {},
          "execution_count": 5
        }
      ],
      "source": [
        "import numpy as np\n",
        "\n",
        "# Sample data (replace with your actual data)\n",
        "product_names = np.array(['Product A', 'Product B', 'Product C', 'Product D', 'Product E'])\n",
        "quantities_in_stock = np.array([100, 150, 200, 250, 50])\n",
        "\n",
        "daily_sales_data = np.array([[10, 15, 20, 25, 30, 35, 40],\n",
        "                             [5, 7, 8, 10, 12, 14, 16],\n",
        "                             [15, 20, 25, 30, 35, 40, 40],\n",
        "                             [12, 25, 20, 40, 20, 32, 55],\n",
        "                             [15, 20, 25, 30, 35, 40, 45]])\n",
        "\n",
        "\n",
        "\n",
        "\n",
        "\n",
        "# Calculate the total sales revenue for all products combined\n"
      ]
    },
    {
      "cell_type": "code",
      "source": [
        "# Calculate total sales revenue for each product over the past week\n",
        "p=np.sum(daily_sales_data, axis=(1))\n",
        "p"
      ],
      "metadata": {
        "colab": {
          "base_uri": "https://localhost:8080/"
        },
        "id": "iqmmew7fi132",
        "outputId": "d60bd7e4-5f9e-406f-e679-a58f20b86f3f"
      },
      "execution_count": 26,
      "outputs": [
        {
          "output_type": "execute_result",
          "data": {
            "text/plain": [
              "array([175,  72, 205, 204, 210])"
            ]
          },
          "metadata": {},
          "execution_count": 26
        }
      ]
    },
    {
      "cell_type": "code",
      "source": [
        "# Calculate average daily sales for each product\n",
        "d=np.mean(daily_sales_data, axis=(1))\n",
        "d"
      ],
      "metadata": {
        "colab": {
          "base_uri": "https://localhost:8080/"
        },
        "id": "_P7LxTsCi17s",
        "outputId": "a29aa041-3701-4d66-875e-cde36961d8bb"
      },
      "execution_count": 27,
      "outputs": [
        {
          "output_type": "execute_result",
          "data": {
            "text/plain": [
              "array([25.        , 10.28571429, 29.28571429, 29.14285714, 30.        ])"
            ]
          },
          "metadata": {},
          "execution_count": 27
        }
      ]
    },
    {
      "cell_type": "code",
      "source": [
        "# Find the product with the  lowest sales\n",
        "np.max(p)\n"
      ],
      "metadata": {
        "colab": {
          "base_uri": "https://localhost:8080/"
        },
        "id": "HY3sRIEQi19v",
        "outputId": "a0bdc445-d55d-49c4-fb37-26f0d788e25c"
      },
      "execution_count": 28,
      "outputs": [
        {
          "output_type": "execute_result",
          "data": {
            "text/plain": [
              "210"
            ]
          },
          "metadata": {},
          "execution_count": 28
        }
      ]
    },
    {
      "cell_type": "code",
      "source": [
        "# Find the product with the  lowest sales\n",
        "np.min(p)\n"
      ],
      "metadata": {
        "colab": {
          "base_uri": "https://localhost:8080/"
        },
        "id": "6U_7A41Pi2AL",
        "outputId": "062010be-c444-463a-efb5-e9f1085813ff"
      },
      "execution_count": 29,
      "outputs": [
        {
          "output_type": "execute_result",
          "data": {
            "text/plain": [
              "72"
            ]
          },
          "metadata": {},
          "execution_count": 29
        }
      ]
    },
    {
      "cell_type": "code",
      "source": [
        "np.sum(p)"
      ],
      "metadata": {
        "colab": {
          "base_uri": "https://localhost:8080/"
        },
        "id": "ZB8MYRnOjGnR",
        "outputId": "61a5b242-314a-4514-fa66-2d262376254c"
      },
      "execution_count": 30,
      "outputs": [
        {
          "output_type": "execute_result",
          "data": {
            "text/plain": [
              "866"
            ]
          },
          "metadata": {},
          "execution_count": 30
        }
      ]
    },
    {
      "cell_type": "code",
      "source": [],
      "metadata": {
        "id": "Vl4KZySXjGqt"
      },
      "execution_count": null,
      "outputs": []
    },
    {
      "cell_type": "markdown",
      "metadata": {
        "id": "ICk1qoQHVwDc"
      },
      "source": [
        "# Q.2\n",
        "**Statement:** Statement: You are working with a manufacturing plant that produces various components. They have provided you with data on the production rates of five different machines over the past month. Your task is to analyze the performance of these machines by calculating the following metrics:\n",
        "\n",
        "1.The total production output for each machine over the past month.\n",
        "\n",
        "2.The average daily production rate for each machine.\n",
        "\n",
        "3.The machine with the highest total production output.\n",
        "\n",
        "4.The machine with the lowest total production output.\n",
        "\n",
        "The overall production efficiency of the plant, which is defined as the ratio of the total production output to the total number of hours worked, and working hour for each day is 2 hours."
      ]
    },
    {
      "cell_type": "code",
      "execution_count": 36,
      "metadata": {
        "id": "lIu6pfmgbUQd",
        "colab": {
          "base_uri": "https://localhost:8080/"
        },
        "outputId": "ff6e755a-1a76-44c8-e95a-9a3e349e69cb"
      },
      "outputs": [
        {
          "output_type": "stream",
          "name": "stdout",
          "text": [
            "[[144 147 164 167 167 109 183 121 136 187 170 188 188 112 158 165 139 187\n",
            "  146 188 181 137 125 177 172 109 120 180 169 179]\n",
            " [147 164 182 199 188 149 129 119 119 114 139 132 165 109 157 132 131 174\n",
            "  123 135 175 155 128 134 100 100 136 153 105 138]\n",
            " [117 179 104 142 158 131 101 165 141 157 135 111 146 182 191 100 114 199\n",
            "  153 112 142 184 175 168 106 168 147 103 176 200]\n",
            " [152 178 115 120 199 158 123 179 113 185 148 149 169 141 135 164 195 169\n",
            "  194 100 150 136 134 148 193 103 198 142 177 121]\n",
            " [173 100 110 143 158 123 159 102 198 162 135 194 167 182 146 199 120 181\n",
            "  150 127 114 141 158 165 136 110 186 143 111 102]]\n",
            "[4715 4231 4407 4588 4395]\n",
            "[157.16666667 141.03333333 146.9        152.93333333 146.5       ]\n",
            "4715\n",
            "4231\n",
            "Overall Production Efficiency: 372.26666666666665\n"
          ]
        }
      ],
      "source": [
        "\n",
        "\n",
        "# Sample data (replace with your actual data)\n",
        "\n",
        "\n",
        "# Generate random production rates between 100 and 200 for 5 machines and 30 days\n",
        "np.random.seed(0)  # For reproducibility\n",
        "production_rates = np.random.randint(100, 201, size=(5, 30))\n",
        "print(production_rates)\n",
        "\n",
        "\n",
        "\n",
        "# Calculate total production output for each machine over the past month\n",
        "g=np.sum(production_rates, axis=1)\n",
        "print(g)\n",
        "\n",
        "# Calculate average daily production rate for each machine\n",
        "h=np.mean(production_rates, axis=1)\n",
        "print(h)\n",
        "\n",
        "# Find the machine with the highest and lowest total production output\n",
        "gg=np.max(g)\n",
        "print(gg)\n",
        "\n",
        "hh=np.min(g)\n",
        "print(hh)\n",
        "\n",
        "# Calculate the overall production efficiency of the plant\n",
        "overall_efficiency = np.sum(g) / (2 * 30)\n",
        "print(\"Overall Production Efficiency:\", overall_efficiency)"
      ]
    },
    {
      "cell_type": "code",
      "source": [],
      "metadata": {
        "id": "HSS_n1TwnQpv"
      },
      "execution_count": 34,
      "outputs": []
    },
    {
      "cell_type": "code",
      "source": [],
      "metadata": {
        "id": "cSojyYu-nQr3"
      },
      "execution_count": null,
      "outputs": []
    },
    {
      "cell_type": "code",
      "source": [],
      "metadata": {
        "id": "gNihDFBSnQvO"
      },
      "execution_count": null,
      "outputs": []
    },
    {
      "cell_type": "markdown",
      "metadata": {
        "id": "Ayc9TG-vff7A"
      },
      "source": [
        "# Q3:\n",
        "\n",
        "**Statment**\n",
        "You are working on a project that involves simulating sensor data for a network of 10 sensors over a period of 15 days. Each sensor collects data once per hour. Your task is to generate a NumPy array named sensor_data to represent this simulated sensor data and perform following statistical analysis on it.\n",
        "\n",
        "Populate the sensor_data array with random floating-point values between 0.0 and 100.0\n",
        "The generated values should represent sensor readings collected once per hour.\n",
        "\n",
        "After generating the sensor_data array, perform the following statistical **calculations:**\n",
        "\n",
        "1.Calculate the mean (average) sensor reading for each sensor over the 15 days.\n",
        "\n",
        "2.Calculate the standard deviation of sensor readings for each sensor.\n",
        "\n",
        "3.Calculate the maximum sensor reading for each sensor.\n",
        "\n",
        "4.Calculate the minimum sensor reading for each sensor.\n",
        "\n",
        "5.Calculate the overall mean sensor reading for all sensors and all days.\n",
        "\n",
        "6.Calculate the overall standard deviation of sensor readings for all sensors an"
      ]
    },
    {
      "cell_type": "code",
      "execution_count": 38,
      "metadata": {
        "id": "TWSK9GA1gfz0",
        "colab": {
          "base_uri": "https://localhost:8080/"
        },
        "outputId": "609d5dfb-43e7-4e00-861e-2b126a63c8df"
      },
      "outputs": [
        {
          "output_type": "stream",
          "name": "stdout",
          "text": [
            "[[95.01924682 99.44959314 37.44948995 ... 25.32614587 86.77099685\n",
            "  42.66083387]\n",
            " [26.78289392 69.28137627  5.1228404  ... 10.30687507 83.63946423\n",
            "  45.26384465]\n",
            " [12.43872666 15.59204842 61.1422736  ... 29.33689159  1.18136372\n",
            "   9.40238805]\n",
            " ...\n",
            " [29.42685428 78.36367417 64.19142502 ... 61.55111211 98.50488848\n",
            "  58.9100485 ]\n",
            " [65.23451546 28.84891659 32.5851408  ... 87.9364097  14.34079202\n",
            "   3.0643464 ]\n",
            " [ 6.09510945 52.21851641 21.52486712 ...  7.22857614 17.11346041\n",
            "  63.4156407 ]]\n"
          ]
        }
      ],
      "source": [
        "import numpy as np\n",
        "\n",
        "# Data Generation Requirements\n",
        "num_sensors = 10\n",
        "num_days = 15\n",
        "hours_per_day = 24\n",
        "shape = (num_sensors, num_days * hours_per_day)\n",
        "\n",
        "# Generate Random Sensor Data\n",
        "sensor_data = np.random.uniform(0.0, 100.0, size=shape)\n",
        "print(sensor_data)"
      ]
    },
    {
      "cell_type": "code",
      "source": [
        "# 1.Calculate the mean (average) sensor reading for each sensor over the 15 days.\n",
        "m=np.mean(sensor_data, axis=1)\n",
        "print(m)"
      ],
      "metadata": {
        "colab": {
          "base_uri": "https://localhost:8080/"
        },
        "id": "NqS8d8KapXRA",
        "outputId": "2ee24c1d-c916-40c0-b6bb-68bb6e182247"
      },
      "execution_count": 58,
      "outputs": [
        {
          "output_type": "stream",
          "name": "stdout",
          "text": [
            "[45.89592308 49.87681132 48.21629908 48.37938626 49.92153865 50.50818297\n",
            " 47.57671533 50.2496202  49.04699643 48.32466256]\n"
          ]
        }
      ]
    },
    {
      "cell_type": "code",
      "source": [
        "#2.Calculate the standard deviation of sensor readings for each sensor.\n",
        "s=np.std(sensor_data, axis=1)\n",
        "print(s)"
      ],
      "metadata": {
        "colab": {
          "base_uri": "https://localhost:8080/"
        },
        "id": "KKfGHbC3pXVH",
        "outputId": "6afb41ee-10d2-4732-e130-b4c49332400c"
      },
      "execution_count": 39,
      "outputs": [
        {
          "output_type": "stream",
          "name": "stdout",
          "text": [
            "[28.08663934 27.86345581 27.92698046 28.182531   28.97575648 29.6485831\n",
            " 28.97370483 27.36613827 29.69521552 28.88951207]\n"
          ]
        }
      ]
    },
    {
      "cell_type": "code",
      "source": [
        "#3.Calculate the maximum sensor reading for each sensor.\n",
        "f=np.max(sensor_data)\n",
        "print(f)"
      ],
      "metadata": {
        "colab": {
          "base_uri": "https://localhost:8080/"
        },
        "id": "9RYxFzUfpXXm",
        "outputId": "540d0bbc-03a5-4e05-f604-879c571da1f8"
      },
      "execution_count": 40,
      "outputs": [
        {
          "output_type": "stream",
          "name": "stdout",
          "text": [
            "99.99566127577249\n"
          ]
        }
      ]
    },
    {
      "cell_type": "code",
      "source": [
        "# 4.Calculate the minimum sensor reading for each sensor.\n",
        "k=np.min(sensor_data)\n",
        "print(k)"
      ],
      "metadata": {
        "colab": {
          "base_uri": "https://localhost:8080/"
        },
        "id": "v2eRgixlpXnO",
        "outputId": "075070ea-4842-46e8-cf44-de0b44fc7ed2"
      },
      "execution_count": 42,
      "outputs": [
        {
          "output_type": "stream",
          "name": "stdout",
          "text": [
            "0.0072449638492178\n"
          ]
        }
      ]
    },
    {
      "cell_type": "code",
      "source": [
        "#5.Calculate the overall mean sensor reading for all sensors and all days.\n",
        "v=np.mean(sensor_data)\n",
        "print(v)"
      ],
      "metadata": {
        "colab": {
          "base_uri": "https://localhost:8080/"
        },
        "id": "rfoJknsiraVx",
        "outputId": "f94c305e-07b0-4ab3-ccf5-517723ef979e"
      },
      "execution_count": 43,
      "outputs": [
        {
          "output_type": "stream",
          "name": "stdout",
          "text": [
            "48.79961358894359\n"
          ]
        }
      ]
    },
    {
      "cell_type": "code",
      "source": [
        "#6.Calculate the overall standard deviation of sensor readings for all sensors an\n",
        "sn=np.std(sensor_data)\n",
        "print(sn)"
      ],
      "metadata": {
        "colab": {
          "base_uri": "https://localhost:8080/"
        },
        "id": "K6F-kvW5raX3",
        "outputId": "21b74548-807f-4248-e2c1-ceb3ec14b8b2"
      },
      "execution_count": 46,
      "outputs": [
        {
          "output_type": "stream",
          "name": "stdout",
          "text": [
            "28.602443710619628\n"
          ]
        }
      ]
    },
    {
      "cell_type": "code",
      "source": [],
      "metadata": {
        "id": "8JszuQzVraZs"
      },
      "execution_count": null,
      "outputs": []
    },
    {
      "cell_type": "code",
      "source": [],
      "metadata": {
        "id": "y-Elb-5gradJ"
      },
      "execution_count": null,
      "outputs": []
    },
    {
      "cell_type": "markdown",
      "metadata": {
        "id": "IShr0NSyhcEc"
      },
      "source": [
        "# Q4:\n",
        "\n",
        "**Statement**: You are tasked with analyzing the exam scores of 30 students in a class over a period of 10 exams. The exam scores are represented as a NumPy, where each row corresponds to a different student, and each column represents their score in a specific exam.\n",
        "\n",
        "Populate the exam_scores array with random integer values between 50 and 100 to simulate students' exam performance.\n",
        "\n",
        "After generating the exam_scores array, perform the following tasks:\n",
        "\n",
        "1.Calculate the average score for each student over the 10 exams.\n",
        "\n",
        "2.Calculate the standard deviation of scores for each student.\n",
        "\n",
        "3.Identify students who have consistently performed well, defined as those whose average score is above 85.\n",
        "\n",
        "4.Identify students who may need additional support, defined as those whose average score is below 50.\n",
        "\n",
        "Write code to create and populate the exam_scores array and then perform the specified statistical analysis and performance evaluation tasks on the data.\n",
        "\n",
        "\n",
        "\n"
      ]
    },
    {
      "cell_type": "code",
      "execution_count": 57,
      "metadata": {
        "id": "F3p_SMeoiT2o",
        "colab": {
          "base_uri": "https://localhost:8080/"
        },
        "outputId": "43754f07-acce-4344-b665-c924ca8216a1"
      },
      "outputs": [
        {
          "output_type": "stream",
          "name": "stdout",
          "text": [
            "[[73 83 70 57 76 72 57 97 84 96]\n",
            " [97 96 62 69 69 94 94 72 52 64]\n",
            " [54 64 80 80 71 66 68 82 99 67]\n",
            " [60 59 80 54 94 83 83 65 52 90]\n",
            " [66 63 71 61 67 97 88 87 60 91]\n",
            " [52 73 56 70 70 88 55 99 55 66]\n",
            " [62 72 65 89 54 89 67 98 81 76]\n",
            " [79 61 88 51 79 96 93 98 88 53]\n",
            " [67 67 54 68 67 84 53 79 99 99]\n",
            " [69 96 68 89 60 79 58 90 74 84]\n",
            " [96 71 96 55 54 86 89 71 86 96]\n",
            " [62 63 53 95 90 85 91 89 80 92]\n",
            " [67 77 53 76 61 92 61 69 71 53]\n",
            " [86 71 91 99 94 89 76 95 79 67]\n",
            " [63 51 71 61 70 59 61 57 78 65]\n",
            " [87 77 71 75 74 88 59 59 83 62]\n",
            " [51 78 89 95 86 78 85 93 53 78]\n",
            " [59 85 56 65 73 67 88 75 56 67]\n",
            " [89 71 61 75 90 57 94 77 95 60]\n",
            " [91 62 76 60 86 87 82 55 59 76]\n",
            " [93 88 74 54 60 80 75 97 82 77]\n",
            " [75 77 52 64 93 51 51 58 89 77]\n",
            " [58 71 51 54 67 53 80 94 73 66]\n",
            " [75 77 65 74 51 60 59 95 59 51]\n",
            " [60 91 92 79 68 62 50 79 52 55]\n",
            " [66 64 60 54 56 94 73 71 54 90]\n",
            " [51 65 63 93 91 98 80 90 85 63]\n",
            " [77 89 62 91 56 90 67 87 52 92]\n",
            " [53 94 92 62 74 96 63 53 91 68]\n",
            " [71 89 87 77 63 73 64 67 74 84]]\n",
            "[76.5 76.9 73.1 72.  75.1 68.4 75.3 78.6 73.7 76.7 80.  80.  68.  84.7\n",
            " 63.6 73.5 78.6 69.1 76.9 73.4 78.  68.7 66.7 66.6 68.8 68.2 77.9 76.3\n",
            " 74.6 74.9]\n",
            "[13.17004176 15.84581964 11.87813117 14.83239697 13.337541   14.60958589\n",
            " 13.191285   16.70449041 15.48579995 12.3697211  15.44020725 14.27585374\n",
            " 11.3137085  10.32521186  7.36478106 10.27861858 14.48585517 10.63437821\n",
            " 13.82353066 12.63487238 12.77497554 14.9067099  12.85340422 12.9938447\n",
            " 14.79729705 13.4669967  15.29346266 14.9        16.3597066   8.80284045]\n",
            "[76.5 76.9 73.1 72.  75.1 68.4 75.3 78.6 73.7 76.7 80.  80.  68.  84.7\n",
            " 63.6 73.5 78.6 69.1 76.9 73.4 78.  68.7 66.7 66.6 68.8 68.2 77.9 76.3\n",
            " 74.6 74.9]\n",
            "[False False False False False False False False False False False False\n",
            " False False False False False False False False False False False False\n",
            " False False False False False False]\n"
          ]
        }
      ],
      "source": [
        "import numpy as np\n",
        "\n",
        "# Create the exam_scores array (30 students, 10 exams)\n",
        "num_students = 30\n",
        "num_exams = 10\n",
        "\n",
        "# Populate the exam_scores array with random scores between 50 and 100\n",
        "exam=np.random.randint(50,100,(num_students,num_exams))\n",
        "print(exam)\n",
        "\n",
        "# 1. Calculate the average score for each student over the 10 exams\n",
        "k=np.mean(exam,axis=1)\n",
        "print(k)\n",
        "\n",
        "\n",
        "\n",
        "# 2. Calculate the standard deviation of scores for each student\n",
        "mn=np.std(exam,axis=1)\n",
        "print(mn)\n",
        "\n",
        "\n",
        "# 3. Identify students who have consistently performed well (average score > 85)\n",
        "avgg=(k>85)\n",
        "print(k)\n",
        "\n",
        "\n",
        "\n",
        "\n",
        "\n",
        "# 4. Identify students who may need additional support (average score < 60)\n",
        "\n",
        "avg=(k<60)\n",
        "print(avg)"
      ]
    },
    {
      "cell_type": "code",
      "source": [],
      "metadata": {
        "id": "V_oPiiygyqYw"
      },
      "execution_count": null,
      "outputs": []
    }
  ],
  "metadata": {
    "colab": {
      "provenance": []
    },
    "kernelspec": {
      "display_name": "Python 3 (ipykernel)",
      "language": "python",
      "name": "python3"
    },
    "language_info": {
      "codemirror_mode": {
        "name": "ipython",
        "version": 3
      },
      "file_extension": ".py",
      "mimetype": "text/x-python",
      "name": "python",
      "nbconvert_exporter": "python",
      "pygments_lexer": "ipython3",
      "version": "3.11.7"
    }
  },
  "nbformat": 4,
  "nbformat_minor": 0
}