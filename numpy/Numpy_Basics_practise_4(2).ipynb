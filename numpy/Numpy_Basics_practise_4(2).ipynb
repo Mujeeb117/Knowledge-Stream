{
 "cells": [
  {
   "cell_type": "code",
   "execution_count": 1,
   "metadata": {
    "id": "qQxFQvrEEKqm"
   },
   "outputs": [],
   "source": [
    "import numpy as np\n"
   ]
  },
  {
   "cell_type": "code",
   "execution_count": 1,
   "metadata": {
    "id": "QSdiaIhig6n_"
   },
   "outputs": [],
   "source": []
  },
  {
   "cell_type": "code",
   "execution_count": 2,
   "metadata": {
    "colab": {
     "base_uri": "https://localhost:8080/"
    },
    "id": "n_ncJAFDEbs1",
    "outputId": "8708a1ec-6034-4bda-e329-4d221419d205"
   },
   "outputs": [
    {
     "name": "stdout",
     "output_type": "stream",
     "text": [
      "Mounted at /content/drive\n"
     ]
    }
   ],
   "source": [
    "from google.colab import drive\n",
    "drive.mount('/content/drive')"
   ]
  },
  {
   "cell_type": "code",
   "execution_count": null,
   "metadata": {
    "id": "n5Y4PVE7nOsJ"
   },
   "outputs": [],
   "source": []
  },
  {
   "cell_type": "markdown",
   "metadata": {
    "id": "5dL78wl-ElhS"
   },
   "source": [
    "# Q.1\n",
    "**Statement:** You are working with a retail store that needs to manage its inventory efficiently. They have provided you with a dataset containing information about products, their quantities in stock, and the number of units sold daily for the past week. Total number of products are 5. Your task is to calculate the following:\n",
    "\n",
    "\n",
    "\n",
    "1.The total sales for each product over the past week.\n",
    "\n",
    "2.The average daily sales for each product.\n",
    "\n",
    "3.The product with the highest sales.\n",
    "\n",
    "4.The product with the lowest sales.\n",
    "\n",
    "5.The total sales for all products combined.\n",
    "\n",
    "You are required to use NumPy for efficient data processing and calculations. Write code to solve this inventory management problem."
   ]
  },
  {
   "cell_type": "code",
   "execution_count": 65,
   "metadata": {
    "id": "DxtXsLXRVpdW"
   },
   "outputs": [],
   "source": [
    "import numpy as np\n",
    "\n",
    "# Sample data (replace with your actual data)\n",
    "product_names = np.array(['Product A', 'Product B', 'Product C', 'Product D', 'Product E'])\n",
    "quantities_in_stock = np.array([100, 150, 200, 250, 50])\n",
    "\n",
    "daily_sales_data = np.array([[10, 15, 20, 25, 30, 35, 40],\n",
    "                             [5, 7, 8, 10, 12, 14, 16],\n",
    "                             [15, 20, 25, 30, 35, 40, 40],\n",
    "                             [12, 25, 20, 40, 20, 32, 55],\n",
    "                             [15, 20, 25, 30, 35, 40, 45]])\n",
    "\n",
    "\n",
    "\n",
    "# Calculate the total sales revenue for all products combined\n"
   ]
  },
  {
   "cell_type": "code",
   "execution_count": 66,
   "metadata": {
    "colab": {
     "base_uri": "https://localhost:8080/"
    },
    "id": "iqmmew7fi132",
    "outputId": "0d0ade89-6255-4fc0-852d-4bd8400db5b8"
   },
   "outputs": [
    {
     "data": {
      "text/plain": [
       "array([175,  72, 205, 204, 210])"
      ]
     },
     "execution_count": 66,
     "metadata": {},
     "output_type": "execute_result"
    }
   ],
   "source": [
    "# Calculate total sales revenue for each product over the past week\n",
    "p=np.sum(daily_sales_data, axis=(1))\n",
    "p"
   ]
  },
  {
   "cell_type": "code",
   "execution_count": 67,
   "metadata": {
    "colab": {
     "base_uri": "https://localhost:8080/"
    },
    "id": "_P7LxTsCi17s",
    "outputId": "44d1d4e2-b9ba-4dd2-8b3e-8821ea4e0807"
   },
   "outputs": [
    {
     "data": {
      "text/plain": [
       "array([25.        , 10.28571429, 29.28571429, 29.14285714, 30.        ])"
      ]
     },
     "execution_count": 67,
     "metadata": {},
     "output_type": "execute_result"
    }
   ],
   "source": [
    "# Calculate average daily sales for each product\n",
    "d=np.mean(daily_sales_data, axis=(1))\n",
    "d"
   ]
  },
  {
   "cell_type": "code",
   "execution_count": 68,
   "metadata": {
    "colab": {
     "base_uri": "https://localhost:8080/"
    },
    "id": "HY3sRIEQi19v",
    "outputId": "5c3316d6-dbd2-4378-9cc7-f7f0687f0beb"
   },
   "outputs": [
    {
     "data": {
      "text/plain": [
       "210"
      ]
     },
     "execution_count": 68,
     "metadata": {},
     "output_type": "execute_result"
    }
   ],
   "source": [
    "# Find the product with the  lowest sales\n",
    "np.max(p)\n"
   ]
  },
  {
   "cell_type": "code",
   "execution_count": 69,
   "metadata": {
    "colab": {
     "base_uri": "https://localhost:8080/"
    },
    "id": "6U_7A41Pi2AL",
    "outputId": "88af3071-380f-427b-ad43-0237824fc3de"
   },
   "outputs": [
    {
     "data": {
      "text/plain": [
       "72"
      ]
     },
     "execution_count": 69,
     "metadata": {},
     "output_type": "execute_result"
    }
   ],
   "source": [
    "# Find the product with the  lowest sales\n",
    "np.min(p)\n"
   ]
  },
  {
   "cell_type": "code",
   "execution_count": 70,
   "metadata": {
    "colab": {
     "base_uri": "https://localhost:8080/"
    },
    "id": "ZB8MYRnOjGnR",
    "outputId": "9663bb3c-9e06-4841-c79c-75016fe93a1c"
   },
   "outputs": [
    {
     "data": {
      "text/plain": [
       "866"
      ]
     },
     "execution_count": 70,
     "metadata": {},
     "output_type": "execute_result"
    }
   ],
   "source": [
    "np.sum(p)"
   ]
  },
  {
   "cell_type": "code",
   "execution_count": 70,
   "metadata": {
    "id": "Vl4KZySXjGqt"
   },
   "outputs": [],
   "source": []
  },
  {
   "cell_type": "markdown",
   "metadata": {
    "id": "ICk1qoQHVwDc"
   },
   "source": [
    "# Q.2\n",
    "**Statement:** Statement: You are working with a manufacturing plant that produces various components. They have provided you with data on the production rates of five different machines over the past month. Your task is to analyze the performance of these machines by calculating the following metrics:\n",
    "\n",
    "1.The total production output for each machine over the past month.\n",
    "\n",
    "2.The average daily production rate for each machine.\n",
    "\n",
    "3.The machine with the highest total production output.\n",
    "\n",
    "4.The machine with the lowest total production output.\n",
    "\n",
    "The overall production efficiency of the plant, which is defined as the ratio of the total production output to the total number of hours worked, and working hour for each day is 2 hours."
   ]
  },
  {
   "cell_type": "code",
   "execution_count": 75,
   "metadata": {
    "colab": {
     "base_uri": "https://localhost:8080/"
    },
    "id": "lIu6pfmgbUQd",
    "outputId": "793cfc47-5ec4-4fa2-c453-8b44dd4ae5ae"
   },
   "outputs": [
    {
     "name": "stdout",
     "output_type": "stream",
     "text": [
      "[[144 147 164 167 167 109 183 121 136 187 170 188 188 112 158 165 139 187\n",
      "  146 188 181 137 125 177 172 109 120 180 169 179]\n",
      " [147 164 182 199 188 149 129 119 119 114 139 132 165 109 157 132 131 174\n",
      "  123 135 175 155 128 134 100 100 136 153 105 138]\n",
      " [117 179 104 142 158 131 101 165 141 157 135 111 146 182 191 100 114 199\n",
      "  153 112 142 184 175 168 106 168 147 103 176 200]\n",
      " [152 178 115 120 199 158 123 179 113 185 148 149 169 141 135 164 195 169\n",
      "  194 100 150 136 134 148 193 103 198 142 177 121]\n",
      " [173 100 110 143 158 123 159 102 198 162 135 194 167 182 146 199 120 181\n",
      "  150 127 114 141 158 165 136 110 186 143 111 102]]\n",
      "---------------------------------------------------\n",
      "total production: [4715 4231 4407 4588 4395]\n",
      "---------------------------------------------\n",
      "average daily production: [157.16666667 141.03333333 146.9        152.93333333 146.5       ]\n",
      "---------------------------------------------\n",
      "machine with the highest total production: 4715\n",
      "machine with the lowest total production : 4231\n",
      "-----------------------------------------\n",
      "Overall Production Efficiency: 372.26666666666665\n"
     ]
    }
   ],
   "source": [
    "\n",
    "\n",
    "# Sample data (replace with your actual data)\n",
    "\n",
    "\n",
    "# Generate random production rates between 100 and 200 for 5 machines and 30 days\n",
    " # For reproducibility\n",
    "production_rates = np.random.randint(100, 201, size=(5, 30))\n",
    "print(production_rates)\n",
    "\n",
    "\n",
    "\n",
    "print('---------------------------------------------------')\n",
    "\n",
    "# Calculate total production output for each machine over the past month\n",
    "g=np.sum(production_rates, axis=1)\n",
    "print(\"total production:\", g)\n",
    "\n",
    "print(  \"---------------------------------------------\")\n",
    "\n",
    "# Calculate average daily production rate for each machine\n",
    "h=np.mean(production_rates, axis=1)\n",
    "print(\"average daily production:\",h)\n",
    "\n",
    "print('---------------------------------------------')\n",
    "\n",
    "\n",
    "# Find the machine with the highest and lowest total production output\n",
    "gg=np.max(g)\n",
    "print(\"machine with the highest total production:\",  gg)\n",
    "\n",
    "hh=np.min(g)\n",
    "print(\"machine with the lowest total production :\" ,hh)\n",
    "\n",
    "\n",
    "print('-----------------------------------------')\n",
    "\n",
    "# Calculate the overall production efficiency of the plant\n",
    "overall_efficiency = np.sum(g) / (2 * 30)\n",
    "print(\"Overall Production Efficiency:\", overall_efficiency)"
   ]
  },
  {
   "cell_type": "markdown",
   "metadata": {
    "id": "Ayc9TG-vff7A"
   },
   "source": [
    "# Q3:\n",
    "\n",
    "**Statment**\n",
    "You are working on a project that involves simulating sensor data for a network of 10 sensors over a period of 15 days. Each sensor collects data once per hour. Your task is to generate a NumPy array named sensor_data to represent this simulated sensor data and perform following statistical analysis on it.\n",
    "\n",
    "Populate the sensor_data array with random floating-point values between 0.0 and 100.0\n",
    "The generated values should represent sensor readings collected once per hour.\n",
    "\n",
    "After generating the sensor_data array, perform the following statistical **calculations:**\n",
    "\n",
    "1.Calculate the mean (average) sensor reading for each sensor over the 15 days.\n",
    "\n",
    "2.Calculate the standard deviation of sensor readings for each sensor.\n",
    "\n",
    "3.Calculate the maximum sensor reading for each sensor.\n",
    "\n",
    "4.Calculate the minimum sensor reading for each sensor.\n",
    "\n",
    "5.Calculate the overall mean sensor reading for all sensors and all days.\n",
    "\n",
    "6.Calculate the overall standard deviation of sensor readings for all sensors an"
   ]
  },
  {
   "cell_type": "code",
   "execution_count": 38,
   "metadata": {
    "colab": {
     "base_uri": "https://localhost:8080/"
    },
    "id": "TWSK9GA1gfz0",
    "outputId": "609d5dfb-43e7-4e00-861e-2b126a63c8df"
   },
   "outputs": [
    {
     "name": "stdout",
     "output_type": "stream",
     "text": [
      "[[95.01924682 99.44959314 37.44948995 ... 25.32614587 86.77099685\n",
      "  42.66083387]\n",
      " [26.78289392 69.28137627  5.1228404  ... 10.30687507 83.63946423\n",
      "  45.26384465]\n",
      " [12.43872666 15.59204842 61.1422736  ... 29.33689159  1.18136372\n",
      "   9.40238805]\n",
      " ...\n",
      " [29.42685428 78.36367417 64.19142502 ... 61.55111211 98.50488848\n",
      "  58.9100485 ]\n",
      " [65.23451546 28.84891659 32.5851408  ... 87.9364097  14.34079202\n",
      "   3.0643464 ]\n",
      " [ 6.09510945 52.21851641 21.52486712 ...  7.22857614 17.11346041\n",
      "  63.4156407 ]]\n"
     ]
    }
   ],
   "source": [
    "import numpy as np\n",
    "\n",
    "# Data Generation Requirements\n",
    "num_sensors = 10\n",
    "num_days = 15\n",
    "hours_per_day = 24\n",
    "shape = (num_sensors, num_days * hours_per_day)\n",
    "\n",
    "# Generate Random Sensor Data\n",
    "sensor_data = np.random.uniform(0.0, 100.0, size=shape)\n",
    "print(sensor_data)"
   ]
  },
  {
   "cell_type": "code",
   "execution_count": 58,
   "metadata": {
    "colab": {
     "base_uri": "https://localhost:8080/"
    },
    "id": "NqS8d8KapXRA",
    "outputId": "2ee24c1d-c916-40c0-b6bb-68bb6e182247"
   },
   "outputs": [
    {
     "name": "stdout",
     "output_type": "stream",
     "text": [
      "[45.89592308 49.87681132 48.21629908 48.37938626 49.92153865 50.50818297\n",
      " 47.57671533 50.2496202  49.04699643 48.32466256]\n"
     ]
    }
   ],
   "source": [
    "# 1.Calculate the mean (average) sensor reading for each sensor over the 15 days.\n",
    "m=np.mean(sensor_data, axis=1)\n",
    "print(m)"
   ]
  },
  {
   "cell_type": "code",
   "execution_count": 39,
   "metadata": {
    "colab": {
     "base_uri": "https://localhost:8080/"
    },
    "id": "KKfGHbC3pXVH",
    "outputId": "6afb41ee-10d2-4732-e130-b4c49332400c"
   },
   "outputs": [
    {
     "name": "stdout",
     "output_type": "stream",
     "text": [
      "[28.08663934 27.86345581 27.92698046 28.182531   28.97575648 29.6485831\n",
      " 28.97370483 27.36613827 29.69521552 28.88951207]\n"
     ]
    }
   ],
   "source": [
    "#2.Calculate the standard deviation of sensor readings for each sensor.\n",
    "s=np.std(sensor_data, axis=1)\n",
    "print(s)"
   ]
  },
  {
   "cell_type": "code",
   "execution_count": 40,
   "metadata": {
    "colab": {
     "base_uri": "https://localhost:8080/"
    },
    "id": "9RYxFzUfpXXm",
    "outputId": "540d0bbc-03a5-4e05-f604-879c571da1f8"
   },
   "outputs": [
    {
     "name": "stdout",
     "output_type": "stream",
     "text": [
      "99.99566127577249\n"
     ]
    }
   ],
   "source": [
    "#3.Calculate the maximum sensor reading for each sensor.\n",
    "f=np.max(sensor_data)\n",
    "print(f)"
   ]
  },
  {
   "cell_type": "code",
   "execution_count": 42,
   "metadata": {
    "colab": {
     "base_uri": "https://localhost:8080/"
    },
    "id": "v2eRgixlpXnO",
    "outputId": "075070ea-4842-46e8-cf44-de0b44fc7ed2"
   },
   "outputs": [
    {
     "name": "stdout",
     "output_type": "stream",
     "text": [
      "0.0072449638492178\n"
     ]
    }
   ],
   "source": [
    "# 4.Calculate the minimum sensor reading for each sensor.\n",
    "k=np.min(sensor_data)\n",
    "print(k)"
   ]
  },
  {
   "cell_type": "code",
   "execution_count": 43,
   "metadata": {
    "colab": {
     "base_uri": "https://localhost:8080/"
    },
    "id": "rfoJknsiraVx",
    "outputId": "f94c305e-07b0-4ab3-ccf5-517723ef979e"
   },
   "outputs": [
    {
     "name": "stdout",
     "output_type": "stream",
     "text": [
      "48.79961358894359\n"
     ]
    }
   ],
   "source": [
    "#5.Calculate the overall mean sensor reading for all sensors and all days.\n",
    "v=np.mean(sensor_data)\n",
    "print(v)"
   ]
  },
  {
   "cell_type": "code",
   "execution_count": 46,
   "metadata": {
    "colab": {
     "base_uri": "https://localhost:8080/"
    },
    "id": "K6F-kvW5raX3",
    "outputId": "21b74548-807f-4248-e2c1-ceb3ec14b8b2"
   },
   "outputs": [
    {
     "name": "stdout",
     "output_type": "stream",
     "text": [
      "28.602443710619628\n"
     ]
    }
   ],
   "source": [
    "#6.Calculate the overall standard deviation of sensor readings for all sensors an\n",
    "sn=np.std(sensor_data)\n",
    "print(sn)"
   ]
  },
  {
   "cell_type": "markdown",
   "metadata": {
    "id": "IShr0NSyhcEc"
   },
   "source": [
    "# Q4:\n",
    "\n",
    "**Statement**: You are tasked with analyzing the exam scores of 30 students in a class over a period of 10 exams. The exam scores are represented as a NumPy, where each row corresponds to a different student, and each column represents their score in a specific exam.\n",
    "\n",
    "Populate the exam_scores array with random integer values between 50 and 100 to simulate students' exam performance.\n",
    "\n",
    "After generating the exam_scores array, perform the following tasks:\n",
    "\n",
    "1.Calculate the average score for each student over the 10 exams.\n",
    "\n",
    "2.Calculate the standard deviation of scores for each student.\n",
    "\n",
    "3.Identify students who have consistently performed well, defined as those whose average score is above 85.\n",
    "\n",
    "4.Identify students who may need additional support, defined as those whose average score is below 50.\n",
    "\n",
    "Write code to create and populate the exam_scores array and then perform the specified statistical analysis and performance evaluation tasks on the data.\n",
    "\n",
    "\n",
    "\n"
   ]
  },
  {
   "cell_type": "code",
   "execution_count": 78,
   "metadata": {
    "colab": {
     "base_uri": "https://localhost:8080/"
    },
    "id": "F3p_SMeoiT2o",
    "outputId": "0cce8c15-4a42-42d3-ed2c-fcb555e81f8c"
   },
   "outputs": [
    {
     "name": "stdout",
     "output_type": "stream",
     "text": [
      "[[60 70 92 51 70 66 92 78 76 73]\n",
      " [98 52 88 59 52 94 91 75 86 76]\n",
      " [54 91 60 62 90 83 87 89 82 83]\n",
      " [76 85 75 74 68 70 80 78 58 68]\n",
      " [75 74 89 92 78 74 68 53 94 69]\n",
      " [95 50 60 53 56 77 85 56 69 84]\n",
      " [88 70 93 50 86 95 91 52 83 62]\n",
      " [65 83 73 62 55 88 51 60 56 56]\n",
      " [88 88 61 71 52 62 79 59 58 55]\n",
      " [93 51 93 65 62 97 62 71 68 75]\n",
      " [63 80 78 94 91 71 56 86 98 90]\n",
      " [76 80 55 65 87 87 99 81 82 98]\n",
      " [66 82 60 62 79 50 79 76 89 72]\n",
      " [69 55 86 69 86 55 78 62 76 99]\n",
      " [69 62 88 57 66 79 50 73 65 60]\n",
      " [53 53 66 98 59 70 87 98 67 59]\n",
      " [94 65 88 64 83 54 66 86 57 73]\n",
      " [77 96 57 72 84 80 66 77 97 97]\n",
      " [61 73 64 89 80 76 84 67 85 57]\n",
      " [95 98 87 54 63 87 69 93 58 82]\n",
      " [67 55 86 51 79 55 66 88 90 72]\n",
      " [80 69 54 70 92 60 53 72 87 79]\n",
      " [91 90 67 90 92 80 79 83 80 96]\n",
      " [87 74 66 85 89 79 51 73 58 50]\n",
      " [73 87 97 76 75 75 56 74 65 87]\n",
      " [91 67 66 98 93 96 55 69 97 72]\n",
      " [95 61 61 83 57 76 98 57 97 82]\n",
      " [86 68 73 71 52 58 60 55 88 88]\n",
      " [86 51 86 55 55 88 85 74 99 65]\n",
      " [70 59 54 99 74 80 52 69 53 63]]\n",
      "[72.8 77.1 78.1 73.2 76.6 68.5 77.  64.9 67.3 73.7 80.7 81.  71.5 73.5\n",
      " 66.9 71.  73.  80.3 73.6 78.6 70.9 71.6 84.8 71.2 76.5 80.4 76.7 69.9\n",
      " 74.4 67.3]\n",
      "[12.14742771 16.45265936 13.1791502   7.18052923 11.83384975 15.01499251\n",
      " 16.25423022 11.86970935 12.71259218 14.81249473 13.12288078 12.82185634\n",
      " 11.24499889 13.58859816 10.45418576 16.40731544 13.21362933 12.86895489\n",
      " 10.4517941  15.3961034  13.75827024 12.56343902  8.18290902 13.7389956\n",
      " 11.02950588 15.27219696 15.93141551 13.08013761 16.00124995 13.87119317]\n",
      "Students who have consistently performed well (average score > 85):\n",
      "Indices: []\n",
      "\n",
      "Students who may need additional support (average score < 60):\n",
      "Indices: []\n"
     ]
    }
   ],
   "source": [
    "import numpy as np\n",
    "\n",
    "# Create the exam_scores array (30 students, 10 exams)\n",
    "num_students = 30\n",
    "num_exams = 10\n",
    "\n",
    "# Populate the exam_scores array with random scores between 50 and 100\n",
    "exam=np.random.randint(50,100,(num_students,num_exams))\n",
    "print(exam)\n",
    "\n",
    "# 1. Calculate the average score for each student over the 10 exams\n",
    "k=np.mean(exam,axis=1)\n",
    "print(k)\n",
    "\n",
    "\n",
    "\n",
    "# 2. Calculate the standard deviation of scores for each student\n",
    "mn=np.std(exam,axis=1)\n",
    "print(mn)\n",
    "\n",
    "\n",
    "# 3. Identify students who have consistently performed well (average score > 85)\n",
    "\n",
    "performing_well_indices = np.where(k > 85)[0]\n",
    "print(\"Students who have consistently performed well (average score > 85):\")\n",
    "print(f\"Indices: {performing_well_indices.tolist()}\")\n",
    "\n",
    "\n",
    "\n",
    "\n",
    "# 4. Identify students who may need additional support (average score < 60)\n",
    "need_support_indices = np.where(k < 60)[0]\n",
    "\n",
    "print(\"\\nStudents who may need additional support (average score < 60):\")\n",
    "print(f\"Indices: {need_support_indices.tolist()}\")"
   ]
  },
  {
   "cell_type": "code",
   "execution_count": null,
   "metadata": {
    "id": "V_oPiiygyqYw"
   },
   "outputs": [],
   "source": []
  }
 ],
 "metadata": {
  "colab": {
   "provenance": []
  },
  "kernelspec": {
   "display_name": "Python 3 (ipykernel)",
   "language": "python",
   "name": "python3"
  },
  "language_info": {
   "codemirror_mode": {
    "name": "ipython",
    "version": 3
   },
   "file_extension": ".py",
   "mimetype": "text/x-python",
   "name": "python",
   "nbconvert_exporter": "python",
   "pygments_lexer": "ipython3",
   "version": "3.11.7"
  }
 },
 "nbformat": 4,
 "nbformat_minor": 4
}
