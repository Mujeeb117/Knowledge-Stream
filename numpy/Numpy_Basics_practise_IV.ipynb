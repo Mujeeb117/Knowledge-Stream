{
 "cells": [
  {
   "cell_type": "code",
   "execution_count": 1,
   "metadata": {
    "id": "qQxFQvrEEKqm"
   },
   "outputs": [],
   "source": [
    "import numpy as np\n"
   ]
  },
  {
   "cell_type": "code",
   "execution_count": 5,
   "metadata": {},
   "outputs": [
    {
     "name": "stdout",
     "output_type": "stream",
     "text": [
      "Requirement already satisfied: PyDrive in e:\\anaconda\\install\\lib\\site-packages (1.3.1)Note: you may need to restart the kernel to use updated packages.\n"
     ]
    },
    {
     "name": "stderr",
     "output_type": "stream",
     "text": [
      "\n",
      "[notice] A new release of pip is available: 23.0.1 -> 24.1.2\n",
      "[notice] To update, run: python.exe -m pip install --upgrade pip\n"
     ]
    },
    {
     "name": "stdout",
     "output_type": "stream",
     "text": [
      "\n",
      "Requirement already satisfied: google-api-python-client>=1.2 in e:\\anaconda\\install\\lib\\site-packages (from PyDrive) (2.137.0)\n",
      "Requirement already satisfied: oauth2client>=4.0.0 in e:\\anaconda\\install\\lib\\site-packages (from PyDrive) (4.1.3)\n",
      "Requirement already satisfied: PyYAML>=3.0 in e:\\anaconda\\install\\lib\\site-packages (from PyDrive) (6.0.1)\n",
      "Requirement already satisfied: httplib2<1.dev0,>=0.19.0 in e:\\anaconda\\install\\lib\\site-packages (from google-api-python-client>=1.2->PyDrive) (0.22.0)\n",
      "Requirement already satisfied: google-auth!=2.24.0,!=2.25.0,<3.0.0.dev0,>=1.32.0 in e:\\anaconda\\install\\lib\\site-packages (from google-api-python-client>=1.2->PyDrive) (2.32.0)\n",
      "Requirement already satisfied: google-auth-httplib2<1.0.0,>=0.2.0 in e:\\anaconda\\install\\lib\\site-packages (from google-api-python-client>=1.2->PyDrive) (0.2.0)\n",
      "Requirement already satisfied: google-api-core!=2.0.*,!=2.1.*,!=2.2.*,!=2.3.0,<3.0.0.dev0,>=1.31.5 in e:\\anaconda\\install\\lib\\site-packages (from google-api-python-client>=1.2->PyDrive) (2.19.1)\n",
      "Requirement already satisfied: uritemplate<5,>=3.0.1 in e:\\anaconda\\install\\lib\\site-packages (from google-api-python-client>=1.2->PyDrive) (4.1.1)\n",
      "Requirement already satisfied: pyasn1>=0.1.7 in e:\\anaconda\\install\\lib\\site-packages (from oauth2client>=4.0.0->PyDrive) (0.4.8)\n",
      "Requirement already satisfied: pyasn1-modules>=0.0.5 in e:\\anaconda\\install\\lib\\site-packages (from oauth2client>=4.0.0->PyDrive) (0.2.8)\n",
      "Requirement already satisfied: rsa>=3.1.4 in e:\\anaconda\\install\\lib\\site-packages (from oauth2client>=4.0.0->PyDrive) (4.9)\n",
      "Requirement already satisfied: six>=1.6.1 in e:\\anaconda\\install\\lib\\site-packages (from oauth2client>=4.0.0->PyDrive) (1.15.0)\n",
      "Requirement already satisfied: googleapis-common-protos<2.0.dev0,>=1.56.2 in e:\\anaconda\\install\\lib\\site-packages (from google-api-core!=2.0.*,!=2.1.*,!=2.2.*,!=2.3.0,<3.0.0.dev0,>=1.31.5->google-api-python-client>=1.2->PyDrive) (1.63.2)\n",
      "Requirement already satisfied: protobuf!=3.20.0,!=3.20.1,!=4.21.0,!=4.21.1,!=4.21.2,!=4.21.3,!=4.21.4,!=4.21.5,<6.0.0.dev0,>=3.19.5 in e:\\anaconda\\install\\lib\\site-packages (from google-api-core!=2.0.*,!=2.1.*,!=2.2.*,!=2.3.0,<3.0.0.dev0,>=1.31.5->google-api-python-client>=1.2->PyDrive) (3.20.3)\n",
      "Requirement already satisfied: proto-plus<2.0.0dev,>=1.22.3 in e:\\anaconda\\install\\lib\\site-packages (from google-api-core!=2.0.*,!=2.1.*,!=2.2.*,!=2.3.0,<3.0.0.dev0,>=1.31.5->google-api-python-client>=1.2->PyDrive) (1.24.0)\n",
      "Requirement already satisfied: requests<3.0.0.dev0,>=2.18.0 in e:\\anaconda\\install\\lib\\site-packages (from google-api-core!=2.0.*,!=2.1.*,!=2.2.*,!=2.3.0,<3.0.0.dev0,>=1.31.5->google-api-python-client>=1.2->PyDrive) (2.24.0)\n",
      "Requirement already satisfied: cachetools<6.0,>=2.0.0 in e:\\anaconda\\install\\lib\\site-packages (from google-auth!=2.24.0,!=2.25.0,<3.0.0.dev0,>=1.32.0->google-api-python-client>=1.2->PyDrive) (4.2.2)\n",
      "Requirement already satisfied: pyparsing!=3.0.0,!=3.0.1,!=3.0.2,!=3.0.3,<4,>=2.4.2 in e:\\anaconda\\install\\lib\\site-packages (from httplib2<1.dev0,>=0.19.0->google-api-python-client>=1.2->PyDrive) (3.0.9)\n",
      "Requirement already satisfied: chardet<4,>=3.0.2 in e:\\anaconda\\install\\lib\\site-packages (from requests<3.0.0.dev0,>=2.18.0->google-api-core!=2.0.*,!=2.1.*,!=2.2.*,!=2.3.0,<3.0.0.dev0,>=1.31.5->google-api-python-client>=1.2->PyDrive) (3.0.4)\n",
      "Requirement already satisfied: idna<3,>=2.5 in e:\\anaconda\\install\\lib\\site-packages (from requests<3.0.0.dev0,>=2.18.0->google-api-core!=2.0.*,!=2.1.*,!=2.2.*,!=2.3.0,<3.0.0.dev0,>=1.31.5->google-api-python-client>=1.2->PyDrive) (2.10)\n",
      "Requirement already satisfied: urllib3!=1.25.0,!=1.25.1,<1.26,>=1.21.1 in e:\\anaconda\\install\\lib\\site-packages (from requests<3.0.0.dev0,>=2.18.0->google-api-core!=2.0.*,!=2.1.*,!=2.2.*,!=2.3.0,<3.0.0.dev0,>=1.31.5->google-api-python-client>=1.2->PyDrive) (1.25.10)\n",
      "Requirement already satisfied: certifi>=2017.4.17 in e:\\anaconda\\install\\lib\\site-packages (from requests<3.0.0.dev0,>=2.18.0->google-api-core!=2.0.*,!=2.1.*,!=2.2.*,!=2.3.0,<3.0.0.dev0,>=1.31.5->google-api-python-client>=1.2->PyDrive) (2020.6.20)\n"
     ]
    }
   ],
   "source": [
    "pip install PyDrive"
   ]
  },
  {
   "cell_type": "code",
   "execution_count": 8,
   "metadata": {},
   "outputs": [
    {
     "name": "stdout",
     "output_type": "stream",
     "text": [
      "Requirement already satisfied: PyDrive in e:\\anaconda\\install\\lib\\site-packages (1.3.1)\n",
      "Collecting google-auth-oauthlib\n",
      "  Downloading google_auth_oauthlib-1.2.1-py2.py3-none-any.whl (24 kB)\n",
      "Requirement already satisfied: google-api-python-client>=1.2 in e:\\anaconda\\install\\lib\\site-packages (from PyDrive) (2.137.0)\n",
      "Requirement already satisfied: oauth2client>=4.0.0 in e:\\anaconda\\install\\lib\\site-packages (from PyDrive) (4.1.3)\n",
      "Requirement already satisfied: PyYAML>=3.0 in e:\\anaconda\\install\\lib\\site-packages (from PyDrive) (6.0.1)\n",
      "Requirement already satisfied: google-auth>=2.15.0 in e:\\anaconda\\install\\lib\\site-packages (from google-auth-oauthlib) (2.32.0)\n",
      "Collecting requests-oauthlib>=0.7.0\n",
      "  Downloading requests_oauthlib-2.0.0-py2.py3-none-any.whl (24 kB)\n",
      "Requirement already satisfied: httplib2<1.dev0,>=0.19.0 in e:\\anaconda\\install\\lib\\site-packages (from google-api-python-client>=1.2->PyDrive) (0.22.0)\n",
      "Requirement already satisfied: google-auth-httplib2<1.0.0,>=0.2.0 in e:\\anaconda\\install\\lib\\site-packages (from google-api-python-client>=1.2->PyDrive) (0.2.0)\n",
      "Requirement already satisfied: google-api-core!=2.0.*,!=2.1.*,!=2.2.*,!=2.3.0,<3.0.0.dev0,>=1.31.5 in e:\\anaconda\\install\\lib\\site-packages (from google-api-python-client>=1.2->PyDrive) (2.19.1)\n",
      "Requirement already satisfied: uritemplate<5,>=3.0.1 in e:\\anaconda\\install\\lib\\site-packages (from google-api-python-client>=1.2->PyDrive) (4.1.1)\n",
      "Requirement already satisfied: cachetools<6.0,>=2.0.0 in e:\\anaconda\\install\\lib\\site-packages (from google-auth>=2.15.0->google-auth-oauthlib) (4.2.2)\n",
      "Requirement already satisfied: pyasn1-modules>=0.2.1 in e:\\anaconda\\install\\lib\\site-packages (from google-auth>=2.15.0->google-auth-oauthlib) (0.2.8)\n",
      "Requirement already satisfied: rsa<5,>=3.1.4 in e:\\anaconda\\install\\lib\\site-packages (from google-auth>=2.15.0->google-auth-oauthlib) (4.9)\n",
      "Requirement already satisfied: pyasn1>=0.1.7 in e:\\anaconda\\install\\lib\\site-packages (from oauth2client>=4.0.0->PyDrive) (0.4.8)\n",
      "Requirement already satisfied: six>=1.6.1 in e:\\anaconda\\install\\lib\\site-packages (from oauth2client>=4.0.0->PyDrive) (1.15.0)\n",
      "Collecting oauthlib>=3.0.0\n",
      "  Using cached oauthlib-3.2.2-py3-none-any.whl (151 kB)\n",
      "Requirement already satisfied: requests>=2.0.0 in e:\\anaconda\\install\\lib\\site-packages (from requests-oauthlib>=0.7.0->google-auth-oauthlib) (2.24.0)\n",
      "Requirement already satisfied: googleapis-common-protos<2.0.dev0,>=1.56.2 in e:\\anaconda\\install\\lib\\site-packages (from google-api-core!=2.0.*,!=2.1.*,!=2.2.*,!=2.3.0,<3.0.0.dev0,>=1.31.5->google-api-python-client>=1.2->PyDrive) (1.63.2)\n",
      "Requirement already satisfied: protobuf!=3.20.0,!=3.20.1,!=4.21.0,!=4.21.1,!=4.21.2,!=4.21.3,!=4.21.4,!=4.21.5,<6.0.0.dev0,>=3.19.5 in e:\\anaconda\\install\\lib\\site-packages (from google-api-core!=2.0.*,!=2.1.*,!=2.2.*,!=2.3.0,<3.0.0.dev0,>=1.31.5->google-api-python-client>=1.2->PyDrive) (3.20.3)\n",
      "Requirement already satisfied: proto-plus<2.0.0dev,>=1.22.3 in e:\\anaconda\\install\\lib\\site-packages (from google-api-core!=2.0.*,!=2.1.*,!=2.2.*,!=2.3.0,<3.0.0.dev0,>=1.31.5->google-api-python-client>=1.2->PyDrive) (1.24.0)\n",
      "Requirement already satisfied: pyparsing!=3.0.0,!=3.0.1,!=3.0.2,!=3.0.3,<4,>=2.4.2 in e:\\anaconda\\install\\lib\\site-packages (from httplib2<1.dev0,>=0.19.0->google-api-python-client>=1.2->PyDrive) (3.0.9)\n",
      "Requirement already satisfied: chardet<4,>=3.0.2 in e:\\anaconda\\install\\lib\\site-packages (from requests>=2.0.0->requests-oauthlib>=0.7.0->google-auth-oauthlib) (3.0.4)\n",
      "Requirement already satisfied: idna<3,>=2.5 in e:\\anaconda\\install\\lib\\site-packages (from requests>=2.0.0->requests-oauthlib>=0.7.0->google-auth-oauthlib) (2.10)\n",
      "Requirement already satisfied: urllib3!=1.25.0,!=1.25.1,<1.26,>=1.21.1 in e:\\anaconda\\install\\lib\\site-packages (from requests>=2.0.0->requests-oauthlib>=0.7.0->google-auth-oauthlib) (1.25.10)\n",
      "Requirement already satisfied: certifi>=2017.4.17 in e:\\anaconda\\install\\lib\\site-packages (from requests>=2.0.0->requests-oauthlib>=0.7.0->google-auth-oauthlib) (2020.6.20)\n",
      "Installing collected packages: oauthlib, requests-oauthlib, google-auth-oauthlib\n",
      "Successfully installed google-auth-oauthlib-1.2.1 oauthlib-3.2.2 requests-oauthlib-2.0.0\n",
      "Note: you may need to restart the kernel to use updated packages.\n"
     ]
    },
    {
     "name": "stderr",
     "output_type": "stream",
     "text": [
      "\n",
      "[notice] A new release of pip is available: 23.0.1 -> 24.1.2\n",
      "[notice] To update, run: python.exe -m pip install --upgrade pip\n"
     ]
    }
   ],
   "source": [
    "pip install PyDrive google-auth-oauthlib\n"
   ]
  },
  {
   "cell_type": "code",
   "execution_count": 10,
   "metadata": {},
   "outputs": [
    {
     "name": "stderr",
     "output_type": "stream",
     "text": [
      "E:\\Anaconda\\install\\Lib\\site-packages\\oauth2client\\_helpers.py:255: UserWarning: Cannot access mycreds.txt: No such file or directory\n",
      "  warnings.warn(_MISSING_FILE_MESSAGE.format(filename))\n"
     ]
    },
    {
     "ename": "InvalidConfigError",
     "evalue": "Invalid client secrets file ('Error opening file', 'client_secrets.json', 'No such file or directory', 2)",
     "output_type": "error",
     "traceback": [
      "\u001b[1;31m---------------------------------------------------------------------------\u001b[0m",
      "\u001b[1;31mFileNotFoundError\u001b[0m                         Traceback (most recent call last)",
      "File \u001b[1;32mE:\\Anaconda\\install\\Lib\\site-packages\\oauth2client\\clientsecrets.py:121\u001b[0m, in \u001b[0;36m_loadfile\u001b[1;34m(filename)\u001b[0m\n\u001b[0;32m    120\u001b[0m \u001b[38;5;28;01mtry\u001b[39;00m:\n\u001b[1;32m--> 121\u001b[0m     \u001b[38;5;28;01mwith\u001b[39;00m \u001b[38;5;28;43mopen\u001b[39;49m\u001b[43m(\u001b[49m\u001b[43mfilename\u001b[49m\u001b[43m,\u001b[49m\u001b[43m \u001b[49m\u001b[38;5;124;43m'\u001b[39;49m\u001b[38;5;124;43mr\u001b[39;49m\u001b[38;5;124;43m'\u001b[39;49m\u001b[43m)\u001b[49m \u001b[38;5;28;01mas\u001b[39;00m fp:\n\u001b[0;32m    122\u001b[0m         obj \u001b[38;5;241m=\u001b[39m json\u001b[38;5;241m.\u001b[39mload(fp)\n",
      "\u001b[1;31mFileNotFoundError\u001b[0m: [Errno 2] No such file or directory: 'client_secrets.json'",
      "\nDuring handling of the above exception, another exception occurred:\n",
      "\u001b[1;31mInvalidClientSecretsError\u001b[0m                 Traceback (most recent call last)",
      "File \u001b[1;32mE:\\Anaconda\\install\\Lib\\site-packages\\pydrive\\auth.py:386\u001b[0m, in \u001b[0;36mGoogleAuth.LoadClientConfigFile\u001b[1;34m(self, client_config_file)\u001b[0m\n\u001b[0;32m    385\u001b[0m \u001b[38;5;28;01mtry\u001b[39;00m:\n\u001b[1;32m--> 386\u001b[0m   client_type, client_info \u001b[38;5;241m=\u001b[39m \u001b[43mclientsecrets\u001b[49m\u001b[38;5;241;43m.\u001b[39;49m\u001b[43mloadfile\u001b[49m\u001b[43m(\u001b[49m\u001b[43mclient_config_file\u001b[49m\u001b[43m)\u001b[49m\n\u001b[0;32m    387\u001b[0m \u001b[38;5;28;01mexcept\u001b[39;00m clientsecrets\u001b[38;5;241m.\u001b[39mInvalidClientSecretsError \u001b[38;5;28;01mas\u001b[39;00m error:\n",
      "File \u001b[1;32mE:\\Anaconda\\install\\Lib\\site-packages\\oauth2client\\clientsecrets.py:165\u001b[0m, in \u001b[0;36mloadfile\u001b[1;34m(filename, cache)\u001b[0m\n\u001b[0;32m    164\u001b[0m \u001b[38;5;28;01mif\u001b[39;00m \u001b[38;5;129;01mnot\u001b[39;00m cache:\n\u001b[1;32m--> 165\u001b[0m     \u001b[38;5;28;01mreturn\u001b[39;00m \u001b[43m_loadfile\u001b[49m\u001b[43m(\u001b[49m\u001b[43mfilename\u001b[49m\u001b[43m)\u001b[49m\n\u001b[0;32m    167\u001b[0m obj \u001b[38;5;241m=\u001b[39m cache\u001b[38;5;241m.\u001b[39mget(filename, namespace\u001b[38;5;241m=\u001b[39m_SECRET_NAMESPACE)\n",
      "File \u001b[1;32mE:\\Anaconda\\install\\Lib\\site-packages\\oauth2client\\clientsecrets.py:124\u001b[0m, in \u001b[0;36m_loadfile\u001b[1;34m(filename)\u001b[0m\n\u001b[0;32m    123\u001b[0m \u001b[38;5;28;01mexcept\u001b[39;00m \u001b[38;5;167;01mIOError\u001b[39;00m \u001b[38;5;28;01mas\u001b[39;00m exc:\n\u001b[1;32m--> 124\u001b[0m     \u001b[38;5;28;01mraise\u001b[39;00m InvalidClientSecretsError(\u001b[38;5;124m'\u001b[39m\u001b[38;5;124mError opening file\u001b[39m\u001b[38;5;124m'\u001b[39m, exc\u001b[38;5;241m.\u001b[39mfilename,\n\u001b[0;32m    125\u001b[0m                                     exc\u001b[38;5;241m.\u001b[39mstrerror, exc\u001b[38;5;241m.\u001b[39merrno)\n\u001b[0;32m    126\u001b[0m \u001b[38;5;28;01mreturn\u001b[39;00m _validate_clientsecrets(obj)\n",
      "\u001b[1;31mInvalidClientSecretsError\u001b[0m: ('Error opening file', 'client_secrets.json', 'No such file or directory', 2)",
      "\nDuring handling of the above exception, another exception occurred:\n",
      "\u001b[1;31mInvalidConfigError\u001b[0m                        Traceback (most recent call last)",
      "Cell \u001b[1;32mIn[10], line 9\u001b[0m\n\u001b[0;32m      5\u001b[0m gauth\u001b[38;5;241m.\u001b[39mLoadCredentialsFile(\u001b[38;5;124m\"\u001b[39m\u001b[38;5;124mmycreds.txt\u001b[39m\u001b[38;5;124m\"\u001b[39m)  \u001b[38;5;66;03m# Specify your credentials file if needed\u001b[39;00m\n\u001b[0;32m      7\u001b[0m \u001b[38;5;28;01mif\u001b[39;00m gauth\u001b[38;5;241m.\u001b[39mcredentials \u001b[38;5;129;01mis\u001b[39;00m \u001b[38;5;28;01mNone\u001b[39;00m:\n\u001b[0;32m      8\u001b[0m     \u001b[38;5;66;03m# Authenticate if they're not there\u001b[39;00m\n\u001b[1;32m----> 9\u001b[0m     \u001b[43mgauth\u001b[49m\u001b[38;5;241;43m.\u001b[39;49m\u001b[43mLocalWebserverAuth\u001b[49m\u001b[43m(\u001b[49m\u001b[43m)\u001b[49m\n\u001b[0;32m     10\u001b[0m \u001b[38;5;28;01melif\u001b[39;00m gauth\u001b[38;5;241m.\u001b[39maccess_token_expired:\n\u001b[0;32m     11\u001b[0m     \u001b[38;5;66;03m# Refresh them if expired\u001b[39;00m\n\u001b[0;32m     12\u001b[0m     gauth\u001b[38;5;241m.\u001b[39mRefresh()\n",
      "File \u001b[1;32mE:\\Anaconda\\install\\Lib\\site-packages\\pydrive\\auth.py:113\u001b[0m, in \u001b[0;36mCheckAuth.<locals>._decorated\u001b[1;34m(self, *args, **kwargs)\u001b[0m\n\u001b[0;32m    111\u001b[0m   \u001b[38;5;28mself\u001b[39m\u001b[38;5;241m.\u001b[39mLoadCredentials()\n\u001b[0;32m    112\u001b[0m \u001b[38;5;28;01mif\u001b[39;00m \u001b[38;5;28mself\u001b[39m\u001b[38;5;241m.\u001b[39mflow \u001b[38;5;129;01mis\u001b[39;00m \u001b[38;5;28;01mNone\u001b[39;00m:\n\u001b[1;32m--> 113\u001b[0m   \u001b[38;5;28;43mself\u001b[39;49m\u001b[38;5;241;43m.\u001b[39;49m\u001b[43mGetFlow\u001b[49m\u001b[43m(\u001b[49m\u001b[43m)\u001b[49m\n\u001b[0;32m    114\u001b[0m \u001b[38;5;28;01mif\u001b[39;00m \u001b[38;5;28mself\u001b[39m\u001b[38;5;241m.\u001b[39mcredentials \u001b[38;5;129;01mis\u001b[39;00m \u001b[38;5;28;01mNone\u001b[39;00m:\n\u001b[0;32m    115\u001b[0m   code \u001b[38;5;241m=\u001b[39m decoratee(\u001b[38;5;28mself\u001b[39m, \u001b[38;5;241m*\u001b[39margs, \u001b[38;5;241m*\u001b[39m\u001b[38;5;241m*\u001b[39mkwargs)\n",
      "File \u001b[1;32mE:\\Anaconda\\install\\Lib\\site-packages\\pydrive\\auth.py:443\u001b[0m, in \u001b[0;36mGoogleAuth.GetFlow\u001b[1;34m(self)\u001b[0m\n\u001b[0;32m    437\u001b[0m \u001b[38;5;250m\u001b[39m\u001b[38;5;124;03m\"\"\"Gets Flow object from client configuration.\u001b[39;00m\n\u001b[0;32m    438\u001b[0m \n\u001b[0;32m    439\u001b[0m \u001b[38;5;124;03m:raises: InvalidConfigError\u001b[39;00m\n\u001b[0;32m    440\u001b[0m \u001b[38;5;124;03m\"\"\"\u001b[39;00m\n\u001b[0;32m    441\u001b[0m \u001b[38;5;28;01mif\u001b[39;00m \u001b[38;5;129;01mnot\u001b[39;00m \u001b[38;5;28mall\u001b[39m(config \u001b[38;5;129;01min\u001b[39;00m \u001b[38;5;28mself\u001b[39m\u001b[38;5;241m.\u001b[39mclient_config \\\n\u001b[0;32m    442\u001b[0m            \u001b[38;5;28;01mfor\u001b[39;00m config \u001b[38;5;129;01min\u001b[39;00m \u001b[38;5;28mself\u001b[39m\u001b[38;5;241m.\u001b[39mCLIENT_CONFIGS_LIST):\n\u001b[1;32m--> 443\u001b[0m   \u001b[38;5;28;43mself\u001b[39;49m\u001b[38;5;241;43m.\u001b[39;49m\u001b[43mLoadClientConfig\u001b[49m\u001b[43m(\u001b[49m\u001b[43m)\u001b[49m\n\u001b[0;32m    444\u001b[0m constructor_kwargs \u001b[38;5;241m=\u001b[39m {\n\u001b[0;32m    445\u001b[0m     \u001b[38;5;124m'\u001b[39m\u001b[38;5;124mredirect_uri\u001b[39m\u001b[38;5;124m'\u001b[39m: \u001b[38;5;28mself\u001b[39m\u001b[38;5;241m.\u001b[39mclient_config[\u001b[38;5;124m'\u001b[39m\u001b[38;5;124mredirect_uri\u001b[39m\u001b[38;5;124m'\u001b[39m],\n\u001b[0;32m    446\u001b[0m     \u001b[38;5;124m'\u001b[39m\u001b[38;5;124mauth_uri\u001b[39m\u001b[38;5;124m'\u001b[39m: \u001b[38;5;28mself\u001b[39m\u001b[38;5;241m.\u001b[39mclient_config[\u001b[38;5;124m'\u001b[39m\u001b[38;5;124mauth_uri\u001b[39m\u001b[38;5;124m'\u001b[39m],\n\u001b[0;32m    447\u001b[0m     \u001b[38;5;124m'\u001b[39m\u001b[38;5;124mtoken_uri\u001b[39m\u001b[38;5;124m'\u001b[39m: \u001b[38;5;28mself\u001b[39m\u001b[38;5;241m.\u001b[39mclient_config[\u001b[38;5;124m'\u001b[39m\u001b[38;5;124mtoken_uri\u001b[39m\u001b[38;5;124m'\u001b[39m],\n\u001b[0;32m    448\u001b[0m }\n\u001b[0;32m    449\u001b[0m \u001b[38;5;28;01mif\u001b[39;00m \u001b[38;5;28mself\u001b[39m\u001b[38;5;241m.\u001b[39mclient_config[\u001b[38;5;124m'\u001b[39m\u001b[38;5;124mrevoke_uri\u001b[39m\u001b[38;5;124m'\u001b[39m] \u001b[38;5;129;01mis\u001b[39;00m \u001b[38;5;129;01mnot\u001b[39;00m \u001b[38;5;28;01mNone\u001b[39;00m:\n",
      "File \u001b[1;32mE:\\Anaconda\\install\\Lib\\site-packages\\pydrive\\auth.py:366\u001b[0m, in \u001b[0;36mGoogleAuth.LoadClientConfig\u001b[1;34m(self, backend)\u001b[0m\n\u001b[0;32m    364\u001b[0m     \u001b[38;5;28;01mraise\u001b[39;00m InvalidConfigError(\u001b[38;5;124m'\u001b[39m\u001b[38;5;124mPlease specify client config backend\u001b[39m\u001b[38;5;124m'\u001b[39m)\n\u001b[0;32m    365\u001b[0m \u001b[38;5;28;01mif\u001b[39;00m backend \u001b[38;5;241m==\u001b[39m \u001b[38;5;124m'\u001b[39m\u001b[38;5;124mfile\u001b[39m\u001b[38;5;124m'\u001b[39m:\n\u001b[1;32m--> 366\u001b[0m   \u001b[38;5;28;43mself\u001b[39;49m\u001b[38;5;241;43m.\u001b[39;49m\u001b[43mLoadClientConfigFile\u001b[49m\u001b[43m(\u001b[49m\u001b[43m)\u001b[49m\n\u001b[0;32m    367\u001b[0m \u001b[38;5;28;01melif\u001b[39;00m backend \u001b[38;5;241m==\u001b[39m \u001b[38;5;124m'\u001b[39m\u001b[38;5;124msettings\u001b[39m\u001b[38;5;124m'\u001b[39m:\n\u001b[0;32m    368\u001b[0m   \u001b[38;5;28mself\u001b[39m\u001b[38;5;241m.\u001b[39mLoadClientConfigSettings()\n",
      "File \u001b[1;32mE:\\Anaconda\\install\\Lib\\site-packages\\pydrive\\auth.py:388\u001b[0m, in \u001b[0;36mGoogleAuth.LoadClientConfigFile\u001b[1;34m(self, client_config_file)\u001b[0m\n\u001b[0;32m    386\u001b[0m   client_type, client_info \u001b[38;5;241m=\u001b[39m clientsecrets\u001b[38;5;241m.\u001b[39mloadfile(client_config_file)\n\u001b[0;32m    387\u001b[0m \u001b[38;5;28;01mexcept\u001b[39;00m clientsecrets\u001b[38;5;241m.\u001b[39mInvalidClientSecretsError \u001b[38;5;28;01mas\u001b[39;00m error:\n\u001b[1;32m--> 388\u001b[0m   \u001b[38;5;28;01mraise\u001b[39;00m InvalidConfigError(\u001b[38;5;124m'\u001b[39m\u001b[38;5;124mInvalid client secrets file \u001b[39m\u001b[38;5;132;01m%s\u001b[39;00m\u001b[38;5;124m'\u001b[39m \u001b[38;5;241m%\u001b[39m error)\n\u001b[0;32m    389\u001b[0m \u001b[38;5;28;01mif\u001b[39;00m \u001b[38;5;129;01mnot\u001b[39;00m client_type \u001b[38;5;129;01min\u001b[39;00m (clientsecrets\u001b[38;5;241m.\u001b[39mTYPE_WEB,\n\u001b[0;32m    390\u001b[0m                        clientsecrets\u001b[38;5;241m.\u001b[39mTYPE_INSTALLED):\n\u001b[0;32m    391\u001b[0m   \u001b[38;5;28;01mraise\u001b[39;00m InvalidConfigError(\u001b[38;5;124m'\u001b[39m\u001b[38;5;124mUnknown client_type of client config file\u001b[39m\u001b[38;5;124m'\u001b[39m)\n",
      "\u001b[1;31mInvalidConfigError\u001b[0m: Invalid client secrets file ('Error opening file', 'client_secrets.json', 'No such file or directory', 2)"
     ]
    }
   ],
   "source": [
    "from pydrive.auth import GoogleAuth\n",
    "from pydrive.drive import GoogleDrive\n",
    "\n",
    "gauth = GoogleAuth()\n",
    "gauth.LoadCredentialsFile(\"mycreds.txt\")  # Specify your credentials file if needed\n",
    "\n",
    "if gauth.credentials is None:\n",
    "    # Authenticate if they're not there\n",
    "    gauth.LocalWebserverAuth()\n",
    "elif gauth.access_token_expired:\n",
    "    # Refresh them if expired\n",
    "    gauth.Refresh()\n",
    "else:\n",
    "    # Initialize the saved creds\n",
    "    gauth.Authorize()\n",
    "\n",
    "# Save the current credentials to a file\n",
    "gauth.SaveCredentialsFile(\"mycreds.txt\")\n",
    "\n",
    "drive = GoogleDrive(gauth)\n",
    "\n",
    "# List files in Google Drive\n",
    "file_list = drive.ListFile({'q': \"'root' in parents and trashed=false\"}).GetList()\n",
    "for file in file_list:\n",
    "    print('title: %s, id: %s' % (file['title'], file['id']))\n"
   ]
  },
  {
   "cell_type": "code",
   "execution_count": null,
   "metadata": {},
   "outputs": [],
   "source": []
  },
  {
   "cell_type": "code",
   "execution_count": 7,
   "metadata": {
    "colab": {
     "base_uri": "https://localhost:8080/"
    },
    "id": "n_ncJAFDEbs1",
    "outputId": "a09be9aa-5efa-45c6-b212-e9ebec9db71a"
   },
   "outputs": [
    {
     "ename": "ModuleNotFoundError",
     "evalue": "No module named 'google.colab'",
     "output_type": "error",
     "traceback": [
      "\u001b[1;31m---------------------------------------------------------------------------\u001b[0m",
      "\u001b[1;31mModuleNotFoundError\u001b[0m                       Traceback (most recent call last)",
      "Cell \u001b[1;32mIn[7], line 1\u001b[0m\n\u001b[1;32m----> 1\u001b[0m \u001b[38;5;28;01mfrom\u001b[39;00m \u001b[38;5;21;01mgoogle\u001b[39;00m\u001b[38;5;21;01m.\u001b[39;00m\u001b[38;5;21;01mcolab\u001b[39;00m \u001b[38;5;28;01mimport\u001b[39;00m drive\n\u001b[0;32m      2\u001b[0m drive\u001b[38;5;241m.\u001b[39mmount(\u001b[38;5;124m'\u001b[39m\u001b[38;5;124m/content/drive\u001b[39m\u001b[38;5;124m'\u001b[39m)\n",
      "\u001b[1;31mModuleNotFoundError\u001b[0m: No module named 'google.colab'"
     ]
    }
   ],
   "source": [
    "from google.colab import drive\n",
    "drive.mount('/content/drive')"
   ]
  },
  {
   "cell_type": "code",
   "execution_count": null,
   "metadata": {},
   "outputs": [],
   "source": []
  },
  {
   "cell_type": "markdown",
   "metadata": {
    "id": "5dL78wl-ElhS"
   },
   "source": [
    "# Q.1\n",
    "**Statement:** You are working with a retail store that needs to manage its inventory efficiently. They have provided you with a dataset containing information about products, their quantities in stock, and the number of units sold daily for the past week. Total number of products are 5. Your task is to calculate the following:\n",
    "\n",
    "\n",
    "\n",
    "1.The total sales for each product over the past week.\n",
    "\n",
    "2.The average daily sales for each product.\n",
    "\n",
    "3.The product with the highest sales.\n",
    "\n",
    "4.The product with the lowest sales.\n",
    "\n",
    "5.The total sales for all products combined.\n",
    "\n",
    "You are required to use NumPy for efficient data processing and calculations. Write code to solve this inventory management problem."
   ]
  },
  {
   "cell_type": "code",
   "execution_count": null,
   "metadata": {
    "id": "DxtXsLXRVpdW"
   },
   "outputs": [],
   "source": [
    "import numpy as np\n",
    "\n",
    "# Sample data (replace with your actual data)\n",
    "product_names = np.array(['Product A', 'Product B', 'Product C', 'Product D', 'Product E'])\n",
    "quantities_in_stock = np.array([100, 150, 200, 250, 50])\n",
    "\n",
    "daily_sales_data = np.array([[10, 15, 20, 25, 30, 35, 40],\n",
    "                             [5, 7, 8, 10, 12, 14, 16],\n",
    "                             [15, 20, 25, 30, 35, 40, 40],\n",
    "                             [12, 25, 20, 40, 20, 32, 55],\n",
    "                             [15, 20, 25, 30, 35, 40, 45]])\n",
    "\n",
    "# Calculate total sales revenue for each product over the past week\n",
    "\n",
    "\n",
    "# Calculate average daily sales for each product\n",
    "\n",
    "# Find the product with the highest and lowest sales\n",
    "\n",
    "\n",
    "# Calculate the total sales revenue for all products combined\n"
   ]
  },
  {
   "cell_type": "markdown",
   "metadata": {
    "id": "ICk1qoQHVwDc"
   },
   "source": [
    "# Q.2\n",
    "**Statement:** Statement: You are working with a manufacturing plant that produces various components. They have provided you with data on the production rates of five different machines over the past month. Your task is to analyze the performance of these machines by calculating the following metrics:\n",
    "\n",
    "1.The total production output for each machine over the past month.\n",
    "\n",
    "2.The average daily production rate for each machine.\n",
    "\n",
    "3.The machine with the highest total production output.\n",
    "\n",
    "4.The machine with the lowest total production output.\n",
    "\n",
    "The overall production efficiency of the plant, which is defined as the ratio of the total production output to the total number of hours worked, and working hour for each day is 2 hours."
   ]
  },
  {
   "cell_type": "code",
   "execution_count": null,
   "metadata": {
    "id": "lIu6pfmgbUQd"
   },
   "outputs": [],
   "source": [
    "\n",
    "\n",
    "# Sample data (replace with your actual data)\n",
    "\n",
    "\n",
    "# Generate random production rates between 100 and 200 for 5 machines and 30 days\n",
    "\n",
    "\n",
    "# Calculate total production output for each machine over the past month\n",
    "\n",
    "\n",
    "# Calculate average daily production rate for each machine\n",
    "\n",
    "\n",
    "# Find the machine with the highest and lowest total production output\n",
    "\n",
    "\n",
    "# Calculate the overall production efficiency of the plant\n",
    "\n"
   ]
  },
  {
   "cell_type": "markdown",
   "metadata": {
    "id": "Ayc9TG-vff7A"
   },
   "source": [
    "# Q3:\n",
    "\n",
    "**Statment**\n",
    "You are working on a project that involves simulating sensor data for a network of 10 sensors over a period of 15 days. Each sensor collects data once per hour. Your task is to generate a NumPy array named sensor_data to represent this simulated sensor data and perform following statistical analysis on it.\n",
    "\n",
    "Populate the sensor_data array with random floating-point values between 0.0 and 100.0\n",
    "The generated values should represent sensor readings collected once per hour.\n",
    "\n",
    "After generating the sensor_data array, perform the following statistical **calculations:**\n",
    "\n",
    "1.Calculate the mean (average) sensor reading for each sensor over the 15 days.\n",
    "\n",
    "2.Calculate the standard deviation of sensor readings for each sensor.\n",
    "\n",
    "3.Calculate the maximum sensor reading for each sensor.\n",
    "\n",
    "4.Calculate the minimum sensor reading for each sensor.\n",
    "\n",
    "5.Calculate the overall mean sensor reading for all sensors and all days.\n",
    "\n",
    "6.Calculate the overall standard deviation of sensor readings for all sensors an"
   ]
  },
  {
   "cell_type": "code",
   "execution_count": null,
   "metadata": {
    "id": "TWSK9GA1gfz0"
   },
   "outputs": [],
   "source": [
    "import numpy as np\n",
    "\n",
    "# Data Generation Requirements\n",
    "num_sensors = 10\n",
    "num_days = 15\n",
    "hours_per_day = 24\n",
    "shape = (num_sensors, num_days * hours_per_day)\n",
    "\n"
   ]
  },
  {
   "cell_type": "markdown",
   "metadata": {
    "id": "IShr0NSyhcEc"
   },
   "source": [
    "# Q4:\n",
    "\n",
    "**Statement**: You are tasked with analyzing the exam scores of 30 students in a class over a period of 10 exams. The exam scores are represented as a NumPy, where each row corresponds to a different student, and each column represents their score in a specific exam.\n",
    "\n",
    "Populate the exam_scores array with random integer values between 50 and 100 to simulate students' exam performance.\n",
    "\n",
    "After generating the exam_scores array, perform the following tasks:\n",
    "\n",
    "1.Calculate the average score for each student over the 10 exams.\n",
    "\n",
    "2.Calculate the standard deviation of scores for each student.\n",
    "\n",
    "3.Identify students who have consistently performed well, defined as those whose average score is above 85.\n",
    "\n",
    "4.Identify students who may need additional support, defined as those whose average score is below 50.\n",
    "\n",
    "Write code to create and populate the exam_scores array and then perform the specified statistical analysis and performance evaluation tasks on the data.\n",
    "\n",
    "\n",
    "\n"
   ]
  },
  {
   "cell_type": "code",
   "execution_count": null,
   "metadata": {
    "id": "F3p_SMeoiT2o"
   },
   "outputs": [],
   "source": [
    "import numpy as np\n",
    "\n",
    "# Create the exam_scores array (30 students, 10 exams)\n",
    "num_students = 30\n",
    "num_exams = 10\n",
    "\n",
    "# Populate the exam_scores array with random scores between 50 and 100\n",
    "\n",
    "# 1. Calculate the average score for each student over the 10 exams\n",
    "\n",
    "# 2. Calculate the standard deviation of scores for each student\n",
    "\n",
    "# 3. Identify students who have consistently performed well (average score > 85)\n",
    "\n",
    "# 4. Identify students who may need additional support (average score < 60)\n",
    "\n"
   ]
  }
 ],
 "metadata": {
  "colab": {
   "provenance": []
  },
  "kernelspec": {
   "display_name": "Python 3 (ipykernel)",
   "language": "python",
   "name": "python3"
  },
  "language_info": {
   "codemirror_mode": {
    "name": "ipython",
    "version": 3
   },
   "file_extension": ".py",
   "mimetype": "text/x-python",
   "name": "python",
   "nbconvert_exporter": "python",
   "pygments_lexer": "ipython3",
   "version": "3.11.7"
  }
 },
 "nbformat": 4,
 "nbformat_minor": 4
}
